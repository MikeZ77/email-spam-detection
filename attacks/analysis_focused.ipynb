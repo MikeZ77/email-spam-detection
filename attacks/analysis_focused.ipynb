{
 "cells": [
  {
   "cell_type": "code",
   "execution_count": 1,
   "id": "3ff090cf",
   "metadata": {},
   "outputs": [],
   "source": [
    "import numpy as np\n",
    "import pandas as pd\n",
    "import matplotlib.pyplot as plt\n",
    "%matplotlib inline\n",
    "import seaborn as sns\n",
    "import re\n",
    "import pickle\n",
    "from sklearn.model_selection import train_test_split\n",
    "from sklearn.feature_extraction.text import CountVectorizer\n",
    "from sklearn.metrics import classification_report, confusion_matrix, ConfusionMatrixDisplay\n",
    "from sklearn.metrics import precision_recall_fscore_support as score\n",
    "from sklearn.linear_model import LogisticRegression\n",
    "from sklearn.naive_bayes import MultinomialNB\n",
    "from sklearn.ensemble import RandomForestClassifier\n",
    "from sklearn.metrics import classification_report, confusion_matrix, ConfusionMatrixDisplay\n",
    "from sklearn.metrics import precision_recall_fscore_support as score\n",
    "from sklearn import svm\n",
    "from sklearn.neighbors import KNeighborsClassifier\n",
    "from sklearn.metrics import roc_curve\n",
    "from sklearn.metrics import roc_auc_score"
   ]
  },
  {
   "cell_type": "code",
   "execution_count": 2,
   "id": "9850bcdd",
   "metadata": {},
   "outputs": [],
   "source": [
    "from simple_attacks import SimpleAttack\n",
    "attack = SimpleAttack()"
   ]
  },
  {
   "cell_type": "code",
   "execution_count": 3,
   "id": "89acfc1d",
   "metadata": {},
   "outputs": [],
   "source": [
    "enron_vec = pd.read_csv('data/enron_cleaned.csv')\n",
    "enron_vec = enron_vec.fillna('')\n",
    "bigram_vectorizer = CountVectorizer(ngram_range = (2, 2))\n",
    "corpus_fitted = bigram_vectorizer.fit(enron_vec['clean_msg_no_lst'])"
   ]
  },
  {
   "cell_type": "code",
   "execution_count": 4,
   "id": "9f23e28d",
   "metadata": {},
   "outputs": [],
   "source": [
    "with open('models/rf_pkl', 'rb') as f:\n",
    "    rf = pickle.load(f)\n",
    "    \n",
    "with open('models/mbayes_pkl', 'rb') as f:\n",
    "    mbayes = pickle.load(f)\n",
    "    \n",
    "with open('models/lr_pkl', 'rb') as f:\n",
    "    lr = pickle.load(f)\n",
    "    \n",
    "with open('models/svm_pkl', 'rb') as f:\n",
    "    svm_SVC = pickle.load(f)\n",
    "    \n",
    "with open('models/knn_pkl', 'rb') as f:\n",
    "    knn = pickle.load(f)"
   ]
  },
  {
   "cell_type": "markdown",
   "id": "3244071d",
   "metadata": {},
   "source": [
    "# Focused Attack\n",
    "**Experiment:** Target Vincent Kaminski (Managing Director for Research in energy trading) by sending spam. Retrain models on the new spam. Determine recall on validation set and how many ham Vincent Kaminski emails were flagged as spam."
   ]
  },
  {
   "cell_type": "markdown",
   "id": "44fc8b0f",
   "metadata": {},
   "source": [
    "### Validation Set Emails that contain vince kaminski"
   ]
  },
  {
   "cell_type": "code",
   "execution_count": 5,
   "id": "22a35e7d",
   "metadata": {},
   "outputs": [],
   "source": [
    "def find_target_emails(email, target):\n",
    "    email = str(email['clean_msg_no_lst'])\n",
    "    if email.find(target) != -1:\n",
    "        return email\n",
    "    else:\n",
    "        return np.nan\n",
    "\n",
    "target = 'vince kaminski'\n",
    "\n",
    "X_train, X_test, Y_train, Y_test = train_test_split(enron_vec[['clean_msg_no_lst']], enron_vec.target, random_state = 42, test_size = 0.2)\n",
    "target_emails_df = X_test.apply(lambda email: find_target_emails(email, target), axis=1).to_frame('clean_msg_no_lst')\n",
    "target_emails_df['target'] = Y_test\n",
    "target_emails_df = target_emails_df[target_emails_df['clean_msg_no_lst'].notnull()]\n",
    "\n",
    "X_focused_fitted = corpus_fitted.transform(target_emails_df['clean_msg_no_lst'])\n",
    "Y_focused = target_emails_df['target']"
   ]
  },
  {
   "cell_type": "markdown",
   "id": "951ef8ab",
   "metadata": {},
   "source": [
    "### Baseline Random Forest"
   ]
  },
  {
   "cell_type": "code",
   "execution_count": 6,
   "id": "1c44317e",
   "metadata": {},
   "outputs": [
    {
     "name": "stdout",
     "output_type": "stream",
     "text": [
      "              precision    recall  f1-score   support\n",
      "\n",
      "           0       1.00      1.00      1.00       361\n",
      "\n",
      "    accuracy                           1.00       361\n",
      "   macro avg       1.00      1.00      1.00       361\n",
      "weighted avg       1.00      1.00      1.00       361\n",
      "\n",
      "[[361]]\n"
     ]
    }
   ],
   "source": [
    "rf_predictions = rf.predict(X_focused_fitted)\n",
    "print(classification_report(Y_focused, rf_predictions))\n",
    "print(confusion_matrix(Y_focused, rf_predictions))"
   ]
  },
  {
   "cell_type": "markdown",
   "id": "177599a4",
   "metadata": {},
   "source": [
    "### Baseline Naive Bayes"
   ]
  },
  {
   "cell_type": "code",
   "execution_count": 7,
   "id": "41959101",
   "metadata": {},
   "outputs": [
    {
     "name": "stdout",
     "output_type": "stream",
     "text": [
      "              precision    recall  f1-score   support\n",
      "\n",
      "           0       1.00      1.00      1.00       361\n",
      "\n",
      "    accuracy                           1.00       361\n",
      "   macro avg       1.00      1.00      1.00       361\n",
      "weighted avg       1.00      1.00      1.00       361\n",
      "\n",
      "[[361]]\n"
     ]
    }
   ],
   "source": [
    "mbayes_predictions = mbayes.predict(X_focused_fitted)\n",
    "print(classification_report(Y_focused, mbayes_predictions))\n",
    "print(confusion_matrix(Y_focused, mbayes_predictions))"
   ]
  },
  {
   "cell_type": "markdown",
   "id": "751883a1",
   "metadata": {},
   "source": [
    "### Baseline Logistic Regression"
   ]
  },
  {
   "cell_type": "code",
   "execution_count": 8,
   "id": "f43fa049",
   "metadata": {},
   "outputs": [
    {
     "name": "stdout",
     "output_type": "stream",
     "text": [
      "              precision    recall  f1-score   support\n",
      "\n",
      "           0       1.00      1.00      1.00       361\n",
      "\n",
      "    accuracy                           1.00       361\n",
      "   macro avg       1.00      1.00      1.00       361\n",
      "weighted avg       1.00      1.00      1.00       361\n",
      "\n",
      "[[361]]\n"
     ]
    }
   ],
   "source": [
    "lr_predictions = lr.predict(X_focused_fitted)\n",
    "print(classification_report(Y_focused, lr_predictions))\n",
    "print(confusion_matrix(Y_focused, lr_predictions))"
   ]
  },
  {
   "cell_type": "markdown",
   "id": "839cf5be",
   "metadata": {},
   "source": [
    "### Baseline SVM"
   ]
  },
  {
   "cell_type": "code",
   "execution_count": 9,
   "id": "36e3507b",
   "metadata": {},
   "outputs": [
    {
     "name": "stdout",
     "output_type": "stream",
     "text": [
      "              precision    recall  f1-score   support\n",
      "\n",
      "           0       1.00      1.00      1.00       361\n",
      "\n",
      "    accuracy                           1.00       361\n",
      "   macro avg       1.00      1.00      1.00       361\n",
      "weighted avg       1.00      1.00      1.00       361\n",
      "\n",
      "[[361]]\n"
     ]
    }
   ],
   "source": [
    "svm_SVC_predictions = svm_SVC.predict(X_focused_fitted)\n",
    "print(classification_report(Y_focused, svm_SVC_predictions))\n",
    "print(confusion_matrix(Y_focused, svm_SVC_predictions))"
   ]
  },
  {
   "cell_type": "markdown",
   "id": "fa5068f0",
   "metadata": {},
   "source": [
    "### Baseline KNN"
   ]
  },
  {
   "cell_type": "code",
   "execution_count": 10,
   "id": "5fda2bfc",
   "metadata": {},
   "outputs": [
    {
     "name": "stdout",
     "output_type": "stream",
     "text": [
      "[[360   1]\n",
      " [  0   0]]\n",
      "              precision    recall  f1-score   support\n",
      "\n",
      "           0       1.00      1.00      1.00       361\n",
      "           1       0.00      0.00      0.00         0\n",
      "\n",
      "    accuracy                           1.00       361\n",
      "   macro avg       0.50      0.50      0.50       361\n",
      "weighted avg       1.00      1.00      1.00       361\n",
      "\n"
     ]
    },
    {
     "name": "stderr",
     "output_type": "stream",
     "text": [
      "/home/mzaghi/CMPT413/email-spam-detection/venv/lib/python3.8/site-packages/sklearn/metrics/_classification.py:1308: UndefinedMetricWarning: Recall and F-score are ill-defined and being set to 0.0 in labels with no true samples. Use `zero_division` parameter to control this behavior.\n",
      "  _warn_prf(average, modifier, msg_start, len(result))\n",
      "/home/mzaghi/CMPT413/email-spam-detection/venv/lib/python3.8/site-packages/sklearn/metrics/_classification.py:1308: UndefinedMetricWarning: Recall and F-score are ill-defined and being set to 0.0 in labels with no true samples. Use `zero_division` parameter to control this behavior.\n",
      "  _warn_prf(average, modifier, msg_start, len(result))\n",
      "/home/mzaghi/CMPT413/email-spam-detection/venv/lib/python3.8/site-packages/sklearn/metrics/_classification.py:1308: UndefinedMetricWarning: Recall and F-score are ill-defined and being set to 0.0 in labels with no true samples. Use `zero_division` parameter to control this behavior.\n",
      "  _warn_prf(average, modifier, msg_start, len(result))\n"
     ]
    }
   ],
   "source": [
    "knn_predictions = knn.predict(X_focused_fitted)\n",
    "print(confusion_matrix(Y_focused, knn_predictions))\n",
    "print(classification_report(Y_focused, knn_predictions))"
   ]
  },
  {
   "cell_type": "markdown",
   "id": "b53dea55",
   "metadata": {},
   "source": [
    "## Retrain Models on Updated Spam"
   ]
  },
  {
   "cell_type": "code",
   "execution_count": 23,
   "id": "743a674a",
   "metadata": {
    "scrolled": true
   },
   "outputs": [],
   "source": [
    "attack_spam_df = attack.focused_attack(target, num_spam=20000)\n",
    "train, _, _, _ = train_test_split(enron_vec[['clean_msg_no_lst', 'target']], enron_vec.target, random_state = 42, test_size = 0.2)\n",
    "train = train.append(attack_spam_df).reset_index()\n",
    "Y_train = train['target']\n",
    "# corpus_fitted = bigram_vectorizer.fit(train['clean_msg_no_lst'])\n",
    "X_train_fitted = corpus_fitted.transform(train['clean_msg_no_lst'])"
   ]
  },
  {
   "cell_type": "code",
   "execution_count": 24,
   "id": "8da8a3c2",
   "metadata": {},
   "outputs": [],
   "source": [
    "rf = RandomForestClassifier(n_estimators = 50, max_depth = None, random_state = 42, n_jobs = -1).fit(X_train_fitted, Y_train)\n",
    "\n",
    "with open('models/rf_focused_pkl', 'wb') as files:\n",
    "    pickle.dump(rf, files)"
   ]
  },
  {
   "cell_type": "code",
   "execution_count": 25,
   "id": "cd483da2",
   "metadata": {},
   "outputs": [],
   "source": [
    "mbayes = MultinomialNB().fit(X_train_fitted, Y_train)\n",
    "\n",
    "with open('models/mbayes_focused_pkl', 'wb') as files:\n",
    "    pickle.dump(mbayes, files)"
   ]
  },
  {
   "cell_type": "code",
   "execution_count": 26,
   "id": "9535cd7f",
   "metadata": {},
   "outputs": [],
   "source": [
    "lr = LogisticRegression().fit(X_train_fitted, Y_train)\n",
    "\n",
    "with open('models/lr_focused_pkl', 'wb') as files:\n",
    "    pickle.dump(lr, files)"
   ]
  },
  {
   "cell_type": "code",
   "execution_count": 27,
   "id": "0097f147",
   "metadata": {},
   "outputs": [],
   "source": [
    "svm_SVC = svm.SVC(kernel = 'rbf', gamma =  0.01).fit(X_train_fitted, Y_train)\n",
    "\n",
    "with open('models/svm_focused_pkl', 'wb') as files:\n",
    "    pickle.dump(svm_SVC, files)"
   ]
  },
  {
   "cell_type": "code",
   "execution_count": 28,
   "id": "4e1c3492",
   "metadata": {},
   "outputs": [],
   "source": [
    "knn = KNeighborsClassifier(n_neighbors = 3).fit(X_train_fitted, Y_train)\n",
    "\n",
    "with open('models/knn_focused_pkl', 'wb') as files:\n",
    "    pickle.dump(knn, files)"
   ]
  },
  {
   "cell_type": "markdown",
   "id": "f573ddf5",
   "metadata": {},
   "source": [
    "# Focused Attack Impact"
   ]
  },
  {
   "cell_type": "code",
   "execution_count": 29,
   "id": "9ac96c8f",
   "metadata": {},
   "outputs": [],
   "source": [
    "with open('models/rf_focused_pkl', 'rb') as f:\n",
    "    rf = pickle.load(f)\n",
    "    \n",
    "with open('models/mbayes_focused_pkl', 'rb') as f:\n",
    "    mbayes = pickle.load(f)\n",
    "    \n",
    "with open('models/lr_focused_pkl', 'rb') as f:\n",
    "    lr = pickle.load(f)\n",
    "    \n",
    "with open('models/svm_focused_pkl', 'rb') as f:\n",
    "    svm_SVC = pickle.load(f)\n",
    "    \n",
    "with open('models/knn_focused_pkl', 'rb') as f:\n",
    "    knn = pickle.load(f)"
   ]
  },
  {
   "cell_type": "markdown",
   "id": "78fa3dff",
   "metadata": {},
   "source": [
    "### Random Forest"
   ]
  },
  {
   "cell_type": "code",
   "execution_count": 30,
   "id": "7e935ba9",
   "metadata": {},
   "outputs": [
    {
     "name": "stdout",
     "output_type": "stream",
     "text": [
      "              precision    recall  f1-score   support\n",
      "\n",
      "           0       1.00      0.99      0.99       361\n",
      "           1       0.00      0.00      0.00         0\n",
      "\n",
      "    accuracy                           0.99       361\n",
      "   macro avg       0.50      0.49      0.50       361\n",
      "weighted avg       1.00      0.99      0.99       361\n",
      "\n",
      "[[357   4]\n",
      " [  0   0]]\n"
     ]
    },
    {
     "name": "stderr",
     "output_type": "stream",
     "text": [
      "/home/mzaghi/CMPT413/email-spam-detection/venv/lib/python3.8/site-packages/sklearn/metrics/_classification.py:1308: UndefinedMetricWarning: Recall and F-score are ill-defined and being set to 0.0 in labels with no true samples. Use `zero_division` parameter to control this behavior.\n",
      "  _warn_prf(average, modifier, msg_start, len(result))\n",
      "/home/mzaghi/CMPT413/email-spam-detection/venv/lib/python3.8/site-packages/sklearn/metrics/_classification.py:1308: UndefinedMetricWarning: Recall and F-score are ill-defined and being set to 0.0 in labels with no true samples. Use `zero_division` parameter to control this behavior.\n",
      "  _warn_prf(average, modifier, msg_start, len(result))\n",
      "/home/mzaghi/CMPT413/email-spam-detection/venv/lib/python3.8/site-packages/sklearn/metrics/_classification.py:1308: UndefinedMetricWarning: Recall and F-score are ill-defined and being set to 0.0 in labels with no true samples. Use `zero_division` parameter to control this behavior.\n",
      "  _warn_prf(average, modifier, msg_start, len(result))\n"
     ]
    },
    {
     "data": {
      "image/png": "[encoded data removed]",
      "text/plain": [
       "<Figure size 432x288 with 2 Axes>"
      ]
     },
     "metadata": {
      "needs_background": "light"
     },
     "output_type": "display_data"
    }
   ],
   "source": [
    "rf_predictions = rf.predict(X_focused_fitted)\n",
    "print(classification_report(Y_focused, rf_predictions))\n",
    "print(confusion_matrix(Y_focused, rf_predictions))\n",
    "\n",
    "cm_rf = confusion_matrix(Y_focused, rf_predictions)\n",
    "cmd_rf = ConfusionMatrixDisplay(cm_rf, display_labels=['ham','spam'])\n",
    "cmd_rf.plot();"
   ]
  },
  {
   "cell_type": "markdown",
   "id": "56f3c970",
   "metadata": {},
   "source": [
    "### Naive Bayes"
   ]
  },
  {
   "cell_type": "code",
   "execution_count": 31,
   "id": "fe8081e0",
   "metadata": {},
   "outputs": [
    {
     "name": "stdout",
     "output_type": "stream",
     "text": [
      "              precision    recall  f1-score   support\n",
      "\n",
      "           0       1.00      1.00      1.00       361\n",
      "\n",
      "    accuracy                           1.00       361\n",
      "   macro avg       1.00      1.00      1.00       361\n",
      "weighted avg       1.00      1.00      1.00       361\n",
      "\n",
      "[[361]]\n"
     ]
    }
   ],
   "source": [
    "mbayes_predictions = mbayes.predict(X_focused_fitted)\n",
    "print(classification_report(Y_focused, mbayes_predictions))\n",
    "print(confusion_matrix(Y_focused, mbayes_predictions))\n",
    "\n",
    "# cm_mbayes = confusion_matrix(Y_focused, mbayes_predictions)\n",
    "# cmd_mbayes = ConfusionMatrixDisplay(cm_mbayes, display_labels=['ham','spam'])\n",
    "# cmd_mbayes.plot();"
   ]
  },
  {
   "cell_type": "markdown",
   "id": "b7a7f726",
   "metadata": {},
   "source": [
    "### Logistic Regression"
   ]
  },
  {
   "cell_type": "code",
   "execution_count": 32,
   "id": "c9b4b355",
   "metadata": {},
   "outputs": [
    {
     "name": "stdout",
     "output_type": "stream",
     "text": [
      "              precision    recall  f1-score   support\n",
      "\n",
      "           0       1.00      0.91      0.96       361\n",
      "           1       0.00      0.00      0.00         0\n",
      "\n",
      "    accuracy                           0.91       361\n",
      "   macro avg       0.50      0.46      0.48       361\n",
      "weighted avg       1.00      0.91      0.96       361\n",
      "\n",
      "[[330  31]\n",
      " [  0   0]]\n"
     ]
    },
    {
     "name": "stderr",
     "output_type": "stream",
     "text": [
      "/home/mzaghi/CMPT413/email-spam-detection/venv/lib/python3.8/site-packages/sklearn/metrics/_classification.py:1308: UndefinedMetricWarning: Recall and F-score are ill-defined and being set to 0.0 in labels with no true samples. Use `zero_division` parameter to control this behavior.\n",
      "  _warn_prf(average, modifier, msg_start, len(result))\n",
      "/home/mzaghi/CMPT413/email-spam-detection/venv/lib/python3.8/site-packages/sklearn/metrics/_classification.py:1308: UndefinedMetricWarning: Recall and F-score are ill-defined and being set to 0.0 in labels with no true samples. Use `zero_division` parameter to control this behavior.\n",
      "  _warn_prf(average, modifier, msg_start, len(result))\n",
      "/home/mzaghi/CMPT413/email-spam-detection/venv/lib/python3.8/site-packages/sklearn/metrics/_classification.py:1308: UndefinedMetricWarning: Recall and F-score are ill-defined and being set to 0.0 in labels with no true samples. Use `zero_division` parameter to control this behavior.\n",
      "  _warn_prf(average, modifier, msg_start, len(result))\n"
     ]
    },
    {
     "data": {
      "image/png": "[encoded data removed]",
      "text/plain": [
       "<Figure size 432x288 with 2 Axes>"
      ]
     },
     "metadata": {
      "needs_background": "light"
     },
     "output_type": "display_data"
    }
   ],
   "source": [
    "lr_predictions = lr.predict(X_focused_fitted)\n",
    "print(classification_report(Y_focused, lr_predictions))\n",
    "print(confusion_matrix(Y_focused, lr_predictions))\n",
    "\n",
    "cm_lr = confusion_matrix(Y_focused, lr_predictions)\n",
    "cmd_lr = ConfusionMatrixDisplay(cm_lr, display_labels=['ham','spam'])\n",
    "cmd_lr.plot();"
   ]
  },
  {
   "cell_type": "markdown",
   "id": "d616b397",
   "metadata": {},
   "source": [
    "### SVM"
   ]
  },
  {
   "cell_type": "code",
   "execution_count": 33,
   "id": "e41d4210",
   "metadata": {},
   "outputs": [
    {
     "name": "stdout",
     "output_type": "stream",
     "text": [
      "              precision    recall  f1-score   support\n",
      "\n",
      "           0       1.00      0.94      0.97       361\n",
      "           1       0.00      0.00      0.00         0\n",
      "\n",
      "    accuracy                           0.94       361\n",
      "   macro avg       0.50      0.47      0.48       361\n",
      "weighted avg       1.00      0.94      0.97       361\n",
      "\n",
      "[[339  22]\n",
      " [  0   0]]\n"
     ]
    },
    {
     "name": "stderr",
     "output_type": "stream",
     "text": [
      "/home/mzaghi/CMPT413/email-spam-detection/venv/lib/python3.8/site-packages/sklearn/metrics/_classification.py:1308: UndefinedMetricWarning: Recall and F-score are ill-defined and being set to 0.0 in labels with no true samples. Use `zero_division` parameter to control this behavior.\n",
      "  _warn_prf(average, modifier, msg_start, len(result))\n",
      "/home/mzaghi/CMPT413/email-spam-detection/venv/lib/python3.8/site-packages/sklearn/metrics/_classification.py:1308: UndefinedMetricWarning: Recall and F-score are ill-defined and being set to 0.0 in labels with no true samples. Use `zero_division` parameter to control this behavior.\n",
      "  _warn_prf(average, modifier, msg_start, len(result))\n",
      "/home/mzaghi/CMPT413/email-spam-detection/venv/lib/python3.8/site-packages/sklearn/metrics/_classification.py:1308: UndefinedMetricWarning: Recall and F-score are ill-defined and being set to 0.0 in labels with no true samples. Use `zero_division` parameter to control this behavior.\n",
      "  _warn_prf(average, modifier, msg_start, len(result))\n"
     ]
    },
    {
     "data": {
      "image/png": "[encoded data removed]",
      "text/plain": [
       "<Figure size 432x288 with 2 Axes>"
      ]
     },
     "metadata": {
      "needs_background": "light"
     },
     "output_type": "display_data"
    }
   ],
   "source": [
    "svm_SVC_predictions = svm_SVC.predict(X_focused_fitted)\n",
    "print(classification_report(Y_focused, svm_SVC_predictions))\n",
    "print(confusion_matrix(Y_focused, svm_SVC_predictions))\n",
    "\n",
    "cm_svm = confusion_matrix(Y_focused, svm_SVC_predictions)\n",
    "cmd_svm = ConfusionMatrixDisplay(cm_svm, display_labels=['ham','spam'])\n",
    "cmd_svm.plot();"
   ]
  },
  {
   "cell_type": "markdown",
   "id": "6b9942ee",
   "metadata": {},
   "source": [
    "### KNN"
   ]
  },
  {
   "cell_type": "code",
   "execution_count": 34,
   "id": "36f7b22b",
   "metadata": {},
   "outputs": [
    {
     "name": "stdout",
     "output_type": "stream",
     "text": [
      "[[177 184]\n",
      " [  0   0]]\n",
      "              precision    recall  f1-score   support\n",
      "\n",
      "           0       1.00      0.49      0.66       361\n",
      "           1       0.00      0.00      0.00         0\n",
      "\n",
      "    accuracy                           0.49       361\n",
      "   macro avg       0.50      0.25      0.33       361\n",
      "weighted avg       1.00      0.49      0.66       361\n",
      "\n"
     ]
    },
    {
     "name": "stderr",
     "output_type": "stream",
     "text": [
      "/home/mzaghi/CMPT413/email-spam-detection/venv/lib/python3.8/site-packages/sklearn/metrics/_classification.py:1308: UndefinedMetricWarning: Recall and F-score are ill-defined and being set to 0.0 in labels with no true samples. Use `zero_division` parameter to control this behavior.\n",
      "  _warn_prf(average, modifier, msg_start, len(result))\n",
      "/home/mzaghi/CMPT413/email-spam-detection/venv/lib/python3.8/site-packages/sklearn/metrics/_classification.py:1308: UndefinedMetricWarning: Recall and F-score are ill-defined and being set to 0.0 in labels with no true samples. Use `zero_division` parameter to control this behavior.\n",
      "  _warn_prf(average, modifier, msg_start, len(result))\n",
      "/home/mzaghi/CMPT413/email-spam-detection/venv/lib/python3.8/site-packages/sklearn/metrics/_classification.py:1308: UndefinedMetricWarning: Recall and F-score are ill-defined and being set to 0.0 in labels with no true samples. Use `zero_division` parameter to control this behavior.\n",
      "  _warn_prf(average, modifier, msg_start, len(result))\n"
     ]
    },
    {
     "data": {
      "image/png": "[encoded data removed]",
      "text/plain": [
       "<Figure size 432x288 with 2 Axes>"
      ]
     },
     "metadata": {
      "needs_background": "light"
     },
     "output_type": "display_data"
    }
   ],
   "source": [
    "knn_predictions = knn.predict(X_focused_fitted)\n",
    "print(confusion_matrix(Y_focused, knn_predictions))\n",
    "print(classification_report(Y_focused, knn_predictions))\n",
    "\n",
    "cm_knn = confusion_matrix(Y_focused, knn_predictions)\n",
    "cmd_knn = ConfusionMatrixDisplay(cm_knn, display_labels=['ham','spam'])\n",
    "cmd_knn.plot();"
   ]
  },
  {
   "cell_type": "markdown",
   "id": "aa25baf4",
   "metadata": {},
   "source": [
    "# Results"
   ]
  },
  {
   "cell_type": "markdown",
   "id": "fcb40667",
   "metadata": {},
   "source": [
    "Total emails with the target *vince kaminski*: 365     \n",
    "**Baseline Ham Recall (yes it is spam, but missclassified has ham (FP) => TP/(TP+FP))**    \n",
    "Random Forest: 0  \n",
    "Naive Bayes: 0  \n",
    "Logistic Regression: 0  \n",
    "SVM: 0  \n",
    "KNN: 1   \n",
    "**num_spam = 5000**    \n",
    "Random Forest: 5   \n",
    "Naive Bayes: 0   \n",
    "Logistic Regression: 21   \n",
    "SVM: 20  \n",
    "KNN: 180  \n",
    "**num_spam = 10000**     \n",
    "Random Forest: 5   \n",
    "Naive Bayes: 0  \n",
    "Logistic Regression: 24   \n",
    "SVM: 25  \n",
    "KNN: 179   \n",
    "**num_spam = 15000**       \n",
    "Random Forest: 4     \n",
    "Naive Bayes: 0       \n",
    "Logistic Regression: 30      \n",
    "SVM: 22  \n",
    "KNN: 185  \n",
    "**num_spam = 20000**         \n",
    "Random Forest: 4       \n",
    "Naive Bayes: 0        \n",
    "Logistic Regression: 31       \n",
    "SVM: 22    \n",
    "KNN: 184      \n"
   ]
  },
  {
   "cell_type": "code",
   "execution_count": 37,
   "id": "ea0653b3",
   "metadata": {},
   "outputs": [
    {
     "data": {
      "text/plain": [
       "<Figure size 432x288 with 0 Axes>"
      ]
     },
     "metadata": {},
     "output_type": "display_data"
    },
    {
     "data": {
      "image/png": "[encoded data removed]",
      "text/plain": [
       "<Figure size 432x288 with 1 Axes>"
      ]
     },
     "metadata": {
      "needs_background": "light"
     },
     "output_type": "display_data"
    }
   ],
   "source": [
    "plt.figure()\n",
    "plot_df = pd.DataFrame({\n",
    "   'RF': [0, 5, 5, 4, 4],\n",
    "   'NB': [0, 0, 0, 0, 0],\n",
    "   'LR': [0, 21, 24, 30, 31],\n",
    "   'SVM': [0, 20, 25, 22, 22],\n",
    "   'KNN': [1, 180, 179, 185, 184]\n",
    "   }, index=[0, 5000, 10000, 15000, 20000])\n",
    "plot_df.plot(title ='Focused Attack')\n",
    "plt.xlabel('Emails')\n",
    "plt.ylabel('False Positives')\n",
    "plt.show()"
   ]
  },
  {
   "cell_type": "code",
   "execution_count": null,
   "id": "4838c010",
   "metadata": {},
   "outputs": [],
   "source": []
  }
 ],
 "metadata": {
  "kernelspec": {
   "display_name": "Python 3 (ipykernel)",
   "language": "python",
   "name": "python3"
  },
  "language_info": {
   "codemirror_mode": {
    "name": "ipython",
    "version": 3
   },
   "file_extension": ".py",
   "mimetype": "text/x-python",
   "name": "python",
   "nbconvert_exporter": "python",
   "pygments_lexer": "ipython3",
   "version": "3.8.10"
  }
 },
 "nbformat": 4,
 "nbformat_minor": 5
}
