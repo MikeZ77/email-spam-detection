{
 "cells": [
  {
   "cell_type": "code",
   "execution_count": 1,
   "id": "156add8d",
   "metadata": {},
   "outputs": [],
   "source": [
    "import numpy as np\n",
    "import pandas as pd\n",
    "import matplotlib.pyplot as plt\n",
    "%matplotlib inline\n",
    "import seaborn as sns\n",
    "import re\n",
    "import pickle\n",
    "from sklearn.model_selection import train_test_split\n",
    "from sklearn.feature_extraction.text import CountVectorizer\n",
    "from sklearn.metrics import classification_report, confusion_matrix, ConfusionMatrixDisplay\n",
    "from sklearn.metrics import precision_recall_fscore_support as score\n",
    "from sklearn.linear_model import LogisticRegression\n",
    "from sklearn.naive_bayes import MultinomialNB\n",
    "from sklearn.metrics import roc_curve\n",
    "from sklearn.metrics import roc_auc_score"
   ]
  },
  {
   "cell_type": "code",
   "execution_count": 2,
   "id": "ba67622c",
   "metadata": {},
   "outputs": [],
   "source": [
    "from simple_attacks import SimpleAttack\n",
    "attack = SimpleAttack()"
   ]
  },
  {
   "cell_type": "code",
   "execution_count": 3,
   "id": "f75e64f7",
   "metadata": {},
   "outputs": [],
   "source": [
    "enron_vec = pd.read_csv('data/enron_cleaned.csv')\n",
    "enron_vec = enron_vec.fillna('')"
   ]
  },
  {
   "cell_type": "code",
   "execution_count": 4,
   "id": "3d59456e",
   "metadata": {},
   "outputs": [],
   "source": [
    "bigram_vectorizer = CountVectorizer(ngram_range = (2, 2))\n",
    "corpus_fitted = bigram_vectorizer.fit(enron_vec['clean_msg_no_lst'])\n",
    "_, X_test, _, Y_test = train_test_split(enron_vec[['clean_msg_no_lst']], enron_vec.target, random_state = 42, test_size = 0.2)\n",
    "X_test_fitted = corpus_fitted.transform(X_test['clean_msg_no_lst'])"
   ]
  },
  {
   "cell_type": "code",
   "execution_count": 5,
   "id": "3e1735f6",
   "metadata": {},
   "outputs": [],
   "source": [
    "with open('models/rf_pkl', 'rb') as f:\n",
    "    rf = pickle.load(f)\n",
    "    \n",
    "with open('models/mbayes_pkl', 'rb') as f:\n",
    "    mbayes = pickle.load(f)\n",
    "    \n",
    "with open('models/lr_pkl', 'rb') as f:\n",
    "    lr = pickle.load(f)\n",
    "    \n",
    "with open('models/svm_pkl', 'rb') as f:\n",
    "    svm_SVC = pickle.load(f)\n",
    "    \n",
    "with open('models/knn_pkl', 'rb') as f:\n",
    "    knn = pickle.load(f)"
   ]
  },
  {
   "cell_type": "markdown",
   "id": "6c479532",
   "metadata": {},
   "source": [
    "# Tokenization Attack"
   ]
  },
  {
   "cell_type": "code",
   "execution_count": 19,
   "id": "5c289d1f",
   "metadata": {},
   "outputs": [
    {
     "data": {
      "text/html": [
       "<div>\n",
       "<style scoped>\n",
       "    .dataframe tbody tr th:only-of-type {\n",
       "        vertical-align: middle;\n",
       "    }\n",
       "\n",
       "    .dataframe tbody tr th {\n",
       "        vertical-align: top;\n",
       "    }\n",
       "\n",
       "    .dataframe thead th {\n",
       "        text-align: right;\n",
       "    }\n",
       "</style>\n",
       "<table border=\"1\" class=\"dataframe\">\n",
       "  <thead>\n",
       "    <tr style=\"text-align: right;\">\n",
       "      <th></th>\n",
       "      <th>clean_msg_no_lst</th>\n",
       "      <th>target</th>\n",
       "    </tr>\n",
       "  </thead>\n",
       "  <tbody>\n",
       "    <tr>\n",
       "      <th>23615</th>\n",
       "      <td>read holding floor meeting following date join...</td>\n",
       "      <td>0</td>\n",
       "    </tr>\n",
       "    <tr>\n",
       "      <th>7794</th>\n",
       "      <td>wanted submit notice rotation fundamental anal...</td>\n",
       "      <td>0</td>\n",
       "    </tr>\n",
       "    <tr>\n",
       "      <th>12369</th>\n",
       "      <td>gtv project status weekly update attached file...</td>\n",
       "      <td>0</td>\n",
       "    </tr>\n",
       "    <tr>\n",
       "      <th>16937</th>\n",
       "      <td>received email requester specified manager cli...</td>\n",
       "      <td>0</td>\n",
       "    </tr>\n",
       "    <tr>\n",
       "      <th>14702</th>\n",
       "      <td>louise clarification hsr waiting period receiv...</td>\n",
       "      <td>0</td>\n",
       "    </tr>\n",
       "  </tbody>\n",
       "</table>\n",
       "</div>"
      ],
      "text/plain": [
       "                                        clean_msg_no_lst  target\n",
       "23615  read holding floor meeting following date join...       0\n",
       "7794   wanted submit notice rotation fundamental anal...       0\n",
       "12369  gtv project status weekly update attached file...       0\n",
       "16937  received email requester specified manager cli...       0\n",
       "14702  louise clarification hsr waiting period receiv...       0"
      ]
     },
     "execution_count": 19,
     "metadata": {},
     "output_type": "execute_result"
    }
   ],
   "source": [
    "test_attack = attack.tokenize_spam(percent_tokenize=70)\n",
    "X_test_attack = test_attack['clean_msg_no_lst']\n",
    "Y_test_attack = test_attack['target']\n",
    "X_test_attack_fitted = corpus_fitted.transform(X_test_attack)\n",
    "test_attack.head()"
   ]
  },
  {
   "cell_type": "markdown",
   "id": "f5bf51c6",
   "metadata": {},
   "source": [
    "### Random Forest"
   ]
  },
  {
   "cell_type": "code",
   "execution_count": 20,
   "id": "4140de84",
   "metadata": {},
   "outputs": [
    {
     "name": "stdout",
     "output_type": "stream",
     "text": [
      "              precision    recall  f1-score   support\n",
      "\n",
      "           0       0.99      0.93      0.96      3333\n",
      "           1       0.93      0.99      0.96      3336\n",
      "\n",
      "    accuracy                           0.96      6669\n",
      "   macro avg       0.96      0.96      0.96      6669\n",
      "weighted avg       0.96      0.96      0.96      6669\n",
      "\n",
      "[[3102  231]\n",
      " [  32 3304]]\n"
     ]
    },
    {
     "data": {
      "image/png": "[encoded data removed]",
      "text/plain": [
       "<Figure size 432x288 with 2 Axes>"
      ]
     },
     "metadata": {
      "needs_background": "light"
     },
     "output_type": "display_data"
    }
   ],
   "source": [
    "rf_predictions = rf.predict(X_test_fitted)\n",
    "print(classification_report(Y_test, rf_predictions))\n",
    "print(confusion_matrix(Y_test, rf_predictions))\n",
    "\n",
    "cm_rf = confusion_matrix(Y_test, rf_predictions)\n",
    "cmd_rf = ConfusionMatrixDisplay(cm_rf, display_labels=['ham','spam'])\n",
    "cmd_rf.plot();"
   ]
  },
  {
   "cell_type": "code",
   "execution_count": 21,
   "id": "52f890fa",
   "metadata": {},
   "outputs": [
    {
     "name": "stdout",
     "output_type": "stream",
     "text": [
      "              precision    recall  f1-score   support\n",
      "\n",
      "           0       0.98      0.93      0.96      3333\n",
      "           1       0.93      0.98      0.96      3336\n",
      "\n",
      "    accuracy                           0.96      6669\n",
      "   macro avg       0.96      0.96      0.96      6669\n",
      "weighted avg       0.96      0.96      0.96      6669\n",
      "\n",
      "[[3102  231]\n",
      " [  58 3278]]\n"
     ]
    },
    {
     "data": {
      "image/png": "[encoded data removed]",
      "text/plain": [
       "<Figure size 432x288 with 2 Axes>"
      ]
     },
     "metadata": {
      "needs_background": "light"
     },
     "output_type": "display_data"
    }
   ],
   "source": [
    "rf_predictions = rf.predict(X_test_attack_fitted)\n",
    "print(classification_report(Y_test_attack, rf_predictions))\n",
    "print(confusion_matrix(Y_test_attack, rf_predictions))\n",
    "\n",
    "cm_rf = confusion_matrix(Y_test_attack, rf_predictions)\n",
    "cmd_rf = ConfusionMatrixDisplay(cm_rf, display_labels=['ham','spam'])\n",
    "cmd_rf.plot();"
   ]
  },
  {
   "cell_type": "markdown",
   "id": "2ef962ef",
   "metadata": {},
   "source": [
    "### Naive Bayes"
   ]
  },
  {
   "cell_type": "code",
   "execution_count": 22,
   "id": "97bfb84a",
   "metadata": {},
   "outputs": [
    {
     "name": "stdout",
     "output_type": "stream",
     "text": [
      "              precision    recall  f1-score   support\n",
      "\n",
      "           0       0.99      0.98      0.99      3333\n",
      "           1       0.98      0.99      0.99      3336\n",
      "\n",
      "    accuracy                           0.99      6669\n",
      "   macro avg       0.99      0.99      0.99      6669\n",
      "weighted avg       0.99      0.99      0.99      6669\n",
      "\n",
      "[[3279   54]\n",
      " [  21 3315]]\n"
     ]
    },
    {
     "data": {
      "image/png": "[encoded data removed]",
      "text/plain": [
       "<Figure size 432x288 with 2 Axes>"
      ]
     },
     "metadata": {
      "needs_background": "light"
     },
     "output_type": "display_data"
    }
   ],
   "source": [
    "mbayes_predictions = mbayes.predict(X_test_fitted)\n",
    "print(classification_report(Y_test, mbayes_predictions))\n",
    "print(confusion_matrix(Y_test, mbayes_predictions))\n",
    "\n",
    "cm_mbayes = confusion_matrix(Y_test, mbayes_predictions)\n",
    "cmd_mbayes = ConfusionMatrixDisplay(cm_mbayes, display_labels=['ham','spam'])\n",
    "cmd_mbayes.plot();"
   ]
  },
  {
   "cell_type": "code",
   "execution_count": 23,
   "id": "9d22bfe6",
   "metadata": {},
   "outputs": [
    {
     "name": "stdout",
     "output_type": "stream",
     "text": [
      "              precision    recall  f1-score   support\n",
      "\n",
      "           0       0.99      0.98      0.99      3333\n",
      "           1       0.98      0.99      0.99      3336\n",
      "\n",
      "    accuracy                           0.99      6669\n",
      "   macro avg       0.99      0.99      0.99      6669\n",
      "weighted avg       0.99      0.99      0.99      6669\n",
      "\n",
      "[[3279   54]\n",
      " [  21 3315]]\n"
     ]
    },
    {
     "data": {
      "image/png": "[encoded data removed]",
      "text/plain": [
       "<Figure size 432x288 with 2 Axes>"
      ]
     },
     "metadata": {
      "needs_background": "light"
     },
     "output_type": "display_data"
    }
   ],
   "source": [
    "mbayes_predictions = mbayes.predict(X_test_attack_fitted)\n",
    "print(classification_report(Y_test_attack, mbayes_predictions))\n",
    "print(confusion_matrix(Y_test_attack, mbayes_predictions))\n",
    "\n",
    "cm_rf = confusion_matrix(Y_test_attack, mbayes_predictions)\n",
    "cmd_rf = ConfusionMatrixDisplay(cm_rf, display_labels=['ham','spam'])\n",
    "cmd_rf.plot();"
   ]
  },
  {
   "cell_type": "markdown",
   "id": "c3bbb8d9",
   "metadata": {},
   "source": [
    "### 7.3 Logistic Regression"
   ]
  },
  {
   "cell_type": "code",
   "execution_count": 24,
   "id": "6b628d17",
   "metadata": {},
   "outputs": [
    {
     "name": "stdout",
     "output_type": "stream",
     "text": [
      "              precision    recall  f1-score   support\n",
      "\n",
      "           0       0.99      0.96      0.97      3333\n",
      "           1       0.96      0.99      0.98      3336\n",
      "\n",
      "    accuracy                           0.98      6669\n",
      "   macro avg       0.98      0.98      0.98      6669\n",
      "weighted avg       0.98      0.98      0.98      6669\n",
      "\n",
      "[[3191  142]\n",
      " [  22 3314]]\n"
     ]
    },
    {
     "data": {
      "image/png": "[encoded data removed]",
      "text/plain": [
       "<Figure size 432x288 with 2 Axes>"
      ]
     },
     "metadata": {
      "needs_background": "light"
     },
     "output_type": "display_data"
    }
   ],
   "source": [
    "lr_predictions = lr.predict(X_test_fitted)\n",
    "print(classification_report(Y_test, lr_predictions))\n",
    "print(confusion_matrix(Y_test, lr_predictions))\n",
    "\n",
    "cm_lr = confusion_matrix(Y_test, lr_predictions)\n",
    "cmd_lr = ConfusionMatrixDisplay(cm_lr, display_labels=['ham','spam'])\n",
    "cmd_lr.plot();"
   ]
  },
  {
   "cell_type": "code",
   "execution_count": 25,
   "id": "4e627ef4",
   "metadata": {},
   "outputs": [
    {
     "name": "stdout",
     "output_type": "stream",
     "text": [
      "              precision    recall  f1-score   support\n",
      "\n",
      "           0       0.99      0.96      0.97      3333\n",
      "           1       0.96      0.99      0.97      3336\n",
      "\n",
      "    accuracy                           0.97      6669\n",
      "   macro avg       0.97      0.97      0.97      6669\n",
      "weighted avg       0.97      0.97      0.97      6669\n",
      "\n",
      "[[3191  142]\n",
      " [  36 3300]]\n"
     ]
    },
    {
     "data": {
      "image/png": "[encoded data removed]",
      "text/plain": [
       "<Figure size 432x288 with 2 Axes>"
      ]
     },
     "metadata": {
      "needs_background": "light"
     },
     "output_type": "display_data"
    }
   ],
   "source": [
    "lr_predictions = lr.predict(X_test_attack_fitted)\n",
    "print(classification_report(Y_test_attack, lr_predictions))\n",
    "print(confusion_matrix(Y_test_attack, lr_predictions))\n",
    "\n",
    "cm_rf = confusion_matrix(Y_test_attack, lr_predictions)\n",
    "cmd_rf = ConfusionMatrixDisplay(cm_rf, display_labels=['ham','spam'])\n",
    "cmd_rf.plot();"
   ]
  },
  {
   "cell_type": "markdown",
   "id": "6f6a2bfa",
   "metadata": {},
   "source": [
    "### SVM"
   ]
  },
  {
   "cell_type": "code",
   "execution_count": 26,
   "id": "1b9bc15f",
   "metadata": {},
   "outputs": [
    {
     "name": "stdout",
     "output_type": "stream",
     "text": [
      "              precision    recall  f1-score   support\n",
      "\n",
      "           0       0.95      0.90      0.92      3333\n",
      "           1       0.90      0.95      0.93      3336\n",
      "\n",
      "    accuracy                           0.92      6669\n",
      "   macro avg       0.93      0.92      0.92      6669\n",
      "weighted avg       0.93      0.92      0.92      6669\n",
      "\n",
      "[[2986  347]\n",
      " [ 155 3181]]\n"
     ]
    },
    {
     "data": {
      "image/png": "[encoded data removed]",
      "text/plain": [
       "<Figure size 432x288 with 2 Axes>"
      ]
     },
     "metadata": {
      "needs_background": "light"
     },
     "output_type": "display_data"
    }
   ],
   "source": [
    "svm_SVC_predictions = svm_SVC.predict(X_test_fitted)\n",
    "print(classification_report(Y_test, svm_SVC_predictions))\n",
    "print(confusion_matrix(Y_test, svm_SVC_predictions))\n",
    "\n",
    "cm_svm = confusion_matrix(Y_test, svm_SVC_predictions)\n",
    "cmd_svm = ConfusionMatrixDisplay(cm_svm, display_labels=['ham','spam'])\n",
    "cmd_svm.plot();"
   ]
  },
  {
   "cell_type": "code",
   "execution_count": 27,
   "id": "fd4d7eea",
   "metadata": {},
   "outputs": [
    {
     "name": "stdout",
     "output_type": "stream",
     "text": [
      "              precision    recall  f1-score   support\n",
      "\n",
      "           0       0.94      0.90      0.92      3333\n",
      "           1       0.90      0.94      0.92      3336\n",
      "\n",
      "    accuracy                           0.92      6669\n",
      "   macro avg       0.92      0.92      0.92      6669\n",
      "weighted avg       0.92      0.92      0.92      6669\n",
      "\n",
      "[[2986  347]\n",
      " [ 206 3130]]\n"
     ]
    },
    {
     "data": {
      "image/png": "[encoded data removed]",
      "text/plain": [
       "<Figure size 432x288 with 2 Axes>"
      ]
     },
     "metadata": {
      "needs_background": "light"
     },
     "output_type": "display_data"
    }
   ],
   "source": [
    "svm_SVC_predictions = svm_SVC.predict(X_test_attack_fitted)\n",
    "print(classification_report(Y_test_attack, svm_SVC_predictions))\n",
    "print(confusion_matrix(Y_test_attack, svm_SVC_predictions))\n",
    "\n",
    "cm_rf = confusion_matrix(Y_test_attack, svm_SVC_predictions)\n",
    "cmd_rf = ConfusionMatrixDisplay(cm_rf, display_labels=['ham','spam'])\n",
    "cmd_rf.plot();"
   ]
  },
  {
   "cell_type": "markdown",
   "id": "fb224884",
   "metadata": {},
   "source": [
    "### KNN"
   ]
  },
  {
   "cell_type": "code",
   "execution_count": 28,
   "id": "2a831715",
   "metadata": {},
   "outputs": [
    {
     "name": "stdout",
     "output_type": "stream",
     "text": [
      "[[3323   10]\n",
      " [1256 2080]]\n",
      "              precision    recall  f1-score   support\n",
      "\n",
      "           0       0.73      1.00      0.84      3333\n",
      "           1       1.00      0.62      0.77      3336\n",
      "\n",
      "    accuracy                           0.81      6669\n",
      "   macro avg       0.86      0.81      0.80      6669\n",
      "weighted avg       0.86      0.81      0.80      6669\n",
      "\n"
     ]
    },
    {
     "data": {
      "image/png": "[encoded data removed]",
      "text/plain": [
       "<Figure size 432x288 with 2 Axes>"
      ]
     },
     "metadata": {
      "needs_background": "light"
     },
     "output_type": "display_data"
    }
   ],
   "source": [
    "knn_predictions = knn.predict(X_test_fitted)\n",
    "print(confusion_matrix(Y_test, knn_predictions))\n",
    "print(classification_report(Y_test, knn_predictions))\n",
    "\n",
    "cm_knn = confusion_matrix(Y_test, knn_predictions)\n",
    "cmd_knn = ConfusionMatrixDisplay(cm_knn, display_labels=['ham','spam'])\n",
    "cmd_knn.plot();"
   ]
  },
  {
   "cell_type": "code",
   "execution_count": 29,
   "id": "bc80a489",
   "metadata": {},
   "outputs": [
    {
     "name": "stdout",
     "output_type": "stream",
     "text": [
      "              precision    recall  f1-score   support\n",
      "\n",
      "           0       0.69      1.00      0.82      3333\n",
      "           1       0.99      0.55      0.71      3336\n",
      "\n",
      "    accuracy                           0.78      6669\n",
      "   macro avg       0.84      0.78      0.76      6669\n",
      "weighted avg       0.84      0.78      0.76      6669\n",
      "\n",
      "[[3323   10]\n",
      " [1488 1848]]\n"
     ]
    },
    {
     "data": {
      "image/png": "[encoded data removed]",
      "text/plain": [
       "<Figure size 432x288 with 2 Axes>"
      ]
     },
     "metadata": {
      "needs_background": "light"
     },
     "output_type": "display_data"
    }
   ],
   "source": [
    "knn_predictions = knn.predict(X_test_attack_fitted)\n",
    "print(classification_report(Y_test_attack, knn_predictions))\n",
    "print(confusion_matrix(Y_test_attack, knn_predictions))\n",
    "\n",
    "cm_rf = confusion_matrix(Y_test_attack, knn_predictions)\n",
    "cmd_rf = ConfusionMatrixDisplay(cm_rf, display_labels=['ham','spam'])\n",
    "cmd_rf.plot();"
   ]
  },
  {
   "cell_type": "code",
   "execution_count": null,
   "id": "cce18a20",
   "metadata": {},
   "outputs": [],
   "source": []
  }
 ],
 "metadata": {
  "kernelspec": {
   "display_name": "Python 3 (ipykernel)",
   "language": "python",
   "name": "python3"
  },
  "language_info": {
   "codemirror_mode": {
    "name": "ipython",
    "version": 3
   },
   "file_extension": ".py",
   "mimetype": "text/x-python",
   "name": "python",
   "nbconvert_exporter": "python",
   "pygments_lexer": "ipython3",
   "version": "3.8.10"
  }
 },
 "nbformat": 4,
 "nbformat_minor": 5
}
