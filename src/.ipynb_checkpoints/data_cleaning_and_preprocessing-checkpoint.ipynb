{
 "cells": [
  {
   "cell_type": "markdown",
   "id": "70ae6ae5",
   "metadata": {},
   "source": [
    "Introduction\n",
    "\n",
    "The SMS spam collection dataset is a set of SMS tagged messages that have been collected for SMS spam research. It contains a set of 5,572 SMS messages in English, tagged according to ham (legitimate) or spam.\n",
    "\n",
    "For ease of reference, this notebook is structured as follows:\n",
    "\n",
    "    Import libraries\n",
    "    Import and read data\n",
    "    Exploratory data analysis (EDA)\n",
    "    \n",
    "    \n",
    "\n",
    "    \n",
    "    \n",
    "The Enron-Spam is a collection of spam/ham dataset by V. Metsis, I. Androutsopoulos and G. Paliouras and described in their publication \"Spam Filtering with Naive Bayes - Which Naive Bayes?\".\n",
    "    \n",
    "This dataset contains 17,171 spam and 16,545 non-spam (\"ham\") e-mail messages (33.716 in total).\n",
    "The raw dataset and documentation can be accessed via the following link: http://www2.aueb.gr/users/ion/data/enron-spam/\n",
    "The original dataset has every single mail in a seperate txt-file and distributed over several directories.\n",
    "The following repository (https://github.com/MWiechmann/enron_spam_data) formated the unprocessed data into a more structured dataset that offers a single download of the data through a simple csv-file, making further preprocessing of this dataset becomes less cumbersome.\n",
    "\n",
    "\n",
    "\n",
    "You probably only need the data file (\"enron_spam_data.zip\"). The python file (\"build_data_file.py\") contains the script used to construct the csv file (downloading the original raw data from the website, unpacking it, processing it and saving it into a compressed csv file).\n",
    "\n"
   ]
  },
  {
   "cell_type": "code",
   "execution_count": 1,
   "id": "d6420ac1",
   "metadata": {},
   "outputs": [
    {
     "ename": "NameError",
     "evalue": "name 'pd' is not defined",
     "output_type": "error",
     "traceback": [
      "\u001b[0;31m---------------------------------------------------------------------------\u001b[0m",
      "\u001b[0;31mNameError\u001b[0m                                 Traceback (most recent call last)",
      "\u001b[0;32m/tmp/ipykernel_22191/513477288.py\u001b[0m in \u001b[0;36m<module>\u001b[0;34m\u001b[0m\n\u001b[0;32m----> 1\u001b[0;31m \u001b[0menron_emails\u001b[0m \u001b[0;34m=\u001b[0m \u001b[0mpd\u001b[0m\u001b[0;34m.\u001b[0m\u001b[0mread_csv\u001b[0m\u001b[0;34m(\u001b[0m\u001b[0;34m'../data/enron_spam_data.csv'\u001b[0m\u001b[0;34m)\u001b[0m\u001b[0;34m\u001b[0m\u001b[0;34m\u001b[0m\u001b[0m\n\u001b[0m",
      "\u001b[0;31mNameError\u001b[0m: name 'pd' is not defined"
     ]
    }
   ],
   "source": [
    "enron_emails = pd.read_csv('../data/enron_spam_data.csv')"
   ]
  },
  {
   "cell_type": "code",
   "execution_count": null,
   "id": "4761f0be",
   "metadata": {},
   "outputs": [],
   "source": [
    "enron_emails"
   ]
  }
 ],
 "metadata": {
  "kernelspec": {
   "display_name": "Python 3 (ipykernel)",
   "language": "python",
   "name": "python3"
  },
  "language_info": {
   "codemirror_mode": {
    "name": "ipython",
    "version": 3
   },
   "file_extension": ".py",
   "mimetype": "text/x-python",
   "name": "python",
   "nbconvert_exporter": "python",
   "pygments_lexer": "ipython3",
   "version": "3.9.5"
  }
 },
 "nbformat": 4,
 "nbformat_minor": 5
}
