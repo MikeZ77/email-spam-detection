{
 "cells": [
  {
   "cell_type": "code",
   "execution_count": 11,
   "id": "841c8a19",
   "metadata": {},
   "outputs": [],
   "source": [
    "import os.path\n",
    "import pandas as pd\n",
    "from sklearn.model_selection import train_test_split\n",
    "from sklearn.feature_extraction.text import CountVectorizer, TfidfVectorizer\n",
    "import numpy as np\n",
    "import seaborn as sn\n",
    "import matplotlib.pyplot as plt\n",
    "import seaborn as sns\n",
    "import itertools\n",
    "import email\n",
    "from string import punctuation\n",
    "import re\n",
    "from nltk.stem import WordNetLemmatizer\n",
    "from nltk.corpus import stopwords\n",
    "from sklearn import tree\n",
    "stop_words = set(stopwords.words('english'))\n",
    "from sklearn.utils import resample"
   ]
  },
  {
   "cell_type": "code",
   "execution_count": 36,
   "id": "1cae602b",
   "metadata": {},
   "outputs": [
    {
     "name": "stdout",
     "output_type": "stream",
     "text": [
      "There are 249 folders in the Ham Directory\n",
      "There are 34 folders in the Ham Directory\n"
     ]
    }
   ],
   "source": [
    "hamdir = r'../data/Compressed/Ham_Unprocessed'\n",
    "spamdir = r'../data/Compressed/Spam_Unprocessed'\n",
    "dirs=[hamdir,spamdir]\n",
    "\n",
    "def count_dirs(dirs):\n",
    "    for d in dirs:\n",
    "        folders = 0\n",
    "        for _, directories, files in os.walk(d):\n",
    "            folders += len(directories)\n",
    "        print('There are',folders,'folders in the Ham Directory')\n",
    "\n",
    "count_dirs(dirs)"
   ]
  },
  {
   "cell_type": "code",
   "execution_count": 37,
   "id": "cb51eb26",
   "metadata": {},
   "outputs": [],
   "source": [
    "def getlist(directory):\n",
    "    # this function takes the directory name, iterates over each file subdirectories\n",
    "    # and appends them to the list 'mylist'\n",
    "    mylist=[]\n",
    "    for directory, subdirectory, filenames in  os.walk(directory):\n",
    "        for filename in filenames:\n",
    "            with open(os.path.join(directory, filename), \"r\",encoding=\"latin-1\") as f:\n",
    "                data = f.read()\n",
    "             \n",
    "            # the below code checks for multi part emails and appends them to 'mylist'\n",
    "            b = email.message_from_string(data)\n",
    "            if b.is_multipart():\n",
    "                for payload in b.get_payload():\n",
    "                    if payload.is_multipart():\n",
    "                        for payload1 in payload.get_payload():\n",
    "                            mylist.append(payload1.get_payload())\n",
    "                    else:        \n",
    "                        mylist.append(payload.get_payload())\n",
    "            else:\n",
    "                mylist.append(b.get_payload())\n",
    "\n",
    "    return mylist"
   ]
  },
  {
   "cell_type": "code",
   "execution_count": 38,
   "id": "4cf9462d",
   "metadata": {},
   "outputs": [],
   "source": [
    "# sending the ham and spam directories to the getlist function\n",
    "# this will return a list of emails \n",
    "\n",
    "hamlist=getlist(hamdir)\n",
    "spamlist=getlist(spamdir)"
   ]
  },
  {
   "cell_type": "code",
   "execution_count": 44,
   "id": "b570fe09",
   "metadata": {},
   "outputs": [],
   "source": [
    "def create_df(hamlist,spamlist):\n",
    "    \n",
    "    # takes both ham and spam lists and concatenated them into a dataframe\n",
    "    # returns dataframe once complete\n",
    "\n",
    "    # create dataframe of ham\n",
    "    ham=pd.DataFrame(hamlist,columns =['email'])\n",
    "    # add target column for ham\n",
    "    ham['target']=0\n",
    "    \n",
    "    # do same process for spam\n",
    "    spam=pd.DataFrame(spamlist,columns =['email'])\n",
    "    spam['target']=1\n",
    "    #concatenate ham and spam and shuffle dataframe\n",
    "    all_emails=pd.concat([ham,spam])\n",
    "    all_emails = all_emails.sample(frac=1).reset_index(drop=True)\n",
    "\n",
    "    \n",
    "    return all_emails"
   ]
  },
  {
   "cell_type": "code",
   "execution_count": 45,
   "id": "0bfca9b4",
   "metadata": {},
   "outputs": [],
   "source": [
    "# send the newly created ham list and spam list to the create_df function\n",
    "# this will return a new dataframe which will be saved as 'all_emails'\n",
    "\n",
    "all_emails = create_df(hamlist,spamlist)"
   ]
  },
  {
   "cell_type": "code",
   "execution_count": 47,
   "id": "7090e263",
   "metadata": {},
   "outputs": [
    {
     "data": {
      "text/html": [
       "<div>\n",
       "<style scoped>\n",
       "    .dataframe tbody tr th:only-of-type {\n",
       "        vertical-align: middle;\n",
       "    }\n",
       "\n",
       "    .dataframe tbody tr th {\n",
       "        vertical-align: top;\n",
       "    }\n",
       "\n",
       "    .dataframe thead th {\n",
       "        text-align: right;\n",
       "    }\n",
       "</style>\n",
       "<table border=\"1\" class=\"dataframe\">\n",
       "  <thead>\n",
       "    <tr style=\"text-align: right;\">\n",
       "      <th></th>\n",
       "      <th>email</th>\n",
       "      <th>target</th>\n",
       "    </tr>\n",
       "  </thead>\n",
       "  <tbody>\n",
       "    <tr>\n",
       "      <th>0</th>\n",
       "      <td>Return-Path: &lt;0@aol.com&gt;\\nReceived: from  rly-...</td>\n",
       "      <td>0</td>\n",
       "    </tr>\n",
       "    <tr>\n",
       "      <th>1</th>\n",
       "      <td>&lt;HTML&gt;\\n&lt;HEAD&gt;\\n&lt;TITLE&gt;mailer1&lt;/TITLE&gt;\\n&lt;META ...</td>\n",
       "      <td>1</td>\n",
       "    </tr>\n",
       "    <tr>\n",
       "      <th>2</th>\n",
       "      <td>amoebae caustic emeriti extracellular \\nbeauti...</td>\n",
       "      <td>1</td>\n",
       "    </tr>\n",
       "    <tr>\n",
       "      <th>3</th>\n",
       "      <td>In response to a concern Stan brought up yeste...</td>\n",
       "      <td>0</td>\n",
       "    </tr>\n",
       "    <tr>\n",
       "      <th>4</th>\n",
       "      <td>Good day,\\n&lt;br&gt;&lt;br&gt;\\n\\nA Well Wisher showed me...</td>\n",
       "      <td>1</td>\n",
       "    </tr>\n",
       "  </tbody>\n",
       "</table>\n",
       "</div>"
      ],
      "text/plain": [
       "                                               email  target\n",
       "0  Return-Path: <0@aol.com>\\nReceived: from  rly-...       0\n",
       "1  <HTML>\\n<HEAD>\\n<TITLE>mailer1</TITLE>\\n<META ...       1\n",
       "2  amoebae caustic emeriti extracellular \\nbeauti...       1\n",
       "3  In response to a concern Stan brought up yeste...       0\n",
       "4  Good day,\\n<br><br>\\n\\nA Well Wisher showed me...       1"
      ]
     },
     "execution_count": 47,
     "metadata": {},
     "output_type": "execute_result"
    }
   ],
   "source": [
    "all_emails.head(5)"
   ]
  },
  {
   "cell_type": "code",
   "execution_count": 48,
   "id": "f4ab2d59",
   "metadata": {},
   "outputs": [],
   "source": [
    "def clean_regex(m):\n",
    "        \n",
    "        #defining the cleaning function which will run several regex search & replace\n",
    "        # processes on each email\n",
    "        # m for message in email column\n",
    "        m = re.sub(r'^[a-zA-Z0-9_.+-]+@[a-zA-Z0-9-]+\\.[a-zA-Z0-9-.]+$','',str(m)) # email addresses\n",
    "        m = re.sub(r'(http|https|ftp)://[a-zA-Z0-9\\\\./]+', ' ', str(m)) # http/url regex\n",
    "        m = re.sub(r'\\d+', '', str(m)) # numbers\n",
    "        m = re.sub(r'<[^<]+?>', '', str(m)) # html <tags>\n",
    "        m = m.replace(r'[^a-zA-Z]', '') # non alphanumerics\n",
    "        m = m.replace('nbsp', '') # common in unprocessed spam files, new html\n",
    "        m = m.translate(str.maketrans('', '', punctuation)) # remove punctuation\n",
    "        m = m.lower() # lower case\n",
    "\n",
    "        return m\n",
    "    \n",
    "def clean_column(df,col_name):\n",
    "    \n",
    "    # apply clean regex to column\n",
    "    df[col_name]=df[col_name].apply(clean_regex)\n",
    "    \n",
    "    # apply stop word removal to column\n",
    "    df[col_name]=df[col_name].apply(lambda x: ' '.join([item for item in x.split() if item not in stop_words]))\n",
    "    \n",
    "    # keep only words between 3 and 15 characters long (some very long gibberish strings in some emails)\n",
    "    df[col_name]=df[col_name].apply(lambda x: ' '.join([item for item in x.split() if 3 <= len(item) <= 15]))\n",
    "    \n",
    "    # initialize Lemmatizer\n",
    "    lem = WordNetLemmatizer()\n",
    "    \n",
    "    # apply verb lemmatizer\n",
    "    df[col_name]=df[col_name].apply(lambda x: ' '.join([lem.lemmatize(word,pos='v') for word in x.split()]))\n",
    "\n",
    "    # apply noun lemmatizer\n",
    "    df[col_name]=df[col_name].apply(lambda x: ' '.join([lem.lemmatize(word,pos='n') for word in x.split()]))\n",
    "    \n",
    "    return df"
   ]
  },
  {
   "cell_type": "code",
   "execution_count": 49,
   "id": "b8d36e5b",
   "metadata": {},
   "outputs": [
    {
     "data": {
      "text/html": [
       "<div>\n",
       "<style scoped>\n",
       "    .dataframe tbody tr th:only-of-type {\n",
       "        vertical-align: middle;\n",
       "    }\n",
       "\n",
       "    .dataframe tbody tr th {\n",
       "        vertical-align: top;\n",
       "    }\n",
       "\n",
       "    .dataframe thead th {\n",
       "        text-align: right;\n",
       "    }\n",
       "</style>\n",
       "<table border=\"1\" class=\"dataframe\">\n",
       "  <thead>\n",
       "    <tr style=\"text-align: right;\">\n",
       "      <th></th>\n",
       "      <th>email</th>\n",
       "      <th>target</th>\n",
       "    </tr>\n",
       "  </thead>\n",
       "  <tbody>\n",
       "    <tr>\n",
       "      <th>0</th>\n",
       "      <td>returnpath receive rlyyamxaolcom rlyyamailaolc...</td>\n",
       "      <td>0</td>\n",
       "    </tr>\n",
       "    <tr>\n",
       "      <th>1</th>\n",
       "      <td>mailer twoday market plan product plan financi...</td>\n",
       "      <td>1</td>\n",
       "    </tr>\n",
       "    <tr>\n",
       "      <th>2</th>\n",
       "      <td>amoeba caustic emeriti extracellular beautify ...</td>\n",
       "      <td>1</td>\n",
       "    </tr>\n",
       "    <tr>\n",
       "      <th>3</th>\n",
       "      <td>response concern stan bring yesterday revise v...</td>\n",
       "      <td>0</td>\n",
       "    </tr>\n",
       "    <tr>\n",
       "      <th>4</th>\n",
       "      <td>good day well wisher show way get ppv pay anyt...</td>\n",
       "      <td>1</td>\n",
       "    </tr>\n",
       "  </tbody>\n",
       "</table>\n",
       "</div>"
      ],
      "text/plain": [
       "                                               email  target\n",
       "0  returnpath receive rlyyamxaolcom rlyyamailaolc...       0\n",
       "1  mailer twoday market plan product plan financi...       1\n",
       "2  amoeba caustic emeriti extracellular beautify ...       1\n",
       "3  response concern stan bring yesterday revise v...       0\n",
       "4  good day well wisher show way get ppv pay anyt...       1"
      ]
     },
     "execution_count": 49,
     "metadata": {},
     "output_type": "execute_result"
    }
   ],
   "source": [
    "# send all_emails dataset to clean_column function\n",
    "# arguments are:  dataset, column to clean\n",
    "\n",
    "all_emails_clean = clean_column(all_emails,'email')\n",
    "all_emails_clean.head(5)"
   ]
  },
  {
   "cell_type": "code",
   "execution_count": 50,
   "id": "e22da3cb",
   "metadata": {},
   "outputs": [],
   "source": [
    "def downsamp_maj(df,target):\n",
    "\n",
    "    # this function can be used for downsampling the majority class to match the minority class \n",
    "    # this function works for any panda dataframe with two classes labeled 0 and 1\n",
    "    # arguents: panadas dataframe and response variable column name as string\n",
    "    \n",
    "    # get counts of both classes\n",
    "    lenclass_1 = len(df[df[target]==1])\n",
    "    lenclass_0 = len(df[df[target]==0])\n",
    "\n",
    "    # if class 1 is larger than class 0\n",
    "    if lenclass_1 > lenclass_0:\n",
    "\n",
    "        # set class 1 as the majority and class 0 as minority\n",
    "        df_majority = df[df[target]==1]\n",
    "        df_minority = df[df[target]==0]\n",
    "        \n",
    "        # downsample majority to the number of classes in minority\n",
    "        df_majority_downsampled = resample(df_majority, \n",
    "                                 replace=False,    # sample without replacement\n",
    "                                 n_samples=lenclass_0,     # to match minority class\n",
    "                                 random_state=123) # reproducible results \n",
    "\n",
    "        # join downsampled majortiy and minority into dataframe\n",
    "        df = pd.concat([df_majority_downsampled, df_minority],ignore_index=True)\n",
    "        \n",
    "    # otherwise downsample class 0\n",
    "    else:\n",
    "\n",
    "        df_majority = df[df[target]==0]\n",
    "        df_minority = df[df[target]==1]\n",
    "\n",
    "        df_majority_downsampled = resample(df_majority, \n",
    "                                 replace=False,    # sample without replacement\n",
    "                                 n_samples=lenclass_1,     # to match minority class\n",
    "                                 random_state=123) # reproducible results \n",
    "\n",
    "        # Combine minority class with downsampled majority class\n",
    "        df = pd.concat([df_majority_downsampled, df_minority],ignore_index=True)\n",
    "\n",
    "    return df"
   ]
  },
  {
   "cell_type": "code",
   "execution_count": 51,
   "id": "e4470131",
   "metadata": {},
   "outputs": [
    {
     "name": "stdout",
     "output_type": "stream",
     "text": [
      "There are 19088 spam emails and 19088 ham emails in the dataset\n"
     ]
    }
   ],
   "source": [
    "# send the email dataset to the function downsamp_maj which takes the dataframe, and the name of the column\n",
    "# containing the class labels, in this case the name is 'target'\n",
    "\n",
    "balanced_emails = downsamp_maj(all_emails,'target')\n",
    "\n",
    "# get value counts for printout\n",
    "s=balanced_emails.target.value_counts()\n",
    "print('There are',s.values[0],'spam emails and',s.values[1],'ham emails in the dataset')"
   ]
  },
  {
   "cell_type": "code",
   "execution_count": 55,
   "id": "d856e0dc",
   "metadata": {},
   "outputs": [],
   "source": [
    "balanced_emails.rename(columns={'email': 'clean_msg_no_lst'}, inplace=True)"
   ]
  },
  {
   "cell_type": "code",
   "execution_count": 56,
   "id": "617b03ca",
   "metadata": {},
   "outputs": [
    {
     "data": {
      "text/html": [
       "<div>\n",
       "<style scoped>\n",
       "    .dataframe tbody tr th:only-of-type {\n",
       "        vertical-align: middle;\n",
       "    }\n",
       "\n",
       "    .dataframe tbody tr th {\n",
       "        vertical-align: top;\n",
       "    }\n",
       "\n",
       "    .dataframe thead th {\n",
       "        text-align: right;\n",
       "    }\n",
       "</style>\n",
       "<table border=\"1\" class=\"dataframe\">\n",
       "  <thead>\n",
       "    <tr style=\"text-align: right;\">\n",
       "      <th></th>\n",
       "      <th>clean_msg_no_lst</th>\n",
       "      <th>target</th>\n",
       "    </tr>\n",
       "  </thead>\n",
       "  <tbody>\n",
       "    <tr>\n",
       "      <th>0</th>\n",
       "      <td>hello send email ago qualify new mortgage coul...</td>\n",
       "      <td>1</td>\n",
       "    </tr>\n",
       "    <tr>\n",
       "      <th>1</th>\n",
       "      <td>bamako telegraph review expose new pan epdemic...</td>\n",
       "      <td>1</td>\n",
       "    </tr>\n",
       "    <tr>\n",
       "      <th>2</th>\n",
       "      <td>message ultra portable business notebook pfaa ...</td>\n",
       "      <td>1</td>\n",
       "    </tr>\n",
       "    <tr>\n",
       "      <th>3</th>\n",
       "      <td>investment opportunity speculative investor fu...</td>\n",
       "      <td>1</td>\n",
       "    </tr>\n",
       "    <tr>\n",
       "      <th>4</th>\n",
       "      <td>hello dress black become call yet discover als...</td>\n",
       "      <td>1</td>\n",
       "    </tr>\n",
       "  </tbody>\n",
       "</table>\n",
       "</div>"
      ],
      "text/plain": [
       "                                    clean_msg_no_lst  target\n",
       "0  hello send email ago qualify new mortgage coul...       1\n",
       "1  bamako telegraph review expose new pan epdemic...       1\n",
       "2  message ultra portable business notebook pfaa ...       1\n",
       "3  investment opportunity speculative investor fu...       1\n",
       "4  hello dress black become call yet discover als...       1"
      ]
     },
     "execution_count": 56,
     "metadata": {},
     "output_type": "execute_result"
    }
   ],
   "source": [
    "balanced_emails.head()"
   ]
  },
  {
   "cell_type": "code",
   "execution_count": 57,
   "id": "39c87dc7",
   "metadata": {},
   "outputs": [],
   "source": [
    "balanced_emails.to_csv(\"../data/enron_emails_processed2.csv\", encoding='utf-8', index = None)"
   ]
  }
 ],
 "metadata": {
  "kernelspec": {
   "display_name": "Python 3 (ipykernel)",
   "language": "python",
   "name": "python3"
  },
  "language_info": {
   "codemirror_mode": {
    "name": "ipython",
    "version": 3
   },
   "file_extension": ".py",
   "mimetype": "text/x-python",
   "name": "python",
   "nbconvert_exporter": "python",
   "pygments_lexer": "ipython3",
   "version": "3.9.5"
  }
 },
 "nbformat": 4,
 "nbformat_minor": 5
}
