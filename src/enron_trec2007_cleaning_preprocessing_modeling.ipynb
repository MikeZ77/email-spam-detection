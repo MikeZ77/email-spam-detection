{
 "cells": [
  {
   "cell_type": "markdown",
   "id": "3e107896",
   "metadata": {},
   "source": [
    "## Import Libraries"
   ]
  },
  {
   "cell_type": "code",
   "execution_count": 1,
   "id": "b2951bf8",
   "metadata": {},
   "outputs": [],
   "source": [
    "import numpy as np\n",
    "import pandas as pd\n",
    "import matplotlib.pyplot as plt\n",
    "%matplotlib inline\n",
    "import seaborn as sns\n",
    "import string\n",
    "import nltk\n",
    "import re\n",
    "from collections import Counter"
   ]
  },
  {
   "cell_type": "markdown",
   "id": "05fb97eb",
   "metadata": {},
   "source": [
    "## 1. Import Data"
   ]
  },
  {
   "cell_type": "code",
   "execution_count": 2,
   "id": "a4d7cb26",
   "metadata": {},
   "outputs": [],
   "source": [
    "enron_emails = pd.read_csv('../data/enron_spam_data.csv')"
   ]
  },
  {
   "cell_type": "code",
   "execution_count": 3,
   "id": "bfd975f0",
   "metadata": {},
   "outputs": [],
   "source": [
    "trec_emails = pd.read_csv(\"../data/trec2007_spam_data_cached.csv\")"
   ]
  },
  {
   "cell_type": "markdown",
   "id": "65f0b661",
   "metadata": {},
   "source": [
    "## 2. Raw Data Processing"
   ]
  },
  {
   "cell_type": "markdown",
   "id": "121950f8",
   "metadata": {},
   "source": [
    "### 2.1 Remove Unecessary Columns"
   ]
  },
  {
   "cell_type": "code",
   "execution_count": 4,
   "id": "d5757705",
   "metadata": {},
   "outputs": [],
   "source": [
    "enron_emails.drop(['Message ID', 'Date'], axis = 1, inplace = True)"
   ]
  },
  {
   "cell_type": "code",
   "execution_count": 5,
   "id": "adc45944",
   "metadata": {},
   "outputs": [],
   "source": [
    "trec_emails.drop(['filepath'], axis = 1, inplace = True)"
   ]
  },
  {
   "cell_type": "markdown",
   "id": "3ce326be",
   "metadata": {},
   "source": [
    "### 2.2 Drop Missing Values"
   ]
  },
  {
   "cell_type": "code",
   "execution_count": 6,
   "id": "f91fe1ed",
   "metadata": {},
   "outputs": [],
   "source": [
    "enron_emails.dropna(subset = ['Message'], inplace = True)\n",
    "enron_emails.Subject.fillna('None', inplace = True)"
   ]
  },
  {
   "cell_type": "code",
   "execution_count": 7,
   "id": "692b4089",
   "metadata": {},
   "outputs": [],
   "source": [
    "trec_emails.dropna(inplace = True)"
   ]
  },
  {
   "cell_type": "markdown",
   "id": "ddf22181",
   "metadata": {},
   "source": [
    "### 2.3 Create a binary label encoding on Spam/Ham"
   ]
  },
  {
   "cell_type": "code",
   "execution_count": 8,
   "id": "271a8dca",
   "metadata": {},
   "outputs": [],
   "source": [
    "enron_emails['target'] = enron_emails['Spam/Ham'].map({'ham':0, 'spam':1})"
   ]
  },
  {
   "cell_type": "code",
   "execution_count": 9,
   "id": "7578f822",
   "metadata": {},
   "outputs": [],
   "source": [
    "trec_emails['target'] = trec_emails['class'].map({'ham':0, 'spam':1})"
   ]
  },
  {
   "cell_type": "markdown",
   "id": "cd8daaba",
   "metadata": {},
   "source": [
    "## 3. Cleaning Message\n",
    "\n",
    "- #### Turn words into lowercase letters\n",
    "- #### Remove numerical digits\n",
    "- #### Remove punctuation\n",
    "- #### Tokenization - split a sentence into a list of words \n",
    "- #### Remove stopwords - to remove tokens not contributing to the overall meaning of a sentence\n",
    "- #### Lemmatization - condense variations of the same word to its root form"
   ]
  },
  {
   "cell_type": "code",
   "execution_count": 10,
   "id": "4bf0b269",
   "metadata": {},
   "outputs": [],
   "source": [
    "stopwords = nltk.corpus.stopwords.words('english')\n",
    "wn = nltk.WordNetLemmatizer()"
   ]
  },
  {
   "cell_type": "markdown",
   "id": "89dc0a92",
   "metadata": {},
   "source": [
    "### 3.1 Clean Message into Tokenized Words"
   ]
  },
  {
   "cell_type": "code",
   "execution_count": 11,
   "id": "39071b70",
   "metadata": {},
   "outputs": [],
   "source": [
    "def clean_msg_tokenize(text):\n",
    "    text = \"\".join([word.lower() for word in text if word not in string.punctuation])\n",
    "    text = re.sub('[0-9]+', '', text)\n",
    "    tokens = re.findall('\\S+', text)\n",
    "    text = [wn.lemmatize(word) for word in tokens if word not in stopwords]\n",
    "    return text"
   ]
  },
  {
   "cell_type": "code",
   "execution_count": 12,
   "id": "7ba30a20",
   "metadata": {},
   "outputs": [],
   "source": [
    "enron_emails['clean_msg_tokens'] = enron_emails['Message'].apply(lambda x: clean_msg_tokenize(x))"
   ]
  },
  {
   "cell_type": "code",
   "execution_count": 13,
   "id": "61d3364b",
   "metadata": {},
   "outputs": [],
   "source": [
    "trec_emails['clean_msg_tokens'] = trec_emails['contents'].apply(lambda x: clean_msg_tokenize(x))"
   ]
  },
  {
   "cell_type": "markdown",
   "id": "fe9dd41f",
   "metadata": {},
   "source": [
    "### 3.2 Clean Message for N-Grams Vectorization"
   ]
  },
  {
   "cell_type": "code",
   "execution_count": 14,
   "id": "9f5acaa7",
   "metadata": {},
   "outputs": [],
   "source": [
    "def clean_msg(text):\n",
    "    text = \"\".join([word.lower() for word in text if word not in string.punctuation])\n",
    "    tokens = re.findall('\\S+', text)\n",
    "    text = \" \".join([wn.lemmatize(word) for word in tokens if word not in stopwords])\n",
    "    return text"
   ]
  },
  {
   "cell_type": "code",
   "execution_count": 15,
   "id": "587063d1",
   "metadata": {},
   "outputs": [],
   "source": [
    "enron_emails['cleaned_msg'] = enron_emails['Message'].apply(lambda x: clean_msg(x))"
   ]
  },
  {
   "cell_type": "code",
   "execution_count": 16,
   "id": "7bb8752d",
   "metadata": {},
   "outputs": [],
   "source": [
    "trec_emails['cleaned_msg'] = trec_emails['contents'].apply(lambda x: clean_msg(x))"
   ]
  },
  {
   "cell_type": "markdown",
   "id": "0c4faa48",
   "metadata": {},
   "source": [
    "### 3.3 Remove Extra Stopwords"
   ]
  },
  {
   "cell_type": "code",
   "execution_count": 17,
   "id": "15eb3a97",
   "metadata": {},
   "outputs": [],
   "source": [
    "# Define extra stopwords\n",
    "# https://github.com/kavgan/stop-words/blob/master/terrier-stop.txt\n",
    "extra_stopwords = ['c', 'r', 'u', 'let', 'get', 'would', 'please', 'may', 'also', \\\n",
    "                   'like', 'thanks', 'within', 'go', 'inc', 'make', 'could', 'want', \\\n",
    "                   'need', 'new', 'know', 'best', 'e', 'j', 'p', 'b', 'de', 'see', \\\n",
    "                   'take', 'made', 'ect', 'hou', 'com', 'recipient', 'to', 'cc', 'subject', \\\n",
    "                   'http','from','sent', 'fwd', 'www', 'sara', 'shackleton', 'germani', \\\n",
    "                   'sshacklensf', 'cgermannsf', 'also', 'x', 'px', 'utc', 'rev', 'char', \\\n",
    "                   'listhttpsstatethzchmailmanlistinforhelpplease', 'much', 'dont', \\\n",
    "                   'available', 'said']"
   ]
  },
  {
   "cell_type": "code",
   "execution_count": 18,
   "id": "215b009a",
   "metadata": {},
   "outputs": [],
   "source": [
    "enron_emails['clean_msg_tokens'] = enron_emails['clean_msg_tokens'].apply(lambda x: [word for word in x if word not in extra_stopwords])"
   ]
  },
  {
   "cell_type": "code",
   "execution_count": 19,
   "id": "d722a829",
   "metadata": {},
   "outputs": [],
   "source": [
    "trec_emails['clean_msg_tokens'] = trec_emails['clean_msg_tokens'].apply(lambda x: [word for word in x if word not in extra_stopwords])"
   ]
  },
  {
   "cell_type": "markdown",
   "id": "7ca54d91",
   "metadata": {},
   "source": [
    "### 3.4 Merge Tokenized Words into Cleaned Text"
   ]
  },
  {
   "cell_type": "code",
   "execution_count": 20,
   "id": "2ab6eca6",
   "metadata": {},
   "outputs": [],
   "source": [
    "def clean_msg_rm_lst(msg_tokens):\n",
    "    \n",
    "    text = ' '.join(msg_tokens)\n",
    "    return text"
   ]
  },
  {
   "cell_type": "code",
   "execution_count": 21,
   "id": "1f369a45",
   "metadata": {},
   "outputs": [],
   "source": [
    "enron_emails['clean_msg_no_lst'] = enron_emails['clean_msg_tokens'].apply(lambda x: clean_msg_rm_lst(x))"
   ]
  },
  {
   "cell_type": "code",
   "execution_count": 22,
   "id": "73e5115d",
   "metadata": {},
   "outputs": [],
   "source": [
    "trec_emails['clean_msg_no_lst'] = trec_emails['clean_msg_tokens'].apply(lambda x: clean_msg_rm_lst(x))"
   ]
  },
  {
   "cell_type": "markdown",
   "id": "43540192",
   "metadata": {},
   "source": [
    "## 4. Vectorization"
   ]
  },
  {
   "cell_type": "markdown",
   "id": "21bcb239",
   "metadata": {},
   "source": [
    "### 4.1 Combine both datasets"
   ]
  },
  {
   "cell_type": "code",
   "execution_count": 23,
   "id": "d768c478",
   "metadata": {},
   "outputs": [
    {
     "name": "stdout",
     "output_type": "stream",
     "text": [
      "(33345, 2)\n"
     ]
    }
   ],
   "source": [
    "enron_vec = enron_emails[['clean_msg_no_lst', 'target']].copy()\n",
    "print(enron_vec.shape)"
   ]
  },
  {
   "cell_type": "code",
   "execution_count": 24,
   "id": "539a60d3",
   "metadata": {},
   "outputs": [
    {
     "name": "stdout",
     "output_type": "stream",
     "text": [
      "(60519, 2)\n"
     ]
    }
   ],
   "source": [
    "trec_vec = trec_emails[['clean_msg_no_lst', 'target']].copy()\n",
    "print(trec_vec.shape)"
   ]
  },
  {
   "cell_type": "code",
   "execution_count": 25,
   "id": "00f03b5d",
   "metadata": {},
   "outputs": [
    {
     "data": {
      "image/png": "[encoded data removed]",
      "text/plain": [
       "<Figure size 432x288 with 1 Axes>"
      ]
     },
     "metadata": {
      "needs_background": "light"
     },
     "output_type": "display_data"
    }
   ],
   "source": [
    "trec_vec['target'].value_counts().plot(kind = 'bar');"
   ]
  },
  {
   "cell_type": "code",
   "execution_count": 26,
   "id": "f04c16dd",
   "metadata": {},
   "outputs": [],
   "source": [
    "# https://python-forum.io/thread-12412.html\n",
    "# https://www.dataindependent.com/pandas/pandas-sample/\n",
    "trec_vec = trec_vec.drop(trec_vec.query('target == 1').sample(random_state = 42, frac=.34).index)"
   ]
  },
  {
   "cell_type": "code",
   "execution_count": 27,
   "id": "577be2a0",
   "metadata": {},
   "outputs": [
    {
     "data": {
      "image/png": "[encoded data removed]",
      "text/plain": [
       "<Figure size 432x288 with 1 Axes>"
      ]
     },
     "metadata": {
      "needs_background": "light"
     },
     "output_type": "display_data"
    }
   ],
   "source": [
    "trec_vec['target'].value_counts().plot(kind = 'bar');"
   ]
  },
  {
   "cell_type": "code",
   "execution_count": 28,
   "id": "6f3fad9c",
   "metadata": {},
   "outputs": [],
   "source": [
    "# https://riptutorial.com/pandas/example/9811/merging---concatenating---joining-multiple-data-frames--horizontally-and-vertically-\n",
    "data = pd.concat([enron_vec, trec_vec], ignore_index = True)"
   ]
  },
  {
   "cell_type": "markdown",
   "id": "c0f2ec86",
   "metadata": {},
   "source": [
    "### 4.2 Create a Bigram Count Vectors for the Entire Corpus (only run 4.2.1 or 4.2.2 or 4.2.3)"
   ]
  },
  {
   "cell_type": "code",
   "execution_count": 29,
   "id": "8f32b56e",
   "metadata": {},
   "outputs": [],
   "source": [
    "from sklearn.feature_extraction.text import CountVectorizer, TfidfTransformer, TfidfVectorizer"
   ]
  },
  {
   "cell_type": "markdown",
   "id": "1d8c6bc4",
   "metadata": {},
   "source": [
    "#### 4.2.1 Using Soley the CountVectorizer to Count Term Frequency"
   ]
  },
  {
   "cell_type": "code",
   "execution_count": 292,
   "id": "7b7a1dc7",
   "metadata": {},
   "outputs": [
    {
     "name": "stdout",
     "output_type": "stream",
     "text": [
      "96616\n"
     ]
    }
   ],
   "source": [
    "# Instantiate CountVectorizer\n",
    "# Set parameters: bigram only; remove words appear 10 times or less\n",
    "bigram_vectorizer = CountVectorizer(ngram_range = (2, 2), min_df = 10)\n",
    "\n",
    "# Generates word counts in documents\n",
    "corpus_count_vector = bigram_vectorizer.fit(data['clean_msg_no_lst'])\n",
    "\n",
    "total_features = len(bigram_vectorizer.vocabulary_)\n",
    "print(total_features)"
   ]
  },
  {
   "cell_type": "markdown",
   "id": "c5a8cbce",
   "metadata": {},
   "source": [
    "#### 4.2.2 First: Use CountVectorizer to Count Term Frequency"
   ]
  },
  {
   "cell_type": "code",
   "execution_count": 325,
   "id": "377da486",
   "metadata": {},
   "outputs": [
    {
     "name": "stdout",
     "output_type": "stream",
     "text": [
      "96616\n",
      "(81624, 96616)\n"
     ]
    }
   ],
   "source": [
    "bigram_vectorizer = CountVectorizer(ngram_range = (2, 2), min_df = 10)\n",
    "corpus_count_vec = bigram_vectorizer.fit_transform(data['clean_msg_no_lst'])\n",
    "total_features = len(bigram_vectorizer.vocabulary_)\n",
    "print(total_features)\n",
    "print(corpus_count_vec.shape)"
   ]
  },
  {
   "cell_type": "markdown",
   "id": "40b00b3e",
   "metadata": {},
   "source": [
    "#### 4.2.2 Second: Compute IDF values by calling TfidfTransformer on the word counts computed earlier"
   ]
  },
  {
   "cell_type": "code",
   "execution_count": 367,
   "id": "887bd369",
   "metadata": {},
   "outputs": [
    {
     "data": {
      "text/plain": [
       "TfidfTransformer()"
      ]
     },
     "execution_count": 367,
     "metadata": {},
     "output_type": "execute_result"
    }
   ],
   "source": [
    "tfidf_transformer = TfidfTransformer(smooth_idf = True, use_idf = True) \n",
    "tfidf_transformer.fit(corpus_count_vec)"
   ]
  },
  {
   "cell_type": "markdown",
   "id": "d85d85e6",
   "metadata": {},
   "source": [
    "#### 4.2.3 Use Tfidfvectorizer to Compute word counts, idf and tf-idf values"
   ]
  },
  {
   "cell_type": "code",
   "execution_count": 30,
   "id": "0422fd84",
   "metadata": {},
   "outputs": [
    {
     "data": {
      "text/plain": [
       "TfidfVectorizer(min_df=10, ngram_range=(2, 2))"
      ]
     },
     "execution_count": 30,
     "metadata": {},
     "output_type": "execute_result"
    }
   ],
   "source": [
    "tfidf_vectorizer = TfidfVectorizer(ngram_range = (2, 2), min_df = 10, use_idf = True)\n",
    "tfidf_vectorizer.fit(data['clean_msg_no_lst'])"
   ]
  },
  {
   "cell_type": "markdown",
   "id": "477ffa8a",
   "metadata": {},
   "source": [
    "### 4.3 Train-Test-Split: Enron Data as Train Set & Subset of TREC2007 as Test Set"
   ]
  },
  {
   "cell_type": "code",
   "execution_count": 31,
   "id": "35e9a637",
   "metadata": {},
   "outputs": [],
   "source": [
    "from sklearn.model_selection import train_test_split"
   ]
  },
  {
   "cell_type": "code",
   "execution_count": 32,
   "id": "a9535b87",
   "metadata": {},
   "outputs": [
    {
     "name": "stdout",
     "output_type": "stream",
     "text": [
      "a shape: (41037, 1)\n",
      "b shape: (41037,)\n",
      "X_test shape: (7242, 1)\n",
      "Y_test shape: (7242,)\n"
     ]
    }
   ],
   "source": [
    "a, X_test, b, Y_test = train_test_split(trec_vec[['clean_msg_no_lst']], trec_vec.target, random_state = 42, test_size = 0.15)\n",
    "\n",
    "print(f\"a shape: {a.shape}\")\n",
    "print(f\"b shape: {b.shape}\")\n",
    "print(f\"X_test shape: {X_test.shape}\")\n",
    "print(f\"Y_test shape: {Y_test.shape}\")"
   ]
  },
  {
   "cell_type": "markdown",
   "id": "fe6542fa",
   "metadata": {},
   "source": [
    "### 4.4 Apply Bigrams Vectorization to Transform Train & Test Sets (only run 4.4.1 or 4.4.2 or 4.4.3)"
   ]
  },
  {
   "cell_type": "markdown",
   "id": "1fdeb08d",
   "metadata": {},
   "source": [
    "#### 4.4.1: Use the Corpus Count Vector from 4.2.1 to Transform Train & Test Sets"
   ]
  },
  {
   "cell_type": "code",
   "execution_count": 295,
   "id": "9ca7b521",
   "metadata": {},
   "outputs": [
    {
     "name": "stdout",
     "output_type": "stream",
     "text": [
      "(33345, 96616)\n",
      "(33345,)\n",
      "(7242, 96616)\n"
     ]
    }
   ],
   "source": [
    "X_train_fitted = corpus_count_vector.transform(enron_vec['clean_msg_no_lst'])\n",
    "X_test_fitted = corpus_count_vector.transform(X_test['clean_msg_no_lst'])\n",
    "Y_train = enron_vec.target\n",
    "\n",
    "print(X_train_fitted.shape)\n",
    "print(Y_train.shape)\n",
    "print(X_test_fitted.shape)"
   ]
  },
  {
   "cell_type": "markdown",
   "id": "c3a69cd6",
   "metadata": {},
   "source": [
    "#### 4.4.2: Use the Corpus Count Vector from 4.2.2 to Transform Train & Test Sets"
   ]
  },
  {
   "cell_type": "code",
   "execution_count": 329,
   "id": "cd1ee289",
   "metadata": {},
   "outputs": [
    {
     "name": "stdout",
     "output_type": "stream",
     "text": [
      "(33345, 96616)\n",
      "(33345,)\n",
      "(7242, 96616)\n"
     ]
    }
   ],
   "source": [
    "X_train_vector = bigram_vectorizer.transform(enron_vec['clean_msg_no_lst'])\n",
    "X_train_fitted = tfidf_transformer.transform(X_train_vector)\n",
    "\n",
    "X_test_vector = bigram_vectorizer.transform(X_test['clean_msg_no_lst'])\n",
    "X_test_fitted = tfidf_transformer.transform(X_test_vector)\n",
    "\n",
    "Y_train = enron_vec.target\n",
    "\n",
    "print(X_train_fitted.shape)\n",
    "print(Y_train.shape)\n",
    "print(X_test_fitted.shape)"
   ]
  },
  {
   "cell_type": "markdown",
   "id": "a72f390f",
   "metadata": {},
   "source": [
    "#### 4.4.3: Use the Corpus Count Vector from 4.2.3 to Transform Train & Test Sets"
   ]
  },
  {
   "cell_type": "code",
   "execution_count": 33,
   "id": "de16eac3",
   "metadata": {},
   "outputs": [
    {
     "name": "stdout",
     "output_type": "stream",
     "text": [
      "(33345, 96616)\n",
      "(33345,)\n",
      "(7242, 96616)\n"
     ]
    }
   ],
   "source": [
    "X_train_fitted = tfidf_vectorizer.transform(enron_vec['clean_msg_no_lst'])\n",
    "X_test_fitted = tfidf_vectorizer.transform(X_test['clean_msg_no_lst'])\n",
    "Y_train = enron_vec.target\n",
    "\n",
    "print(X_train_fitted.shape)\n",
    "print(Y_train.shape)\n",
    "print(X_test_fitted.shape)"
   ]
  },
  {
   "cell_type": "markdown",
   "id": "babbea36",
   "metadata": {},
   "source": [
    "## 5. Classification Modeling"
   ]
  },
  {
   "cell_type": "code",
   "execution_count": 34,
   "id": "d32d2e94",
   "metadata": {},
   "outputs": [],
   "source": [
    "import pickle\n",
    "from sklearn.ensemble import RandomForestClassifier\n",
    "from sklearn.metrics import classification_report, confusion_matrix, ConfusionMatrixDisplay\n",
    "from sklearn.metrics import precision_recall_fscore_support as score\n",
    "from sklearn.linear_model import LogisticRegression\n",
    "from sklearn.naive_bayes import MultinomialNB\n",
    "from sklearn import svm\n",
    "from sklearn.neighbors import KNeighborsClassifier\n",
    "from sklearn.metrics import roc_curve\n",
    "from sklearn.metrics import roc_auc_score"
   ]
  },
  {
   "cell_type": "markdown",
   "id": "cc8cc66c",
   "metadata": {},
   "source": [
    "### 5.1 Random Forest Model"
   ]
  },
  {
   "cell_type": "code",
   "execution_count": 382,
   "id": "8685d990",
   "metadata": {},
   "outputs": [
    {
     "name": "stdout",
     "output_type": "stream",
     "text": [
      "Est: 50 / Depth: None ---- Precision: 0.51 / Recall: 0.958 / f1-score: 0.666 / Accuracy: 0.528\n",
      "Est: 100 / Depth: None ---- Precision: 0.51 / Recall: 0.958 / f1-score: 0.666 / Accuracy: 0.528\n",
      "Est: 150 / Depth: None ---- Precision: 0.509 / Recall: 0.958 / f1-score: 0.665 / Accuracy: 0.526\n"
     ]
    }
   ],
   "source": [
    "# Manual grid search for random forest \n",
    "'''\n",
    "def explore_rf_params(n_est, depth):\n",
    "    rf = RandomForestClassifier(n_estimators = n_est, max_depth = depth, n_jobs = -1, random_state = 42)\n",
    "    rf_model = rf.fit(X_train_fitted, Y_train)\n",
    "    Y_pred = rf_model.predict(X_test_fitted)\n",
    "    precision, recall, fscore, support = score(Y_test, Y_pred, pos_label = 1, average = 'binary')\n",
    "    print(f\"Est: {n_est} / Depth: {depth} ---- Precision: {round(precision, 3)} / Recall: {round(recall, 3)} / f1-score: {round(fscore, 3)} / Accuracy: {round((Y_pred==Y_test).sum() / len(Y_pred), 3)}\")\n",
    "    \n",
    "for n_est in [50, 100, 150]:\n",
    "    for depth in [10, 20, 30, None]:\n",
    "        explore_rf_params(n_est, depth)\n",
    "'''"
   ]
  },
  {
   "cell_type": "code",
   "execution_count": 35,
   "id": "bee12b78",
   "metadata": {},
   "outputs": [],
   "source": [
    "rf = RandomForestClassifier(n_estimators = 50, max_depth = None, random_state = 42, n_jobs = -1).fit(X_train_fitted, Y_train)"
   ]
  },
  {
   "cell_type": "markdown",
   "id": "ae2427e9",
   "metadata": {},
   "source": [
    "### 5.1.1 Store RF via pickle"
   ]
  },
  {
   "cell_type": "code",
   "execution_count": 36,
   "id": "9232e4ae",
   "metadata": {},
   "outputs": [],
   "source": [
    "# create an iterator object with write permission - model.pkl\n",
    "with open('../models/rf_pkl', 'wb') as files:\n",
    "    pickle.dump(rf, files)"
   ]
  },
  {
   "cell_type": "code",
   "execution_count": 37,
   "id": "8f8a2fb1",
   "metadata": {},
   "outputs": [],
   "source": [
    "# load saved model\n",
    "with open('../models/rf_pkl' , 'rb') as f:\n",
    "    rf = pickle.load(f)"
   ]
  },
  {
   "cell_type": "markdown",
   "id": "aa9d01c2",
   "metadata": {},
   "source": [
    "### 5.1.2 Use RF for Ham/Spam Predictions"
   ]
  },
  {
   "cell_type": "code",
   "execution_count": 38,
   "id": "51bf113d",
   "metadata": {},
   "outputs": [
    {
     "name": "stdout",
     "output_type": "stream",
     "text": [
      "              precision    recall  f1-score   support\n",
      "\n",
      "           0       0.74      0.11      0.20      3691\n",
      "           1       0.51      0.96      0.67      3551\n",
      "\n",
      "    accuracy                           0.53      7242\n",
      "   macro avg       0.62      0.54      0.43      7242\n",
      "weighted avg       0.63      0.53      0.43      7242\n",
      "\n",
      "[[ 423 3268]\n",
      " [ 150 3401]]\n"
     ]
    }
   ],
   "source": [
    "rf_predictions = rf.predict(X_test_fitted)\n",
    "print(classification_report(Y_test, rf_predictions))\n",
    "print(confusion_matrix(Y_test, rf_predictions))"
   ]
  },
  {
   "cell_type": "markdown",
   "id": "b72abc08",
   "metadata": {},
   "source": [
    "### 5.1.3 RF Confusion Matrix"
   ]
  },
  {
   "cell_type": "code",
   "execution_count": 39,
   "id": "78192d13",
   "metadata": {},
   "outputs": [
    {
     "data": {
      "image/png": "[encoded data removed]",
      "text/plain": [
       "<Figure size 432x288 with 2 Axes>"
      ]
     },
     "metadata": {
      "needs_background": "light"
     },
     "output_type": "display_data"
    }
   ],
   "source": [
    "cm_rf = confusion_matrix(Y_test, rf_predictions)\n",
    "cmd_rf = ConfusionMatrixDisplay(cm_rf, display_labels=['ham','spam'])\n",
    "cmd_rf.plot();"
   ]
  },
  {
   "cell_type": "markdown",
   "id": "a21bd7d7",
   "metadata": {},
   "source": [
    "### 5.1.4 RF ROC Curve"
   ]
  },
  {
   "cell_type": "code",
   "execution_count": 82,
   "id": "3ba8d324",
   "metadata": {},
   "outputs": [
    {
     "name": "stdout",
     "output_type": "stream",
     "text": [
      "Logistic: ROC AUC=0.685\n"
     ]
    },
    {
     "data": {
      "image/png": "[encoded data removed]",
      "text/plain": [
       "<Figure size 432x288 with 1 Axes>"
      ]
     },
     "metadata": {
      "needs_background": "light"
     },
     "output_type": "display_data"
    }
   ],
   "source": [
    "# predict probabilities\n",
    "rf_probs = rf.predict_proba(X_test_fitted)\n",
    "\n",
    "# keep probabilities for the positive outcome only\n",
    "rf_probs = rf_probs[:, 1]\n",
    "# calculate roc scores\n",
    "rf_auc = roc_auc_score(Y_test, rf_probs)\n",
    "\n",
    "# summarize scores\n",
    "print('Random Forest: ROC AUC=%.3f' % (rf_auc))\n",
    "\n",
    "# calculate roc curves\n",
    "rf_fpr, rf_tpr, _ = roc_curve(Y_test, rf_probs)\n",
    "\n",
    "# plot the roc curve for the model\n",
    "plt.plot(rf_fpr, rf_tpr, marker='.', label = 'Random Forest')\n",
    "\n",
    "# axis labels\n",
    "plt.xlabel('False Positive Rate')\n",
    "plt.ylabel('True Positive Rate')\n",
    "\n",
    "# show the legend\n",
    "plt.legend()\n",
    "\n",
    "# show the plot\n",
    "plt.show()"
   ]
  },
  {
   "cell_type": "markdown",
   "id": "2c98856a",
   "metadata": {},
   "source": [
    "### 5.2 Naive Bayes"
   ]
  },
  {
   "cell_type": "code",
   "execution_count": 40,
   "id": "c660ec72",
   "metadata": {},
   "outputs": [],
   "source": [
    "mbayes = MultinomialNB().fit(X_train_fitted, Y_train)"
   ]
  },
  {
   "cell_type": "markdown",
   "id": "75fada87",
   "metadata": {},
   "source": [
    "### 5.2.1 Store Naive Bayes via pickle"
   ]
  },
  {
   "cell_type": "code",
   "execution_count": 41,
   "id": "784ebf08",
   "metadata": {},
   "outputs": [],
   "source": [
    "with open('../models/mbayes_pkl', 'wb') as files:\n",
    "    pickle.dump(mbayes, files)"
   ]
  },
  {
   "cell_type": "code",
   "execution_count": 42,
   "id": "109a15ce",
   "metadata": {},
   "outputs": [],
   "source": [
    "with open('../models/mbayes_pkl' , 'rb') as f:\n",
    "    mbayes = pickle.load(f)"
   ]
  },
  {
   "cell_type": "markdown",
   "id": "8b181d5f",
   "metadata": {},
   "source": [
    "### 5.2.2 Use Naive Bayes for Ham/Spam Predictions"
   ]
  },
  {
   "cell_type": "code",
   "execution_count": 43,
   "id": "c6f196d9",
   "metadata": {},
   "outputs": [
    {
     "name": "stdout",
     "output_type": "stream",
     "text": [
      "              precision    recall  f1-score   support\n",
      "\n",
      "           0       0.77      0.79      0.78      3691\n",
      "           1       0.78      0.76      0.77      3551\n",
      "\n",
      "    accuracy                           0.78      7242\n",
      "   macro avg       0.78      0.78      0.78      7242\n",
      "weighted avg       0.78      0.78      0.78      7242\n",
      "\n",
      "[[2923  768]\n",
      " [ 849 2702]]\n"
     ]
    }
   ],
   "source": [
    "mbayes_predictions = mbayes.predict(X_test_fitted)\n",
    "print(classification_report(Y_test, mbayes_predictions))\n",
    "print(confusion_matrix(Y_test, mbayes_predictions))"
   ]
  },
  {
   "cell_type": "markdown",
   "id": "76ebd57b",
   "metadata": {},
   "source": [
    "### 5.2.3 Naive Bayes Confusion Matrix"
   ]
  },
  {
   "cell_type": "code",
   "execution_count": 44,
   "id": "98376f0d",
   "metadata": {},
   "outputs": [
    {
     "data": {
      "image/png": "[encoded data removed]",
      "text/plain": [
       "<Figure size 432x288 with 2 Axes>"
      ]
     },
     "metadata": {
      "needs_background": "light"
     },
     "output_type": "display_data"
    }
   ],
   "source": [
    "cm_mbayes = confusion_matrix(Y_test, mbayes_predictions)\n",
    "cmd_mbayes = ConfusionMatrixDisplay(cm_mbayes, display_labels=['ham','spam'])\n",
    "cmd_mbayes.plot();"
   ]
  },
  {
   "cell_type": "markdown",
   "id": "b9e48d7e",
   "metadata": {},
   "source": [
    "### 5.2.4 Naive Bayes ROC Curve"
   ]
  },
  {
   "cell_type": "code",
   "execution_count": 83,
   "id": "0de8ca06",
   "metadata": {},
   "outputs": [
    {
     "name": "stdout",
     "output_type": "stream",
     "text": [
      "Naive Bayes: ROC AUC=0.849\n"
     ]
    },
    {
     "data": {
      "image/png": "[encoded data removed]",
      "text/plain": [
       "<Figure size 432x288 with 1 Axes>"
      ]
     },
     "metadata": {
      "needs_background": "light"
     },
     "output_type": "display_data"
    }
   ],
   "source": [
    "# predict probabilities\n",
    "mbayes_probs = mbayes.predict_proba(X_test_fitted)\n",
    "\n",
    "# keep probabilities for the positive outcome only\n",
    "mbayes_probs = mbayes_probs[:, 1]\n",
    "# calculate roc scores\n",
    "mbayes_auc = roc_auc_score(Y_test, mbayes_probs)\n",
    "\n",
    "# summarize scores\n",
    "print('Naive Bayes: ROC AUC=%.3f' % (mbayes_auc))\n",
    "\n",
    "# calculate roc curves\n",
    "mbayes_fpr, mbayes_tpr, _ = roc_curve(Y_test, mbayes_probs)\n",
    "\n",
    "# plot the roc curve for the model\n",
    "plt.plot(mbayes_fpr, mbayes_tpr, marker='.', label = 'Naive Bayes')\n",
    "\n",
    "# axis labels\n",
    "plt.xlabel('False Positive Rate')\n",
    "plt.ylabel('True Positive Rate')\n",
    "\n",
    "# show the legend\n",
    "plt.legend()\n",
    "\n",
    "# show the plot\n",
    "plt.show()"
   ]
  },
  {
   "cell_type": "markdown",
   "id": "db6f59ec",
   "metadata": {},
   "source": [
    "### 5.3 Logistic Regression"
   ]
  },
  {
   "cell_type": "code",
   "execution_count": 45,
   "id": "f8fec4b0",
   "metadata": {},
   "outputs": [],
   "source": [
    "lr = LogisticRegression().fit(X_train_fitted, Y_train)"
   ]
  },
  {
   "cell_type": "markdown",
   "id": "00a5bcd2",
   "metadata": {},
   "source": [
    "### 5.3.1 Store Logistic Regression via pickle"
   ]
  },
  {
   "cell_type": "code",
   "execution_count": 46,
   "id": "43c56ad6",
   "metadata": {},
   "outputs": [],
   "source": [
    "with open('../models/lr_pkl', 'wb') as files:\n",
    "    pickle.dump(lr, files)"
   ]
  },
  {
   "cell_type": "code",
   "execution_count": 47,
   "id": "4d172aff",
   "metadata": {},
   "outputs": [],
   "source": [
    "with open('../models/lr_pkl' , 'rb') as f:\n",
    "    lr = pickle.load(f)"
   ]
  },
  {
   "cell_type": "markdown",
   "id": "0064768d",
   "metadata": {},
   "source": [
    "### 5.3.2 Use Logistic Regression for Ham/Spam Predictions"
   ]
  },
  {
   "cell_type": "code",
   "execution_count": 48,
   "id": "d71db9a4",
   "metadata": {},
   "outputs": [
    {
     "name": "stdout",
     "output_type": "stream",
     "text": [
      "              precision    recall  f1-score   support\n",
      "\n",
      "           0       0.82      0.09      0.16      3691\n",
      "           1       0.51      0.98      0.67      3551\n",
      "\n",
      "    accuracy                           0.52      7242\n",
      "   macro avg       0.67      0.53      0.41      7242\n",
      "weighted avg       0.67      0.52      0.41      7242\n",
      "\n",
      "[[ 316 3375]\n",
      " [  68 3483]]\n"
     ]
    }
   ],
   "source": [
    "lr_predictions = lr.predict(X_test_fitted)\n",
    "print(classification_report(Y_test, lr_predictions))\n",
    "print(confusion_matrix(Y_test, lr_predictions))"
   ]
  },
  {
   "cell_type": "markdown",
   "id": "93f8b29e",
   "metadata": {},
   "source": [
    "### 5.3.3 Logistic Regression Confusion Matrix"
   ]
  },
  {
   "cell_type": "code",
   "execution_count": 49,
   "id": "f9473ca8",
   "metadata": {},
   "outputs": [
    {
     "data": {
      "image/png": "[encoded data removed]",
      "text/plain": [
       "<Figure size 432x288 with 2 Axes>"
      ]
     },
     "metadata": {
      "needs_background": "light"
     },
     "output_type": "display_data"
    }
   ],
   "source": [
    "cm_lr = confusion_matrix(Y_test, lr_predictions)\n",
    "cmd_lr = ConfusionMatrixDisplay(cm_lr, display_labels=['ham','spam'])\n",
    "cmd_lr.plot();"
   ]
  },
  {
   "cell_type": "markdown",
   "id": "dbf37c90",
   "metadata": {},
   "source": [
    "### 5.3.4 Logistic Regression ROC Curve"
   ]
  },
  {
   "cell_type": "code",
   "execution_count": 84,
   "id": "1edb3ff0",
   "metadata": {},
   "outputs": [
    {
     "name": "stdout",
     "output_type": "stream",
     "text": [
      "Logistic Regression: ROC AUC=0.776\n"
     ]
    },
    {
     "data": {
      "image/png": "[encoded data removed]",
      "text/plain": [
       "<Figure size 432x288 with 1 Axes>"
      ]
     },
     "metadata": {
      "needs_background": "light"
     },
     "output_type": "display_data"
    }
   ],
   "source": [
    "# predict probabilities\n",
    "lr_probs = lr.predict_proba(X_test_fitted)\n",
    "\n",
    "# keep probabilities for the positive outcome only\n",
    "lr_probs = lr_probs[:, 1]\n",
    "\n",
    "# calculate roc scores\n",
    "lr_auc = roc_auc_score(Y_test, lr_probs)\n",
    "\n",
    "# summarize scores\n",
    "print('Logistic Regression: ROC AUC=%.3f' % (lr_auc))\n",
    "\n",
    "# calculate roc curves\n",
    "lr_fpr, lr_tpr, _ = roc_curve(Y_test, lr_probs)\n",
    "\n",
    "# plot the roc curve for the model\n",
    "plt.plot(lr_fpr, lr_tpr, marker='.', label = 'Logistic Regression')\n",
    "\n",
    "# axis labels\n",
    "plt.xlabel('False Positive Rate')\n",
    "plt.ylabel('True Positive Rate')\n",
    "\n",
    "# show the legend\n",
    "plt.legend()\n",
    "\n",
    "# show the plot\n",
    "plt.show()"
   ]
  },
  {
   "cell_type": "markdown",
   "id": "7682af91",
   "metadata": {},
   "source": [
    "### 5.4 SVM"
   ]
  },
  {
   "cell_type": "code",
   "execution_count": 86,
   "id": "54cdafd7",
   "metadata": {},
   "outputs": [],
   "source": [
    "svm_SVC = svm.SVC(kernel = 'rbf', gamma = 0.01, probability = True).fit(X_train_fitted, Y_train)"
   ]
  },
  {
   "cell_type": "markdown",
   "id": "86daa7c2",
   "metadata": {},
   "source": [
    "### 5.4.1 Store SVM via pickle"
   ]
  },
  {
   "cell_type": "code",
   "execution_count": 87,
   "id": "4cc7d774",
   "metadata": {},
   "outputs": [],
   "source": [
    "with open('../models/svm_pkl', 'wb') as files:\n",
    "    pickle.dump(svm_SVC, files)"
   ]
  },
  {
   "cell_type": "code",
   "execution_count": 88,
   "id": "85add0a6",
   "metadata": {},
   "outputs": [],
   "source": [
    "with open('../models/svm_pkl' , 'rb') as f:\n",
    "    svm_SVC = pickle.load(f)"
   ]
  },
  {
   "cell_type": "markdown",
   "id": "e702fc0b",
   "metadata": {},
   "source": [
    "### 5.4.2 Use SVM for Ham/Spam Predictions"
   ]
  },
  {
   "cell_type": "code",
   "execution_count": 89,
   "id": "bb16b0cd",
   "metadata": {},
   "outputs": [
    {
     "name": "stdout",
     "output_type": "stream",
     "text": [
      "              precision    recall  f1-score   support\n",
      "\n",
      "           0       0.95      0.01      0.02      3691\n",
      "           1       0.49      1.00      0.66      3551\n",
      "\n",
      "    accuracy                           0.50      7242\n",
      "   macro avg       0.72      0.51      0.34      7242\n",
      "weighted avg       0.73      0.50      0.33      7242\n",
      "\n",
      "[[  41 3650]\n",
      " [   2 3549]]\n"
     ]
    }
   ],
   "source": [
    "svm_SVC_predictions = svm_SVC.predict(X_test_fitted)\n",
    "print(classification_report(Y_test, svm_SVC_predictions))\n",
    "print(confusion_matrix(Y_test, svm_SVC_predictions))"
   ]
  },
  {
   "cell_type": "markdown",
   "id": "396c426a",
   "metadata": {},
   "source": [
    "### 5.4.3 SVM Confusion Matrix"
   ]
  },
  {
   "cell_type": "code",
   "execution_count": 90,
   "id": "f767d8f6",
   "metadata": {},
   "outputs": [
    {
     "data": {
      "image/png": "[encoded data removed]",
      "text/plain": [
       "<Figure size 432x288 with 2 Axes>"
      ]
     },
     "metadata": {
      "needs_background": "light"
     },
     "output_type": "display_data"
    }
   ],
   "source": [
    "cm_svm = confusion_matrix(Y_test, svm_SVC_predictions)\n",
    "cmd_svm = ConfusionMatrixDisplay(cm_svm, display_labels=['ham','spam'])\n",
    "cmd_svm.plot();"
   ]
  },
  {
   "cell_type": "markdown",
   "id": "7873d93f",
   "metadata": {},
   "source": [
    "### 5.4.4 SVM ROC Curve"
   ]
  },
  {
   "cell_type": "code",
   "execution_count": 91,
   "id": "185b8910",
   "metadata": {},
   "outputs": [
    {
     "name": "stdout",
     "output_type": "stream",
     "text": [
      "SVM: ROC AUC=0.778\n"
     ]
    },
    {
     "data": {
      "image/png": "[encoded data removed]",
      "text/plain": [
       "<Figure size 432x288 with 1 Axes>"
      ]
     },
     "metadata": {
      "needs_background": "light"
     },
     "output_type": "display_data"
    }
   ],
   "source": [
    "# predict probabilities\n",
    "# https://www.discoverbits.in/371/sklearn-attributeerror-predict_proba-available-probability\n",
    "svm_probs = svm_SVC.predict_proba(X_test_fitted)\n",
    "\n",
    "# keep probabilities for the positive outcome only\n",
    "svm_probs = svm_probs[:, 1]\n",
    "\n",
    "# calculate roc scores\n",
    "svm_auc = roc_auc_score(Y_test, svm_probs)\n",
    "\n",
    "# summarize scores\n",
    "print('SVM: ROC AUC=%.3f' % (svm_auc))\n",
    "\n",
    "# calculate roc curves\n",
    "svm_fpr, svm_tpr, _ = roc_curve(Y_test, svm_probs)\n",
    "\n",
    "# plot the roc curve for the model\n",
    "plt.plot(svm_fpr, svm_tpr, marker='.', label = 'SVM')\n",
    "\n",
    "# axis labels\n",
    "plt.xlabel('False Positive Rate')\n",
    "plt.ylabel('True Positive Rate')\n",
    "\n",
    "# show the legend\n",
    "plt.legend()\n",
    "\n",
    "# show the plot\n",
    "plt.show()"
   ]
  },
  {
   "cell_type": "markdown",
   "id": "3b7422bb",
   "metadata": {},
   "source": [
    "### 5.5 KNN"
   ]
  },
  {
   "cell_type": "code",
   "execution_count": 75,
   "id": "79cb7584",
   "metadata": {},
   "outputs": [],
   "source": [
    "knn = KNeighborsClassifier(n_neighbors = 5).fit(X_train_fitted, Y_train)"
   ]
  },
  {
   "cell_type": "markdown",
   "id": "30aab79b",
   "metadata": {},
   "source": [
    "### 5.5.1 Store KNN via pickle"
   ]
  },
  {
   "cell_type": "code",
   "execution_count": 76,
   "id": "113fcce0",
   "metadata": {},
   "outputs": [],
   "source": [
    "with open('../models/knn_pkl', 'wb') as files:\n",
    "    pickle.dump(knn, files)"
   ]
  },
  {
   "cell_type": "code",
   "execution_count": 77,
   "id": "0a2e2206",
   "metadata": {},
   "outputs": [],
   "source": [
    "with open('../models/knn_pkl' , 'rb') as f:\n",
    "    knn = pickle.load(f)"
   ]
  },
  {
   "cell_type": "markdown",
   "id": "8bdf91b2",
   "metadata": {},
   "source": [
    "### 5.5.2 Use KNN for Ham/Spam Predictions"
   ]
  },
  {
   "cell_type": "code",
   "execution_count": 78,
   "id": "956cbaad",
   "metadata": {},
   "outputs": [
    {
     "name": "stdout",
     "output_type": "stream",
     "text": [
      "[[ 382 3309]\n",
      " [ 301 3250]]\n",
      "              precision    recall  f1-score   support\n",
      "\n",
      "           0       0.56      0.10      0.17      3691\n",
      "           1       0.50      0.92      0.64      3551\n",
      "\n",
      "    accuracy                           0.50      7242\n",
      "   macro avg       0.53      0.51      0.41      7242\n",
      "weighted avg       0.53      0.50      0.40      7242\n",
      "\n"
     ]
    }
   ],
   "source": [
    "knn_predictions = knn.predict(X_test_fitted)\n",
    "print(confusion_matrix(Y_test, knn_predictions))\n",
    "print(classification_report(Y_test, knn_predictions))"
   ]
  },
  {
   "cell_type": "markdown",
   "id": "7fe6e0c9",
   "metadata": {},
   "source": [
    "### 5.5.3 KNN Confusion Matrix"
   ]
  },
  {
   "cell_type": "code",
   "execution_count": 79,
   "id": "6fcfb2f0",
   "metadata": {},
   "outputs": [
    {
     "data": {
      "image/png": "[encoded data removed]",
      "text/plain": [
       "<Figure size 432x288 with 2 Axes>"
      ]
     },
     "metadata": {
      "needs_background": "light"
     },
     "output_type": "display_data"
    }
   ],
   "source": [
    "cm_knn = confusion_matrix(Y_test, knn_predictions)\n",
    "cmd_knn = ConfusionMatrixDisplay(cm_knn, display_labels=['ham','spam'])\n",
    "cmd_knn.plot();"
   ]
  },
  {
   "cell_type": "markdown",
   "id": "46f25c5d",
   "metadata": {},
   "source": [
    "### 5.5.4 KNN ROC Curve¶"
   ]
  },
  {
   "cell_type": "code",
   "execution_count": 92,
   "id": "f20c5d5a",
   "metadata": {},
   "outputs": [
    {
     "name": "stdout",
     "output_type": "stream",
     "text": [
      "KNN: ROC AUC=0.502\n"
     ]
    },
    {
     "data": {
      "image/png": "[encoded data removed]",
      "text/plain": [
       "<Figure size 432x288 with 1 Axes>"
      ]
     },
     "metadata": {
      "needs_background": "light"
     },
     "output_type": "display_data"
    }
   ],
   "source": [
    "# https://www.discoverbits.in/371/sklearn-attributeerror-predict_proba-available-probability\n",
    "knn_probs = knn.predict_proba(X_test_fitted)\n",
    "\n",
    "# keep probabilities for the positive outcome only\n",
    "knn_probs = knn_probs[:, 1]\n",
    "\n",
    "# calculate roc scores\n",
    "knn_auc = roc_auc_score(Y_test, knn_probs)\n",
    "\n",
    "# summarize scores\n",
    "print('KNN: ROC AUC=%.3f' % (knn_auc))\n",
    "\n",
    "# calculate roc curves\n",
    "knn_fpr, knn_tpr, _ = roc_curve(Y_test, knn_probs)\n",
    "\n",
    "# plot the roc curve for the model\n",
    "plt.plot(knn_fpr, knn_tpr, marker='.', label = 'KNN')\n",
    "\n",
    "# axis labels\n",
    "plt.xlabel('False Positive Rate')\n",
    "plt.ylabel('True Positive Rate')\n",
    "\n",
    "# show the legend\n",
    "plt.legend()\n",
    "\n",
    "# show the plot\n",
    "plt.show()"
   ]
  }
 ],
 "metadata": {
  "kernelspec": {
   "display_name": "Python 3 (ipykernel)",
   "language": "python",
   "name": "python3"
  },
  "language_info": {
   "codemirror_mode": {
    "name": "ipython",
    "version": 3
   },
   "file_extension": ".py",
   "mimetype": "text/x-python",
   "name": "python",
   "nbconvert_exporter": "python",
   "pygments_lexer": "ipython3",
   "version": "3.9.5"
  }
 },
 "nbformat": 4,
 "nbformat_minor": 5
}
