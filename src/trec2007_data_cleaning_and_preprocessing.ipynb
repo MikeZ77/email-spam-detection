{
 "cells": [
  {
   "cell_type": "markdown",
   "id": "91770388",
   "metadata": {},
   "source": [
    "## Introduction\n",
    "\n",
    "Uses the 2007 TREC Public Spam Corpus copyright 2005 Gordon V. Cormack and Thomas R. Lynam.\n",
    "    \n",
    "The corpus trec07p contains 75,419 messages (25220 ham and 50199 spam).\n",
    "This notebook processes the original (raw) dataset available from https://plg.uwaterloo.ca/~gvcormac/treccorpus07/.\n"
   ]
  },
  {
   "cell_type": "markdown",
   "id": "1e10ab71",
   "metadata": {},
   "source": [
    "## Import Libraries"
   ]
  },
  {
   "cell_type": "code",
   "execution_count": 1,
   "id": "d5ea9165",
   "metadata": {},
   "outputs": [],
   "source": [
    "import numpy as np\n",
    "import pandas as pd\n",
    "import re\n",
    "import string\n",
    "import nltk  \n",
    "import random\n",
    "import matplotlib.pyplot as plt\n",
    "%matplotlib inline\n",
    "from tqdm import tqdm\n",
    "from email.parser import Parser\n",
    "from langdetect import detect\n",
    "from collections import Counter"
   ]
  },
  {
   "cell_type": "markdown",
   "id": "f4d47a0f",
   "metadata": {},
   "source": [
    "## 1. Process Raw Data\n",
    "\n",
    "Note: Unzip trec07p.tgz in the data folder."
   ]
  },
  {
   "cell_type": "code",
   "execution_count": 36,
   "id": "5969ddc3",
   "metadata": {},
   "outputs": [
    {
     "data": {
      "text/html": [
       "<div>\n",
       "<style scoped>\n",
       "    .dataframe tbody tr th:only-of-type {\n",
       "        vertical-align: middle;\n",
       "    }\n",
       "\n",
       "    .dataframe tbody tr th {\n",
       "        vertical-align: top;\n",
       "    }\n",
       "\n",
       "    .dataframe thead th {\n",
       "        text-align: right;\n",
       "    }\n",
       "</style>\n",
       "<table border=\"1\" class=\"dataframe\">\n",
       "  <thead>\n",
       "    <tr style=\"text-align: right;\">\n",
       "      <th></th>\n",
       "      <th>0</th>\n",
       "      <th>1</th>\n",
       "    </tr>\n",
       "  </thead>\n",
       "  <tbody>\n",
       "    <tr>\n",
       "      <th>0</th>\n",
       "      <td>spam</td>\n",
       "      <td>../data/inmail.1</td>\n",
       "    </tr>\n",
       "    <tr>\n",
       "      <th>1</th>\n",
       "      <td>ham</td>\n",
       "      <td>../data/inmail.2</td>\n",
       "    </tr>\n",
       "    <tr>\n",
       "      <th>2</th>\n",
       "      <td>spam</td>\n",
       "      <td>../data/inmail.3</td>\n",
       "    </tr>\n",
       "    <tr>\n",
       "      <th>3</th>\n",
       "      <td>spam</td>\n",
       "      <td>../data/inmail.4</td>\n",
       "    </tr>\n",
       "    <tr>\n",
       "      <th>4</th>\n",
       "      <td>spam</td>\n",
       "      <td>../data/inmail.5</td>\n",
       "    </tr>\n",
       "  </tbody>\n",
       "</table>\n",
       "</div>"
      ],
      "text/plain": [
       "      0                 1\n",
       "0  spam  ../data/inmail.1\n",
       "1   ham  ../data/inmail.2\n",
       "2  spam  ../data/inmail.3\n",
       "3  spam  ../data/inmail.4\n",
       "4  spam  ../data/inmail.5"
      ]
     },
     "execution_count": 36,
     "metadata": {},
     "output_type": "execute_result"
    }
   ],
   "source": [
    "data = pd.read_csv(\"../data/trec07p/full/index\",sep=' ',header=None)\n",
    "data.head()"
   ]
  },
  {
   "cell_type": "code",
   "execution_count": 37,
   "id": "b4898d3c",
   "metadata": {},
   "outputs": [
    {
     "data": {
      "text/html": [
       "<div>\n",
       "<style scoped>\n",
       "    .dataframe tbody tr th:only-of-type {\n",
       "        vertical-align: middle;\n",
       "    }\n",
       "\n",
       "    .dataframe tbody tr th {\n",
       "        vertical-align: top;\n",
       "    }\n",
       "\n",
       "    .dataframe thead th {\n",
       "        text-align: right;\n",
       "    }\n",
       "</style>\n",
       "<table border=\"1\" class=\"dataframe\">\n",
       "  <thead>\n",
       "    <tr style=\"text-align: right;\">\n",
       "      <th></th>\n",
       "      <th>class</th>\n",
       "      <th>filepath</th>\n",
       "      <th>contents</th>\n",
       "    </tr>\n",
       "  </thead>\n",
       "  <tbody>\n",
       "    <tr>\n",
       "      <th>0</th>\n",
       "      <td>spam</td>\n",
       "      <td>../data/inmail.1</td>\n",
       "      <td>None</td>\n",
       "    </tr>\n",
       "    <tr>\n",
       "      <th>1</th>\n",
       "      <td>ham</td>\n",
       "      <td>../data/inmail.2</td>\n",
       "      <td>None</td>\n",
       "    </tr>\n",
       "    <tr>\n",
       "      <th>2</th>\n",
       "      <td>spam</td>\n",
       "      <td>../data/inmail.3</td>\n",
       "      <td>None</td>\n",
       "    </tr>\n",
       "    <tr>\n",
       "      <th>3</th>\n",
       "      <td>spam</td>\n",
       "      <td>../data/inmail.4</td>\n",
       "      <td>None</td>\n",
       "    </tr>\n",
       "    <tr>\n",
       "      <th>4</th>\n",
       "      <td>spam</td>\n",
       "      <td>../data/inmail.5</td>\n",
       "      <td>None</td>\n",
       "    </tr>\n",
       "  </tbody>\n",
       "</table>\n",
       "</div>"
      ],
      "text/plain": [
       "  class          filepath contents\n",
       "0  spam  ../data/inmail.1     None\n",
       "1   ham  ../data/inmail.2     None\n",
       "2  spam  ../data/inmail.3     None\n",
       "3  spam  ../data/inmail.4     None\n",
       "4  spam  ../data/inmail.5     None"
      ]
     },
     "execution_count": 37,
     "metadata": {},
     "output_type": "execute_result"
    }
   ],
   "source": [
    "data.columns=['class','filepath']\n",
    "data['contents'] = None\n",
    "data.head()"
   ]
  },
  {
   "cell_type": "code",
   "execution_count": 38,
   "id": "d2dbf8f4",
   "metadata": {},
   "outputs": [
    {
     "name": "stderr",
     "output_type": "stream",
     "text": [
      "100%|███████████████████████████████████████████████████████████████████████████████████| 75419/75419 [28:16<00:00, 44.45it/s]"
     ]
    },
    {
     "name": "stdout",
     "output_type": "stream",
     "text": [
      "  class           filepath                                           contents\n",
      "0  spam   ../data/inmail.1                                                NaN\n",
      "1   ham   ../data/inmail.2  Hi, i've just updated from the gulus and I che...\n",
      "2  spam   ../data/inmail.3  Mega  authenticV I A G R A   $ DISCOUNT priceC...\n",
      "3  spam   ../data/inmail.4  Hey Billy, it was really fun going out the oth...\n",
      "4  spam   ../data/inmail.5  system\" of the home.  It will have the capabil...\n",
      "5  spam   ../data/inmail.6  the program and the creative abilities of the ...\n",
      "6  spam   ../data/inmail.7  Glad to see you!Look at the assortment of our ...\n",
      "7  spam   ../data/inmail.8                                                NaN\n",
      "8  spam   ../data/inmail.9    HoodiaLife - Start Losing Weight Now!HoodiaL...\n",
      "9   ham  ../data/inmail.10  Hi...I have to use R to find out the 90% confi...\n",
      "<class 'pandas.core.frame.DataFrame'>\n",
      "RangeIndex: 75419 entries, 0 to 75418\n",
      "Data columns (total 3 columns):\n",
      " #   Column    Non-Null Count  Dtype \n",
      "---  ------    --------------  ----- \n",
      " 0   class     75419 non-null  object\n",
      " 1   filepath  75419 non-null  object\n",
      " 2   contents  60519 non-null  object\n",
      "dtypes: object(3)\n",
      "memory usage: 1.7+ MB\n",
      "None\n"
     ]
    },
    {
     "name": "stderr",
     "output_type": "stream",
     "text": [
      "\n"
     ]
    }
   ],
   "source": [
    "parser = Parser()\n",
    "    \n",
    "for i,row in tqdm(data.iterrows(),total=data.shape[0]):\n",
    "    body = ''    \n",
    "    filepath=row['filepath'].replace('../data', '../data/trec07p/data')\n",
    "    with open(filepath, 'r', encoding='ISO-8859-1') as ifile:\n",
    "        email = parser.parse(ifile)\n",
    "        \n",
    "    if email.is_multipart():\n",
    "        for part in email.walk():\n",
    "            content_type = part.get_content_type()\n",
    "            content_dispo = str(part.get('Content-Disposition'))\n",
    "\n",
    "            # Skip any text/plain (txt) attachments\n",
    "            if content_type == 'text/plain' and 'attachment' not in content_dispo:\n",
    "                body = part.get_payload(decode=False)\n",
    "                break ## Only keep the first email\n",
    "    else:\n",
    "        body = email.get_payload(decode=False)\n",
    "      \n",
    "    # if i > 20: break\n",
    "    \n",
    "    # Remove html tags and newlines\n",
    "    body = re.sub('<[^<]+?>', '', body)\n",
    "    body = body.replace('\\n','')\n",
    "    # Because this is Canadian, there is some French. Remove it.\n",
    "    try:\n",
    "        langs = detect(body)\n",
    "        if langs !='en':\n",
    "            raise Exception('Body content is not English.')\n",
    "        data.at[i,'contents']= body\n",
    "    except:\n",
    "        data.at[i,'contents']= np.nan\n",
    "        \n",
    "print(data.head(10))\n",
    "print(data.info())"
   ]
  },
  {
   "cell_type": "code",
   "execution_count": 39,
   "id": "adf62964",
   "metadata": {},
   "outputs": [],
   "source": [
    "# Cache this data\n",
    "data.to_csv('../data/trec2007_spam_data_cached.csv', index=False)"
   ]
  },
  {
   "cell_type": "markdown",
   "id": "a7014c8e",
   "metadata": {},
   "source": [
    "## 2. Data Cleaning"
   ]
  },
  {
   "cell_type": "code",
   "execution_count": 3,
   "id": "fdb29edc",
   "metadata": {},
   "outputs": [
    {
     "data": {
      "text/html": [
       "<div>\n",
       "<style scoped>\n",
       "    .dataframe tbody tr th:only-of-type {\n",
       "        vertical-align: middle;\n",
       "    }\n",
       "\n",
       "    .dataframe tbody tr th {\n",
       "        vertical-align: top;\n",
       "    }\n",
       "\n",
       "    .dataframe thead th {\n",
       "        text-align: right;\n",
       "    }\n",
       "</style>\n",
       "<table border=\"1\" class=\"dataframe\">\n",
       "  <thead>\n",
       "    <tr style=\"text-align: right;\">\n",
       "      <th></th>\n",
       "      <th>class</th>\n",
       "      <th>filepath</th>\n",
       "      <th>contents</th>\n",
       "    </tr>\n",
       "  </thead>\n",
       "  <tbody>\n",
       "    <tr>\n",
       "      <th>0</th>\n",
       "      <td>spam</td>\n",
       "      <td>../data/inmail.1</td>\n",
       "      <td>NaN</td>\n",
       "    </tr>\n",
       "    <tr>\n",
       "      <th>1</th>\n",
       "      <td>ham</td>\n",
       "      <td>../data/inmail.2</td>\n",
       "      <td>Hi, i've just updated from the gulus and I che...</td>\n",
       "    </tr>\n",
       "    <tr>\n",
       "      <th>2</th>\n",
       "      <td>spam</td>\n",
       "      <td>../data/inmail.3</td>\n",
       "      <td>Mega  authenticV I A G R A   $ DISCOUNT priceC...</td>\n",
       "    </tr>\n",
       "  </tbody>\n",
       "</table>\n",
       "</div>"
      ],
      "text/plain": [
       "  class          filepath                                           contents\n",
       "0  spam  ../data/inmail.1                                                NaN\n",
       "1   ham  ../data/inmail.2  Hi, i've just updated from the gulus and I che...\n",
       "2  spam  ../data/inmail.3  Mega  authenticV I A G R A   $ DISCOUNT priceC..."
      ]
     },
     "execution_count": 3,
     "metadata": {},
     "output_type": "execute_result"
    }
   ],
   "source": [
    "data = pd.read_csv(\"../data/trec2007_spam_data_cached.csv\")\n",
    "data.head(3)"
   ]
  },
  {
   "cell_type": "markdown",
   "id": "87316318",
   "metadata": {},
   "source": [
    "### 2.1 Remove Unecessary Columns"
   ]
  },
  {
   "cell_type": "code",
   "execution_count": 4,
   "id": "76f7ecbe",
   "metadata": {},
   "outputs": [
    {
     "data": {
      "text/html": [
       "<div>\n",
       "<style scoped>\n",
       "    .dataframe tbody tr th:only-of-type {\n",
       "        vertical-align: middle;\n",
       "    }\n",
       "\n",
       "    .dataframe tbody tr th {\n",
       "        vertical-align: top;\n",
       "    }\n",
       "\n",
       "    .dataframe thead th {\n",
       "        text-align: right;\n",
       "    }\n",
       "</style>\n",
       "<table border=\"1\" class=\"dataframe\">\n",
       "  <thead>\n",
       "    <tr style=\"text-align: right;\">\n",
       "      <th></th>\n",
       "      <th>class</th>\n",
       "      <th>contents</th>\n",
       "    </tr>\n",
       "  </thead>\n",
       "  <tbody>\n",
       "    <tr>\n",
       "      <th>0</th>\n",
       "      <td>spam</td>\n",
       "      <td>NaN</td>\n",
       "    </tr>\n",
       "    <tr>\n",
       "      <th>1</th>\n",
       "      <td>ham</td>\n",
       "      <td>Hi, i've just updated from the gulus and I che...</td>\n",
       "    </tr>\n",
       "    <tr>\n",
       "      <th>2</th>\n",
       "      <td>spam</td>\n",
       "      <td>Mega  authenticV I A G R A   $ DISCOUNT priceC...</td>\n",
       "    </tr>\n",
       "  </tbody>\n",
       "</table>\n",
       "</div>"
      ],
      "text/plain": [
       "  class                                           contents\n",
       "0  spam                                                NaN\n",
       "1   ham  Hi, i've just updated from the gulus and I che...\n",
       "2  spam  Mega  authenticV I A G R A   $ DISCOUNT priceC..."
      ]
     },
     "execution_count": 4,
     "metadata": {},
     "output_type": "execute_result"
    }
   ],
   "source": [
    "data.drop(['filepath'], axis = 1, inplace = True)\n",
    "data.head(3)"
   ]
  },
  {
   "cell_type": "markdown",
   "id": "2d5477ce",
   "metadata": {},
   "source": [
    "### 2.2 Drop Missing Values"
   ]
  },
  {
   "cell_type": "code",
   "execution_count": 5,
   "id": "997b28e9",
   "metadata": {},
   "outputs": [
    {
     "name": "stdout",
     "output_type": "stream",
     "text": [
      "Number of samples before 75419\n",
      "Number of samples After 60519\n"
     ]
    }
   ],
   "source": [
    "print('Number of samples before {}'.format(len(data)))\n",
    "data.dropna(inplace = True)\n",
    "print('Number of samples After {}'.format(len(data)))"
   ]
  },
  {
   "cell_type": "markdown",
   "id": "7e56bbc0",
   "metadata": {},
   "source": [
    "## 3. Create Additional Features"
   ]
  },
  {
   "cell_type": "markdown",
   "id": "921f5250",
   "metadata": {},
   "source": [
    "### 3.1 Create a binary label encoding on Spam/Ham"
   ]
  },
  {
   "cell_type": "code",
   "execution_count": 6,
   "id": "22e0e4ce",
   "metadata": {},
   "outputs": [
    {
     "data": {
      "text/html": [
       "<div>\n",
       "<style scoped>\n",
       "    .dataframe tbody tr th:only-of-type {\n",
       "        vertical-align: middle;\n",
       "    }\n",
       "\n",
       "    .dataframe tbody tr th {\n",
       "        vertical-align: top;\n",
       "    }\n",
       "\n",
       "    .dataframe thead th {\n",
       "        text-align: right;\n",
       "    }\n",
       "</style>\n",
       "<table border=\"1\" class=\"dataframe\">\n",
       "  <thead>\n",
       "    <tr style=\"text-align: right;\">\n",
       "      <th></th>\n",
       "      <th>class</th>\n",
       "      <th>contents</th>\n",
       "      <th>target</th>\n",
       "    </tr>\n",
       "  </thead>\n",
       "  <tbody>\n",
       "    <tr>\n",
       "      <th>1</th>\n",
       "      <td>ham</td>\n",
       "      <td>Hi, i've just updated from the gulus and I che...</td>\n",
       "      <td>0</td>\n",
       "    </tr>\n",
       "    <tr>\n",
       "      <th>2</th>\n",
       "      <td>spam</td>\n",
       "      <td>Mega  authenticV I A G R A   $ DISCOUNT priceC...</td>\n",
       "      <td>1</td>\n",
       "    </tr>\n",
       "    <tr>\n",
       "      <th>3</th>\n",
       "      <td>spam</td>\n",
       "      <td>Hey Billy, it was really fun going out the oth...</td>\n",
       "      <td>1</td>\n",
       "    </tr>\n",
       "  </tbody>\n",
       "</table>\n",
       "</div>"
      ],
      "text/plain": [
       "  class                                           contents  target\n",
       "1   ham  Hi, i've just updated from the gulus and I che...       0\n",
       "2  spam  Mega  authenticV I A G R A   $ DISCOUNT priceC...       1\n",
       "3  spam  Hey Billy, it was really fun going out the oth...       1"
      ]
     },
     "execution_count": 6,
     "metadata": {},
     "output_type": "execute_result"
    }
   ],
   "source": [
    "data['target'] = data['class'].map({'ham':0, 'spam':1})\n",
    "data.head(3)"
   ]
  },
  {
   "cell_type": "markdown",
   "id": "87029eb6",
   "metadata": {},
   "source": [
    "### 3.2 Create columns to tally punctuation"
   ]
  },
  {
   "cell_type": "code",
   "execution_count": 7,
   "id": "cd6c4f1c",
   "metadata": {},
   "outputs": [
    {
     "data": {
      "text/html": [
       "<div>\n",
       "<style scoped>\n",
       "    .dataframe tbody tr th:only-of-type {\n",
       "        vertical-align: middle;\n",
       "    }\n",
       "\n",
       "    .dataframe tbody tr th {\n",
       "        vertical-align: top;\n",
       "    }\n",
       "\n",
       "    .dataframe thead th {\n",
       "        text-align: right;\n",
       "    }\n",
       "</style>\n",
       "<table border=\"1\" class=\"dataframe\">\n",
       "  <thead>\n",
       "    <tr style=\"text-align: right;\">\n",
       "      <th></th>\n",
       "      <th>class</th>\n",
       "      <th>contents</th>\n",
       "      <th>target</th>\n",
       "      <th>!</th>\n",
       "      <th>\"</th>\n",
       "      <th>#</th>\n",
       "      <th>$</th>\n",
       "      <th>%</th>\n",
       "      <th>&amp;</th>\n",
       "      <th>'</th>\n",
       "      <th>...</th>\n",
       "      <th>[</th>\n",
       "      <th>\\</th>\n",
       "      <th>]</th>\n",
       "      <th>^</th>\n",
       "      <th>_</th>\n",
       "      <th>`</th>\n",
       "      <th>{</th>\n",
       "      <th>|</th>\n",
       "      <th>}</th>\n",
       "      <th>~</th>\n",
       "    </tr>\n",
       "  </thead>\n",
       "  <tbody>\n",
       "    <tr>\n",
       "      <th>1</th>\n",
       "      <td>ham</td>\n",
       "      <td>Hi, i've just updated from the gulus and I che...</td>\n",
       "      <td>0</td>\n",
       "      <td>0</td>\n",
       "      <td>4</td>\n",
       "      <td>0</td>\n",
       "      <td>0</td>\n",
       "      <td>0</td>\n",
       "      <td>0</td>\n",
       "      <td>1</td>\n",
       "      <td>...</td>\n",
       "      <td>0</td>\n",
       "      <td>0</td>\n",
       "      <td>0</td>\n",
       "      <td>0</td>\n",
       "      <td>0</td>\n",
       "      <td>0</td>\n",
       "      <td>0</td>\n",
       "      <td>0</td>\n",
       "      <td>0</td>\n",
       "      <td>0</td>\n",
       "    </tr>\n",
       "    <tr>\n",
       "      <th>2</th>\n",
       "      <td>spam</td>\n",
       "      <td>Mega  authenticV I A G R A   $ DISCOUNT priceC...</td>\n",
       "      <td>1</td>\n",
       "      <td>0</td>\n",
       "      <td>0</td>\n",
       "      <td>0</td>\n",
       "      <td>2</td>\n",
       "      <td>0</td>\n",
       "      <td>0</td>\n",
       "      <td>0</td>\n",
       "      <td>...</td>\n",
       "      <td>0</td>\n",
       "      <td>0</td>\n",
       "      <td>0</td>\n",
       "      <td>0</td>\n",
       "      <td>0</td>\n",
       "      <td>0</td>\n",
       "      <td>0</td>\n",
       "      <td>0</td>\n",
       "      <td>0</td>\n",
       "      <td>0</td>\n",
       "    </tr>\n",
       "    <tr>\n",
       "      <th>3</th>\n",
       "      <td>spam</td>\n",
       "      <td>Hey Billy, it was really fun going out the oth...</td>\n",
       "      <td>1</td>\n",
       "      <td>0</td>\n",
       "      <td>0</td>\n",
       "      <td>0</td>\n",
       "      <td>0</td>\n",
       "      <td>0</td>\n",
       "      <td>0</td>\n",
       "      <td>1</td>\n",
       "      <td>...</td>\n",
       "      <td>0</td>\n",
       "      <td>0</td>\n",
       "      <td>0</td>\n",
       "      <td>0</td>\n",
       "      <td>0</td>\n",
       "      <td>0</td>\n",
       "      <td>0</td>\n",
       "      <td>0</td>\n",
       "      <td>0</td>\n",
       "      <td>0</td>\n",
       "    </tr>\n",
       "  </tbody>\n",
       "</table>\n",
       "<p>3 rows × 35 columns</p>\n",
       "</div>"
      ],
      "text/plain": [
       "  class                                           contents  target  !  \"  #  \\\n",
       "1   ham  Hi, i've just updated from the gulus and I che...       0  0  4  0   \n",
       "2  spam  Mega  authenticV I A G R A   $ DISCOUNT priceC...       1  0  0  0   \n",
       "3  spam  Hey Billy, it was really fun going out the oth...       1  0  0  0   \n",
       "\n",
       "   $  %  &  '  ...  [  \\  ]  ^  _  `  {  |  }  ~  \n",
       "1  0  0  0  1  ...  0  0  0  0  0  0  0  0  0  0  \n",
       "2  2  0  0  0  ...  0  0  0  0  0  0  0  0  0  0  \n",
       "3  0  0  0  1  ...  0  0  0  0  0  0  0  0  0  0  \n",
       "\n",
       "[3 rows x 35 columns]"
      ]
     },
     "execution_count": 7,
     "metadata": {},
     "output_type": "execute_result"
    }
   ],
   "source": [
    "for punctu in string.punctuation:\n",
    "    data[punctu] = data['contents'].map(lambda v : v.count(punctu))\n",
    "\n",
    "data.head(3)"
   ]
  },
  {
   "cell_type": "markdown",
   "id": "e057b8bd",
   "metadata": {},
   "source": [
    "### 3.3 Create a column to tally message body length (via counting # of spaces)"
   ]
  },
  {
   "cell_type": "code",
   "execution_count": 8,
   "id": "7ac1bf7d",
   "metadata": {},
   "outputs": [
    {
     "data": {
      "text/html": [
       "<div>\n",
       "<style scoped>\n",
       "    .dataframe tbody tr th:only-of-type {\n",
       "        vertical-align: middle;\n",
       "    }\n",
       "\n",
       "    .dataframe tbody tr th {\n",
       "        vertical-align: top;\n",
       "    }\n",
       "\n",
       "    .dataframe thead th {\n",
       "        text-align: right;\n",
       "    }\n",
       "</style>\n",
       "<table border=\"1\" class=\"dataframe\">\n",
       "  <thead>\n",
       "    <tr style=\"text-align: right;\">\n",
       "      <th></th>\n",
       "      <th>class</th>\n",
       "      <th>contents</th>\n",
       "      <th>target</th>\n",
       "      <th>!</th>\n",
       "      <th>\"</th>\n",
       "      <th>#</th>\n",
       "      <th>$</th>\n",
       "      <th>%</th>\n",
       "      <th>&amp;</th>\n",
       "      <th>'</th>\n",
       "      <th>...</th>\n",
       "      <th>\\</th>\n",
       "      <th>]</th>\n",
       "      <th>^</th>\n",
       "      <th>_</th>\n",
       "      <th>`</th>\n",
       "      <th>{</th>\n",
       "      <th>|</th>\n",
       "      <th>}</th>\n",
       "      <th>~</th>\n",
       "      <th>msg_body_len</th>\n",
       "    </tr>\n",
       "  </thead>\n",
       "  <tbody>\n",
       "    <tr>\n",
       "      <th>1</th>\n",
       "      <td>ham</td>\n",
       "      <td>Hi, i've just updated from the gulus and I che...</td>\n",
       "      <td>0</td>\n",
       "      <td>0</td>\n",
       "      <td>4</td>\n",
       "      <td>0</td>\n",
       "      <td>0</td>\n",
       "      <td>0</td>\n",
       "      <td>0</td>\n",
       "      <td>1</td>\n",
       "      <td>...</td>\n",
       "      <td>0</td>\n",
       "      <td>0</td>\n",
       "      <td>0</td>\n",
       "      <td>0</td>\n",
       "      <td>0</td>\n",
       "      <td>0</td>\n",
       "      <td>0</td>\n",
       "      <td>0</td>\n",
       "      <td>0</td>\n",
       "      <td>626</td>\n",
       "    </tr>\n",
       "    <tr>\n",
       "      <th>2</th>\n",
       "      <td>spam</td>\n",
       "      <td>Mega  authenticV I A G R A   $ DISCOUNT priceC...</td>\n",
       "      <td>1</td>\n",
       "      <td>0</td>\n",
       "      <td>0</td>\n",
       "      <td>0</td>\n",
       "      <td>2</td>\n",
       "      <td>0</td>\n",
       "      <td>0</td>\n",
       "      <td>0</td>\n",
       "      <td>...</td>\n",
       "      <td>0</td>\n",
       "      <td>0</td>\n",
       "      <td>0</td>\n",
       "      <td>0</td>\n",
       "      <td>0</td>\n",
       "      <td>0</td>\n",
       "      <td>0</td>\n",
       "      <td>0</td>\n",
       "      <td>0</td>\n",
       "      <td>102</td>\n",
       "    </tr>\n",
       "    <tr>\n",
       "      <th>3</th>\n",
       "      <td>spam</td>\n",
       "      <td>Hey Billy, it was really fun going out the oth...</td>\n",
       "      <td>1</td>\n",
       "      <td>0</td>\n",
       "      <td>0</td>\n",
       "      <td>0</td>\n",
       "      <td>0</td>\n",
       "      <td>0</td>\n",
       "      <td>0</td>\n",
       "      <td>1</td>\n",
       "      <td>...</td>\n",
       "      <td>0</td>\n",
       "      <td>0</td>\n",
       "      <td>0</td>\n",
       "      <td>0</td>\n",
       "      <td>0</td>\n",
       "      <td>0</td>\n",
       "      <td>0</td>\n",
       "      <td>0</td>\n",
       "      <td>0</td>\n",
       "      <td>511</td>\n",
       "    </tr>\n",
       "  </tbody>\n",
       "</table>\n",
       "<p>3 rows × 36 columns</p>\n",
       "</div>"
      ],
      "text/plain": [
       "  class                                           contents  target  !  \"  #  \\\n",
       "1   ham  Hi, i've just updated from the gulus and I che...       0  0  4  0   \n",
       "2  spam  Mega  authenticV I A G R A   $ DISCOUNT priceC...       1  0  0  0   \n",
       "3  spam  Hey Billy, it was really fun going out the oth...       1  0  0  0   \n",
       "\n",
       "   $  %  &  '  ...  \\  ]  ^  _  `  {  |  }  ~  msg_body_len  \n",
       "1  0  0  0  1  ...  0  0  0  0  0  0  0  0  0           626  \n",
       "2  2  0  0  0  ...  0  0  0  0  0  0  0  0  0           102  \n",
       "3  0  0  0  1  ...  0  0  0  0  0  0  0  0  0           511  \n",
       "\n",
       "[3 rows x 36 columns]"
      ]
     },
     "execution_count": 8,
     "metadata": {},
     "output_type": "execute_result"
    }
   ],
   "source": [
    "data['msg_body_len'] = data.contents.apply(lambda x: len(x) - x.count(\" \"))\n",
    "data.head(3)"
   ]
  },
  {
   "cell_type": "markdown",
   "id": "0a73fa09",
   "metadata": {},
   "source": [
    "### 3.4 Create a column to accout for the % of punctuation to message body length"
   ]
  },
  {
   "cell_type": "code",
   "execution_count": 9,
   "id": "166e26de",
   "metadata": {},
   "outputs": [
    {
     "data": {
      "text/html": [
       "<div>\n",
       "<style scoped>\n",
       "    .dataframe tbody tr th:only-of-type {\n",
       "        vertical-align: middle;\n",
       "    }\n",
       "\n",
       "    .dataframe tbody tr th {\n",
       "        vertical-align: top;\n",
       "    }\n",
       "\n",
       "    .dataframe thead th {\n",
       "        text-align: right;\n",
       "    }\n",
       "</style>\n",
       "<table border=\"1\" class=\"dataframe\">\n",
       "  <thead>\n",
       "    <tr style=\"text-align: right;\">\n",
       "      <th></th>\n",
       "      <th>class</th>\n",
       "      <th>contents</th>\n",
       "      <th>target</th>\n",
       "      <th>!</th>\n",
       "      <th>\"</th>\n",
       "      <th>#</th>\n",
       "      <th>$</th>\n",
       "      <th>%</th>\n",
       "      <th>&amp;</th>\n",
       "      <th>'</th>\n",
       "      <th>...</th>\n",
       "      <th>]</th>\n",
       "      <th>^</th>\n",
       "      <th>_</th>\n",
       "      <th>`</th>\n",
       "      <th>{</th>\n",
       "      <th>|</th>\n",
       "      <th>}</th>\n",
       "      <th>~</th>\n",
       "      <th>msg_body_len</th>\n",
       "      <th>punct%</th>\n",
       "    </tr>\n",
       "  </thead>\n",
       "  <tbody>\n",
       "    <tr>\n",
       "      <th>1</th>\n",
       "      <td>ham</td>\n",
       "      <td>Hi, i've just updated from the gulus and I che...</td>\n",
       "      <td>0</td>\n",
       "      <td>0</td>\n",
       "      <td>4</td>\n",
       "      <td>0</td>\n",
       "      <td>0</td>\n",
       "      <td>0</td>\n",
       "      <td>0</td>\n",
       "      <td>1</td>\n",
       "      <td>...</td>\n",
       "      <td>0</td>\n",
       "      <td>0</td>\n",
       "      <td>0</td>\n",
       "      <td>0</td>\n",
       "      <td>0</td>\n",
       "      <td>0</td>\n",
       "      <td>0</td>\n",
       "      <td>0</td>\n",
       "      <td>626</td>\n",
       "      <td>8.3</td>\n",
       "    </tr>\n",
       "    <tr>\n",
       "      <th>2</th>\n",
       "      <td>spam</td>\n",
       "      <td>Mega  authenticV I A G R A   $ DISCOUNT priceC...</td>\n",
       "      <td>1</td>\n",
       "      <td>0</td>\n",
       "      <td>0</td>\n",
       "      <td>0</td>\n",
       "      <td>2</td>\n",
       "      <td>0</td>\n",
       "      <td>0</td>\n",
       "      <td>0</td>\n",
       "      <td>...</td>\n",
       "      <td>0</td>\n",
       "      <td>0</td>\n",
       "      <td>0</td>\n",
       "      <td>0</td>\n",
       "      <td>0</td>\n",
       "      <td>0</td>\n",
       "      <td>0</td>\n",
       "      <td>0</td>\n",
       "      <td>102</td>\n",
       "      <td>8.8</td>\n",
       "    </tr>\n",
       "    <tr>\n",
       "      <th>3</th>\n",
       "      <td>spam</td>\n",
       "      <td>Hey Billy, it was really fun going out the oth...</td>\n",
       "      <td>1</td>\n",
       "      <td>0</td>\n",
       "      <td>0</td>\n",
       "      <td>0</td>\n",
       "      <td>0</td>\n",
       "      <td>0</td>\n",
       "      <td>0</td>\n",
       "      <td>1</td>\n",
       "      <td>...</td>\n",
       "      <td>0</td>\n",
       "      <td>0</td>\n",
       "      <td>0</td>\n",
       "      <td>0</td>\n",
       "      <td>0</td>\n",
       "      <td>0</td>\n",
       "      <td>0</td>\n",
       "      <td>0</td>\n",
       "      <td>511</td>\n",
       "      <td>4.9</td>\n",
       "    </tr>\n",
       "  </tbody>\n",
       "</table>\n",
       "<p>3 rows × 37 columns</p>\n",
       "</div>"
      ],
      "text/plain": [
       "  class                                           contents  target  !  \"  #  \\\n",
       "1   ham  Hi, i've just updated from the gulus and I che...       0  0  4  0   \n",
       "2  spam  Mega  authenticV I A G R A   $ DISCOUNT priceC...       1  0  0  0   \n",
       "3  spam  Hey Billy, it was really fun going out the oth...       1  0  0  0   \n",
       "\n",
       "   $  %  &  '  ...  ]  ^  _  `  {  |  }  ~  msg_body_len  punct%  \n",
       "1  0  0  0  1  ...  0  0  0  0  0  0  0  0           626     8.3  \n",
       "2  2  0  0  0  ...  0  0  0  0  0  0  0  0           102     8.8  \n",
       "3  0  0  0  1  ...  0  0  0  0  0  0  0  0           511     4.9  \n",
       "\n",
       "[3 rows x 37 columns]"
      ]
     },
     "execution_count": 9,
     "metadata": {},
     "output_type": "execute_result"
    }
   ],
   "source": [
    "def count_punct(text):\n",
    "    count = sum([1 for char in text if char in string.punctuation])\n",
    "    return round(count/(len(text) - text.count(\" \")), 3) * 100\n",
    "\n",
    "data['punct%'] = data.contents.apply(lambda x: count_punct(x))\n",
    "data.head(3)"
   ]
  },
  {
   "cell_type": "markdown",
   "id": "d3cda1c4",
   "metadata": {},
   "source": [
    "## 4. Cleaning Message\n",
    "\n",
    "- #### Turn words into lowercase letters\n",
    "- #### Remove numerical digits\n",
    "- #### Remove punctuation\n",
    "- #### Tokenization - split a sentence into a list of words \n",
    "- #### Remove stopwords - to remove tokens not contributing to the overall meaning of a sentence\n",
    "- #### Lemmatization - condense variations of the same word to its root form"
   ]
  },
  {
   "cell_type": "code",
   "execution_count": 60,
   "id": "7ebda259",
   "metadata": {},
   "outputs": [
    {
     "name": "stderr",
     "output_type": "stream",
     "text": [
      "[nltk_data] Downloading package stopwords to /home/mzaghi/nltk_data...\n",
      "[nltk_data]   Package stopwords is already up-to-date!\n",
      "[nltk_data] Downloading package wordnet to /home/mzaghi/nltk_data...\n",
      "[nltk_data]   Unzipping corpora/wordnet.zip.\n"
     ]
    },
    {
     "data": {
      "text/plain": [
       "True"
      ]
     },
     "execution_count": 60,
     "metadata": {},
     "output_type": "execute_result"
    }
   ],
   "source": [
    "nltk.download('stopwords')\n",
    "nltk.download('wordnet')"
   ]
  },
  {
   "cell_type": "code",
   "execution_count": 10,
   "id": "26b4fd80",
   "metadata": {},
   "outputs": [],
   "source": [
    "stopwords = nltk.corpus.stopwords.words('english')\n",
    "wn = nltk.WordNetLemmatizer()"
   ]
  },
  {
   "cell_type": "markdown",
   "id": "4c6e6113",
   "metadata": {},
   "source": [
    "### 4.1 Clean Message into Tokenized Words"
   ]
  },
  {
   "cell_type": "code",
   "execution_count": 11,
   "id": "c122da56",
   "metadata": {},
   "outputs": [],
   "source": [
    "def clean_msg_tokenize(text):\n",
    "    text = \"\".join([word.lower() for word in text if word not in string.punctuation])\n",
    "    text = re.sub('[0-9]+', '', text)\n",
    "    tokens = re.findall('\\S+', text)\n",
    "    text = [wn.lemmatize(word) for word in tokens if word not in stopwords]\n",
    "    return text\n",
    "\n",
    "data['clean_msg_tokens'] = data['contents'].apply(lambda x: clean_msg_tokenize(x))"
   ]
  },
  {
   "cell_type": "markdown",
   "id": "71e877cf",
   "metadata": {},
   "source": [
    "### 4.2 Clean Message for N-Grams Vectorization"
   ]
  },
  {
   "cell_type": "code",
   "execution_count": 12,
   "id": "2f7632c2",
   "metadata": {},
   "outputs": [],
   "source": [
    "def clean_msg(text):\n",
    "    text = \"\".join([word.lower() for word in text if word not in string.punctuation])\n",
    "    #text = re.sub('[0-9]+', '', text)\n",
    "    tokens = re.findall('\\S+', text)\n",
    "    text = \" \".join([wn.lemmatize(word) for word in tokens if word not in stopwords])\n",
    "    return text\n",
    "\n",
    "data['cleaned_msg'] = data['contents'].apply(lambda x: clean_msg(x))"
   ]
  },
  {
   "cell_type": "code",
   "execution_count": 13,
   "id": "c5b73356",
   "metadata": {},
   "outputs": [
    {
     "data": {
      "text/html": [
       "<div>\n",
       "<style scoped>\n",
       "    .dataframe tbody tr th:only-of-type {\n",
       "        vertical-align: middle;\n",
       "    }\n",
       "\n",
       "    .dataframe tbody tr th {\n",
       "        vertical-align: top;\n",
       "    }\n",
       "\n",
       "    .dataframe thead th {\n",
       "        text-align: right;\n",
       "    }\n",
       "</style>\n",
       "<table border=\"1\" class=\"dataframe\">\n",
       "  <thead>\n",
       "    <tr style=\"text-align: right;\">\n",
       "      <th></th>\n",
       "      <th>class</th>\n",
       "      <th>contents</th>\n",
       "      <th>target</th>\n",
       "      <th>!</th>\n",
       "      <th>\"</th>\n",
       "      <th>#</th>\n",
       "      <th>$</th>\n",
       "      <th>%</th>\n",
       "      <th>&amp;</th>\n",
       "      <th>'</th>\n",
       "      <th>...</th>\n",
       "      <th>_</th>\n",
       "      <th>`</th>\n",
       "      <th>{</th>\n",
       "      <th>|</th>\n",
       "      <th>}</th>\n",
       "      <th>~</th>\n",
       "      <th>msg_body_len</th>\n",
       "      <th>punct%</th>\n",
       "      <th>clean_msg_tokens</th>\n",
       "      <th>cleaned_msg</th>\n",
       "    </tr>\n",
       "  </thead>\n",
       "  <tbody>\n",
       "    <tr>\n",
       "      <th>1</th>\n",
       "      <td>ham</td>\n",
       "      <td>Hi, i've just updated from the gulus and I che...</td>\n",
       "      <td>0</td>\n",
       "      <td>0</td>\n",
       "      <td>4</td>\n",
       "      <td>0</td>\n",
       "      <td>0</td>\n",
       "      <td>0</td>\n",
       "      <td>0</td>\n",
       "      <td>1</td>\n",
       "      <td>...</td>\n",
       "      <td>0</td>\n",
       "      <td>0</td>\n",
       "      <td>0</td>\n",
       "      <td>0</td>\n",
       "      <td>0</td>\n",
       "      <td>0</td>\n",
       "      <td>626</td>\n",
       "      <td>8.3</td>\n",
       "      <td>[hi, ive, updated, gulu, check, mirrorsit, see...</td>\n",
       "      <td>hi ive updated gulu check mirrorsit seems litt...</td>\n",
       "    </tr>\n",
       "    <tr>\n",
       "      <th>2</th>\n",
       "      <td>spam</td>\n",
       "      <td>Mega  authenticV I A G R A   $ DISCOUNT priceC...</td>\n",
       "      <td>1</td>\n",
       "      <td>0</td>\n",
       "      <td>0</td>\n",
       "      <td>0</td>\n",
       "      <td>2</td>\n",
       "      <td>0</td>\n",
       "      <td>0</td>\n",
       "      <td>0</td>\n",
       "      <td>...</td>\n",
       "      <td>0</td>\n",
       "      <td>0</td>\n",
       "      <td>0</td>\n",
       "      <td>0</td>\n",
       "      <td>0</td>\n",
       "      <td>0</td>\n",
       "      <td>102</td>\n",
       "      <td>8.8</td>\n",
       "      <td>[mega, authenticv, g, r, discount, pricec, l, ...</td>\n",
       "      <td>mega authenticv g r discount pricec l discount...</td>\n",
       "    </tr>\n",
       "    <tr>\n",
       "      <th>3</th>\n",
       "      <td>spam</td>\n",
       "      <td>Hey Billy, it was really fun going out the oth...</td>\n",
       "      <td>1</td>\n",
       "      <td>0</td>\n",
       "      <td>0</td>\n",
       "      <td>0</td>\n",
       "      <td>0</td>\n",
       "      <td>0</td>\n",
       "      <td>0</td>\n",
       "      <td>1</td>\n",
       "      <td>...</td>\n",
       "      <td>0</td>\n",
       "      <td>0</td>\n",
       "      <td>0</td>\n",
       "      <td>0</td>\n",
       "      <td>0</td>\n",
       "      <td>0</td>\n",
       "      <td>511</td>\n",
       "      <td>4.9</td>\n",
       "      <td>[hey, billy, really, fun, going, night, talkin...</td>\n",
       "      <td>hey billy really fun going night talking said ...</td>\n",
       "    </tr>\n",
       "    <tr>\n",
       "      <th>4</th>\n",
       "      <td>spam</td>\n",
       "      <td>system\" of the home.  It will have the capabil...</td>\n",
       "      <td>1</td>\n",
       "      <td>0</td>\n",
       "      <td>3</td>\n",
       "      <td>0</td>\n",
       "      <td>0</td>\n",
       "      <td>0</td>\n",
       "      <td>1</td>\n",
       "      <td>6</td>\n",
       "      <td>...</td>\n",
       "      <td>0</td>\n",
       "      <td>0</td>\n",
       "      <td>0</td>\n",
       "      <td>0</td>\n",
       "      <td>0</td>\n",
       "      <td>0</td>\n",
       "      <td>2101</td>\n",
       "      <td>4.3</td>\n",
       "      <td>[system, home, capability, linked, far, know, ...</td>\n",
       "      <td>system home capability linked far know within ...</td>\n",
       "    </tr>\n",
       "    <tr>\n",
       "      <th>5</th>\n",
       "      <td>spam</td>\n",
       "      <td>the program and the creative abilities of the ...</td>\n",
       "      <td>1</td>\n",
       "      <td>0</td>\n",
       "      <td>0</td>\n",
       "      <td>0</td>\n",
       "      <td>0</td>\n",
       "      <td>0</td>\n",
       "      <td>0</td>\n",
       "      <td>0</td>\n",
       "      <td>...</td>\n",
       "      <td>0</td>\n",
       "      <td>1</td>\n",
       "      <td>0</td>\n",
       "      <td>0</td>\n",
       "      <td>0</td>\n",
       "      <td>0</td>\n",
       "      <td>2055</td>\n",
       "      <td>3.5</td>\n",
       "      <td>[program, creative, ability, artist, monitorin...</td>\n",
       "      <td>program creative ability artist monitoring eco...</td>\n",
       "    </tr>\n",
       "  </tbody>\n",
       "</table>\n",
       "<p>5 rows × 39 columns</p>\n",
       "</div>"
      ],
      "text/plain": [
       "  class                                           contents  target  !  \"  #  \\\n",
       "1   ham  Hi, i've just updated from the gulus and I che...       0  0  4  0   \n",
       "2  spam  Mega  authenticV I A G R A   $ DISCOUNT priceC...       1  0  0  0   \n",
       "3  spam  Hey Billy, it was really fun going out the oth...       1  0  0  0   \n",
       "4  spam  system\" of the home.  It will have the capabil...       1  0  3  0   \n",
       "5  spam  the program and the creative abilities of the ...       1  0  0  0   \n",
       "\n",
       "   $  %  &  '  ...  _  `  {  |  }  ~  msg_body_len  punct%  \\\n",
       "1  0  0  0  1  ...  0  0  0  0  0  0           626     8.3   \n",
       "2  2  0  0  0  ...  0  0  0  0  0  0           102     8.8   \n",
       "3  0  0  0  1  ...  0  0  0  0  0  0           511     4.9   \n",
       "4  0  0  1  6  ...  0  0  0  0  0  0          2101     4.3   \n",
       "5  0  0  0  0  ...  0  1  0  0  0  0          2055     3.5   \n",
       "\n",
       "                                    clean_msg_tokens  \\\n",
       "1  [hi, ive, updated, gulu, check, mirrorsit, see...   \n",
       "2  [mega, authenticv, g, r, discount, pricec, l, ...   \n",
       "3  [hey, billy, really, fun, going, night, talkin...   \n",
       "4  [system, home, capability, linked, far, know, ...   \n",
       "5  [program, creative, ability, artist, monitorin...   \n",
       "\n",
       "                                         cleaned_msg  \n",
       "1  hi ive updated gulu check mirrorsit seems litt...  \n",
       "2  mega authenticv g r discount pricec l discount...  \n",
       "3  hey billy really fun going night talking said ...  \n",
       "4  system home capability linked far know within ...  \n",
       "5  program creative ability artist monitoring eco...  \n",
       "\n",
       "[5 rows x 39 columns]"
      ]
     },
     "execution_count": 13,
     "metadata": {},
     "output_type": "execute_result"
    }
   ],
   "source": [
    "data.head()"
   ]
  },
  {
   "cell_type": "code",
   "execution_count": 14,
   "id": "b28dd23f",
   "metadata": {},
   "outputs": [],
   "source": [
    "trec = data.copy()"
   ]
  },
  {
   "cell_type": "markdown",
   "id": "6f329fc3",
   "metadata": {},
   "source": [
    "### 4.3 Additional Query & Cleaning of Stopwords"
   ]
  },
  {
   "cell_type": "code",
   "execution_count": 15,
   "id": "c1b8a8b0",
   "metadata": {
    "scrolled": true
   },
   "outputs": [
    {
     "data": {
      "text/html": [
       "<div>\n",
       "<style scoped>\n",
       "    .dataframe tbody tr th:only-of-type {\n",
       "        vertical-align: middle;\n",
       "    }\n",
       "\n",
       "    .dataframe tbody tr th {\n",
       "        vertical-align: top;\n",
       "    }\n",
       "\n",
       "    .dataframe thead th {\n",
       "        text-align: right;\n",
       "    }\n",
       "</style>\n",
       "<table border=\"1\" class=\"dataframe\">\n",
       "  <thead>\n",
       "    <tr style=\"text-align: right;\">\n",
       "      <th></th>\n",
       "      <th>word</th>\n",
       "      <th>frequency</th>\n",
       "    </tr>\n",
       "  </thead>\n",
       "  <tbody>\n",
       "    <tr>\n",
       "      <th>0</th>\n",
       "      <td>email</td>\n",
       "      <td>17075</td>\n",
       "    </tr>\n",
       "    <tr>\n",
       "      <th>1</th>\n",
       "      <td>code</td>\n",
       "      <td>15165</td>\n",
       "    </tr>\n",
       "    <tr>\n",
       "      <th>2</th>\n",
       "      <td>mailing</td>\n",
       "      <td>14768</td>\n",
       "    </tr>\n",
       "    <tr>\n",
       "      <th>3</th>\n",
       "      <td>new</td>\n",
       "      <td>13319</td>\n",
       "    </tr>\n",
       "    <tr>\n",
       "      <th>4</th>\n",
       "      <td>r</td>\n",
       "      <td>13304</td>\n",
       "    </tr>\n",
       "    <tr>\n",
       "      <th>5</th>\n",
       "      <td>wrote</td>\n",
       "      <td>12859</td>\n",
       "    </tr>\n",
       "    <tr>\n",
       "      <th>6</th>\n",
       "      <td>read</td>\n",
       "      <td>12537</td>\n",
       "    </tr>\n",
       "    <tr>\n",
       "      <th>7</th>\n",
       "      <td>would</td>\n",
       "      <td>12466</td>\n",
       "    </tr>\n",
       "    <tr>\n",
       "      <th>8</th>\n",
       "      <td>use</td>\n",
       "      <td>12276</td>\n",
       "    </tr>\n",
       "    <tr>\n",
       "      <th>9</th>\n",
       "      <td>file</td>\n",
       "      <td>12212</td>\n",
       "    </tr>\n",
       "    <tr>\n",
       "      <th>10</th>\n",
       "      <td>one</td>\n",
       "      <td>11960</td>\n",
       "    </tr>\n",
       "    <tr>\n",
       "      <th>11</th>\n",
       "      <td>may</td>\n",
       "      <td>11689</td>\n",
       "    </tr>\n",
       "    <tr>\n",
       "      <th>12</th>\n",
       "      <td>list</td>\n",
       "      <td>11222</td>\n",
       "    </tr>\n",
       "    <tr>\n",
       "      <th>13</th>\n",
       "      <td>return</td>\n",
       "      <td>10599</td>\n",
       "    </tr>\n",
       "    <tr>\n",
       "      <th>14</th>\n",
       "      <td>provide</td>\n",
       "      <td>10437</td>\n",
       "    </tr>\n",
       "    <tr>\n",
       "      <th>15</th>\n",
       "      <td>like</td>\n",
       "      <td>9825</td>\n",
       "    </tr>\n",
       "    <tr>\n",
       "      <th>16</th>\n",
       "      <td>get</td>\n",
       "      <td>9724</td>\n",
       "    </tr>\n",
       "    <tr>\n",
       "      <th>17</th>\n",
       "      <td>px</td>\n",
       "      <td>9709</td>\n",
       "    </tr>\n",
       "    <tr>\n",
       "      <th>18</th>\n",
       "      <td>posting</td>\n",
       "      <td>9532</td>\n",
       "    </tr>\n",
       "    <tr>\n",
       "      <th>19</th>\n",
       "      <td>news</td>\n",
       "      <td>9490</td>\n",
       "    </tr>\n",
       "    <tr>\n",
       "      <th>20</th>\n",
       "      <td>guide</td>\n",
       "      <td>9410</td>\n",
       "    </tr>\n",
       "    <tr>\n",
       "      <th>21</th>\n",
       "      <td>minimal</td>\n",
       "      <td>9261</td>\n",
       "    </tr>\n",
       "    <tr>\n",
       "      <th>22</th>\n",
       "      <td>reproducible</td>\n",
       "      <td>9225</td>\n",
       "    </tr>\n",
       "    <tr>\n",
       "      <th>23</th>\n",
       "      <td>commented</td>\n",
       "      <td>9205</td>\n",
       "    </tr>\n",
       "    <tr>\n",
       "      <th>24</th>\n",
       "      <td>u</td>\n",
       "      <td>9197</td>\n",
       "    </tr>\n",
       "    <tr>\n",
       "      <th>25</th>\n",
       "      <td>work</td>\n",
       "      <td>9181</td>\n",
       "    </tr>\n",
       "    <tr>\n",
       "      <th>26</th>\n",
       "      <td>selfcontained</td>\n",
       "      <td>9167</td>\n",
       "    </tr>\n",
       "    <tr>\n",
       "      <th>27</th>\n",
       "      <td>data</td>\n",
       "      <td>8867</td>\n",
       "    </tr>\n",
       "    <tr>\n",
       "      <th>28</th>\n",
       "      <td>time</td>\n",
       "      <td>8826</td>\n",
       "    </tr>\n",
       "    <tr>\n",
       "      <th>29</th>\n",
       "      <td>message</td>\n",
       "      <td>8603</td>\n",
       "    </tr>\n",
       "    <tr>\n",
       "      <th>30</th>\n",
       "      <td>c</td>\n",
       "      <td>8460</td>\n",
       "    </tr>\n",
       "    <tr>\n",
       "      <th>31</th>\n",
       "      <td>please</td>\n",
       "      <td>8318</td>\n",
       "    </tr>\n",
       "    <tr>\n",
       "      <th>32</th>\n",
       "      <td>make</td>\n",
       "      <td>7982</td>\n",
       "    </tr>\n",
       "    <tr>\n",
       "      <th>33</th>\n",
       "      <td>unsubscribe</td>\n",
       "      <td>7980</td>\n",
       "    </tr>\n",
       "    <tr>\n",
       "      <th>34</th>\n",
       "      <td>need</td>\n",
       "      <td>7964</td>\n",
       "    </tr>\n",
       "    <tr>\n",
       "      <th>35</th>\n",
       "      <td>using</td>\n",
       "      <td>7841</td>\n",
       "    </tr>\n",
       "    <tr>\n",
       "      <th>36</th>\n",
       "      <td>char</td>\n",
       "      <td>7494</td>\n",
       "    </tr>\n",
       "    <tr>\n",
       "      <th>37</th>\n",
       "      <td>rev</td>\n",
       "      <td>7347</td>\n",
       "    </tr>\n",
       "    <tr>\n",
       "      <th>38</th>\n",
       "      <td>utc</td>\n",
       "      <td>7040</td>\n",
       "    </tr>\n",
       "    <tr>\n",
       "      <th>39</th>\n",
       "      <td>also</td>\n",
       "      <td>6973</td>\n",
       "    </tr>\n",
       "    <tr>\n",
       "      <th>40</th>\n",
       "      <td>function</td>\n",
       "      <td>6969</td>\n",
       "    </tr>\n",
       "    <tr>\n",
       "      <th>41</th>\n",
       "      <td>x</td>\n",
       "      <td>6916</td>\n",
       "    </tr>\n",
       "    <tr>\n",
       "      <th>42</th>\n",
       "      <td>struct</td>\n",
       "      <td>6888</td>\n",
       "    </tr>\n",
       "    <tr>\n",
       "      <th>43</th>\n",
       "      <td>test</td>\n",
       "      <td>6846</td>\n",
       "    </tr>\n",
       "    <tr>\n",
       "      <th>44</th>\n",
       "      <td>version</td>\n",
       "      <td>6821</td>\n",
       "    </tr>\n",
       "    <tr>\n",
       "      <th>45</th>\n",
       "      <td>way</td>\n",
       "      <td>6771</td>\n",
       "    </tr>\n",
       "    <tr>\n",
       "      <th>46</th>\n",
       "      <td>could</td>\n",
       "      <td>6722</td>\n",
       "    </tr>\n",
       "    <tr>\n",
       "      <th>47</th>\n",
       "      <td>name</td>\n",
       "      <td>6714</td>\n",
       "    </tr>\n",
       "    <tr>\n",
       "      <th>48</th>\n",
       "      <td>want</td>\n",
       "      <td>6585</td>\n",
       "    </tr>\n",
       "    <tr>\n",
       "      <th>49</th>\n",
       "      <td>listhttpsstatethzchmailmanlistinforhelpplease</td>\n",
       "      <td>6578</td>\n",
       "    </tr>\n",
       "  </tbody>\n",
       "</table>\n",
       "</div>"
      ],
      "text/plain": [
       "                                             word  frequency\n",
       "0                                           email      17075\n",
       "1                                            code      15165\n",
       "2                                         mailing      14768\n",
       "3                                             new      13319\n",
       "4                                               r      13304\n",
       "5                                           wrote      12859\n",
       "6                                            read      12537\n",
       "7                                           would      12466\n",
       "8                                             use      12276\n",
       "9                                            file      12212\n",
       "10                                            one      11960\n",
       "11                                            may      11689\n",
       "12                                           list      11222\n",
       "13                                         return      10599\n",
       "14                                        provide      10437\n",
       "15                                           like       9825\n",
       "16                                            get       9724\n",
       "17                                             px       9709\n",
       "18                                        posting       9532\n",
       "19                                           news       9490\n",
       "20                                          guide       9410\n",
       "21                                        minimal       9261\n",
       "22                                   reproducible       9225\n",
       "23                                      commented       9205\n",
       "24                                              u       9197\n",
       "25                                           work       9181\n",
       "26                                  selfcontained       9167\n",
       "27                                           data       8867\n",
       "28                                           time       8826\n",
       "29                                        message       8603\n",
       "30                                              c       8460\n",
       "31                                         please       8318\n",
       "32                                           make       7982\n",
       "33                                    unsubscribe       7980\n",
       "34                                           need       7964\n",
       "35                                          using       7841\n",
       "36                                           char       7494\n",
       "37                                            rev       7347\n",
       "38                                            utc       7040\n",
       "39                                           also       6973\n",
       "40                                       function       6969\n",
       "41                                              x       6916\n",
       "42                                         struct       6888\n",
       "43                                           test       6846\n",
       "44                                        version       6821\n",
       "45                                            way       6771\n",
       "46                                          could       6722\n",
       "47                                           name       6714\n",
       "48                                           want       6585\n",
       "49  listhttpsstatethzchmailmanlistinforhelpplease       6578"
      ]
     },
     "execution_count": 15,
     "metadata": {},
     "output_type": "execute_result"
    }
   ],
   "source": [
    "# Collect words from each row/list labeled ham\n",
    "ham_words = list(trec.loc[trec['class'] == 'ham', 'clean_msg_tokens'])\n",
    "# Flatten list of lists\n",
    "ham_words = [word for sublist in ham_words for word in sublist]\n",
    "# Create dictionary to store word frequency\n",
    "ham_words = Counter(ham_words)\n",
    "pd.DataFrame(ham_words.most_common(50), columns = ['word', 'frequency'])"
   ]
  },
  {
   "cell_type": "code",
   "execution_count": 16,
   "id": "6de3427c",
   "metadata": {},
   "outputs": [
    {
     "data": {
      "text/html": [
       "<div>\n",
       "<style scoped>\n",
       "    .dataframe tbody tr th:only-of-type {\n",
       "        vertical-align: middle;\n",
       "    }\n",
       "\n",
       "    .dataframe tbody tr th {\n",
       "        vertical-align: top;\n",
       "    }\n",
       "\n",
       "    .dataframe thead th {\n",
       "        text-align: right;\n",
       "    }\n",
       "</style>\n",
       "<table border=\"1\" class=\"dataframe\">\n",
       "  <thead>\n",
       "    <tr style=\"text-align: right;\">\n",
       "      <th></th>\n",
       "      <th>word</th>\n",
       "      <th>frequency</th>\n",
       "    </tr>\n",
       "  </thead>\n",
       "  <tbody>\n",
       "    <tr>\n",
       "      <th>0</th>\n",
       "      <td>price</td>\n",
       "      <td>18377</td>\n",
       "    </tr>\n",
       "    <tr>\n",
       "      <th>1</th>\n",
       "      <td>pill</td>\n",
       "      <td>15206</td>\n",
       "    </tr>\n",
       "    <tr>\n",
       "      <th>2</th>\n",
       "      <td>one</td>\n",
       "      <td>13371</td>\n",
       "    </tr>\n",
       "    <tr>\n",
       "      <th>3</th>\n",
       "      <td>per</td>\n",
       "      <td>12143</td>\n",
       "    </tr>\n",
       "    <tr>\n",
       "      <th>4</th>\n",
       "      <td>product</td>\n",
       "      <td>12033</td>\n",
       "    </tr>\n",
       "    <tr>\n",
       "      <th>5</th>\n",
       "      <td>u</td>\n",
       "      <td>11045</td>\n",
       "    </tr>\n",
       "    <tr>\n",
       "      <th>6</th>\n",
       "      <td>online</td>\n",
       "      <td>10003</td>\n",
       "    </tr>\n",
       "    <tr>\n",
       "      <th>7</th>\n",
       "      <td>said</td>\n",
       "      <td>9760</td>\n",
       "    </tr>\n",
       "    <tr>\n",
       "      <th>8</th>\n",
       "      <td>x</td>\n",
       "      <td>9525</td>\n",
       "    </tr>\n",
       "    <tr>\n",
       "      <th>9</th>\n",
       "      <td>like</td>\n",
       "      <td>9325</td>\n",
       "    </tr>\n",
       "    <tr>\n",
       "      <th>10</th>\n",
       "      <td>time</td>\n",
       "      <td>8688</td>\n",
       "    </tr>\n",
       "    <tr>\n",
       "      <th>11</th>\n",
       "      <td>adobe</td>\n",
       "      <td>8443</td>\n",
       "    </tr>\n",
       "    <tr>\n",
       "      <th>12</th>\n",
       "      <td>know</td>\n",
       "      <td>8161</td>\n",
       "    </tr>\n",
       "    <tr>\n",
       "      <th>13</th>\n",
       "      <td>get</td>\n",
       "      <td>7900</td>\n",
       "    </tr>\n",
       "    <tr>\n",
       "      <th>14</th>\n",
       "      <td>men</td>\n",
       "      <td>7769</td>\n",
       "    </tr>\n",
       "    <tr>\n",
       "      <th>15</th>\n",
       "      <td>new</td>\n",
       "      <td>7503</td>\n",
       "    </tr>\n",
       "    <tr>\n",
       "      <th>16</th>\n",
       "      <td>day</td>\n",
       "      <td>7448</td>\n",
       "    </tr>\n",
       "    <tr>\n",
       "      <th>17</th>\n",
       "      <td>retail</td>\n",
       "      <td>7320</td>\n",
       "    </tr>\n",
       "    <tr>\n",
       "      <th>18</th>\n",
       "      <td>money</td>\n",
       "      <td>7252</td>\n",
       "    </tr>\n",
       "    <tr>\n",
       "      <th>19</th>\n",
       "      <td>quality</td>\n",
       "      <td>7011</td>\n",
       "    </tr>\n",
       "    <tr>\n",
       "      <th>20</th>\n",
       "      <td>right</td>\n",
       "      <td>6961</td>\n",
       "    </tr>\n",
       "    <tr>\n",
       "      <th>21</th>\n",
       "      <td>life</td>\n",
       "      <td>6960</td>\n",
       "    </tr>\n",
       "    <tr>\n",
       "      <th>22</th>\n",
       "      <td>may</td>\n",
       "      <td>6803</td>\n",
       "    </tr>\n",
       "    <tr>\n",
       "      <th>23</th>\n",
       "      <td>offer</td>\n",
       "      <td>6637</td>\n",
       "    </tr>\n",
       "    <tr>\n",
       "      <th>24</th>\n",
       "      <td>viagra</td>\n",
       "      <td>6617</td>\n",
       "    </tr>\n",
       "    <tr>\n",
       "      <th>25</th>\n",
       "      <td>low</td>\n",
       "      <td>6570</td>\n",
       "    </tr>\n",
       "    <tr>\n",
       "      <th>26</th>\n",
       "      <td>anatrim</td>\n",
       "      <td>6491</td>\n",
       "    </tr>\n",
       "    <tr>\n",
       "      <th>27</th>\n",
       "      <td>dont</td>\n",
       "      <td>6381</td>\n",
       "    </tr>\n",
       "    <tr>\n",
       "      <th>28</th>\n",
       "      <td>need</td>\n",
       "      <td>6345</td>\n",
       "    </tr>\n",
       "    <tr>\n",
       "      <th>29</th>\n",
       "      <td>see</td>\n",
       "      <td>6319</td>\n",
       "    </tr>\n",
       "    <tr>\n",
       "      <th>30</th>\n",
       "      <td>also</td>\n",
       "      <td>6265</td>\n",
       "    </tr>\n",
       "    <tr>\n",
       "      <th>31</th>\n",
       "      <td>would</td>\n",
       "      <td>6003</td>\n",
       "    </tr>\n",
       "    <tr>\n",
       "      <th>32</th>\n",
       "      <td>make</td>\n",
       "      <td>5923</td>\n",
       "    </tr>\n",
       "    <tr>\n",
       "      <th>33</th>\n",
       "      <td>email</td>\n",
       "      <td>5839</td>\n",
       "    </tr>\n",
       "    <tr>\n",
       "      <th>34</th>\n",
       "      <td>c</td>\n",
       "      <td>5830</td>\n",
       "    </tr>\n",
       "    <tr>\n",
       "      <th>35</th>\n",
       "      <td>please</td>\n",
       "      <td>5806</td>\n",
       "    </tr>\n",
       "    <tr>\n",
       "      <th>36</th>\n",
       "      <td>could</td>\n",
       "      <td>5770</td>\n",
       "    </tr>\n",
       "    <tr>\n",
       "      <th>37</th>\n",
       "      <td>best</td>\n",
       "      <td>5736</td>\n",
       "    </tr>\n",
       "    <tr>\n",
       "      <th>38</th>\n",
       "      <td>year</td>\n",
       "      <td>5671</td>\n",
       "    </tr>\n",
       "    <tr>\n",
       "      <th>39</th>\n",
       "      <td>world</td>\n",
       "      <td>5536</td>\n",
       "    </tr>\n",
       "    <tr>\n",
       "      <th>40</th>\n",
       "      <td>want</td>\n",
       "      <td>5370</td>\n",
       "    </tr>\n",
       "    <tr>\n",
       "      <th>41</th>\n",
       "      <td>work</td>\n",
       "      <td>5348</td>\n",
       "    </tr>\n",
       "    <tr>\n",
       "      <th>42</th>\n",
       "      <td>take</td>\n",
       "      <td>5337</td>\n",
       "    </tr>\n",
       "    <tr>\n",
       "      <th>43</th>\n",
       "      <td>item</td>\n",
       "      <td>5316</td>\n",
       "    </tr>\n",
       "    <tr>\n",
       "      <th>44</th>\n",
       "      <td>watch</td>\n",
       "      <td>5311</td>\n",
       "    </tr>\n",
       "    <tr>\n",
       "      <th>45</th>\n",
       "      <td>available</td>\n",
       "      <td>5270</td>\n",
       "    </tr>\n",
       "    <tr>\n",
       "      <th>46</th>\n",
       "      <td>people</td>\n",
       "      <td>5266</td>\n",
       "    </tr>\n",
       "    <tr>\n",
       "      <th>47</th>\n",
       "      <td>news</td>\n",
       "      <td>5239</td>\n",
       "    </tr>\n",
       "    <tr>\n",
       "      <th>48</th>\n",
       "      <td>much</td>\n",
       "      <td>5219</td>\n",
       "    </tr>\n",
       "    <tr>\n",
       "      <th>49</th>\n",
       "      <td>service</td>\n",
       "      <td>5170</td>\n",
       "    </tr>\n",
       "  </tbody>\n",
       "</table>\n",
       "</div>"
      ],
      "text/plain": [
       "         word  frequency\n",
       "0       price      18377\n",
       "1        pill      15206\n",
       "2         one      13371\n",
       "3         per      12143\n",
       "4     product      12033\n",
       "5           u      11045\n",
       "6      online      10003\n",
       "7        said       9760\n",
       "8           x       9525\n",
       "9        like       9325\n",
       "10       time       8688\n",
       "11      adobe       8443\n",
       "12       know       8161\n",
       "13        get       7900\n",
       "14        men       7769\n",
       "15        new       7503\n",
       "16        day       7448\n",
       "17     retail       7320\n",
       "18      money       7252\n",
       "19    quality       7011\n",
       "20      right       6961\n",
       "21       life       6960\n",
       "22        may       6803\n",
       "23      offer       6637\n",
       "24     viagra       6617\n",
       "25        low       6570\n",
       "26    anatrim       6491\n",
       "27       dont       6381\n",
       "28       need       6345\n",
       "29        see       6319\n",
       "30       also       6265\n",
       "31      would       6003\n",
       "32       make       5923\n",
       "33      email       5839\n",
       "34          c       5830\n",
       "35     please       5806\n",
       "36      could       5770\n",
       "37       best       5736\n",
       "38       year       5671\n",
       "39      world       5536\n",
       "40       want       5370\n",
       "41       work       5348\n",
       "42       take       5337\n",
       "43       item       5316\n",
       "44      watch       5311\n",
       "45  available       5270\n",
       "46     people       5266\n",
       "47       news       5239\n",
       "48       much       5219\n",
       "49    service       5170"
      ]
     },
     "execution_count": 16,
     "metadata": {},
     "output_type": "execute_result"
    }
   ],
   "source": [
    "# Collect words from each row/list labeled ham\n",
    "spam_words = list(trec.loc[trec['class'] == 'spam', 'clean_msg_tokens'])\n",
    "\n",
    "# Flatten list of lists\n",
    "spam_words = [word for sublist in spam_words for word in sublist]\n",
    "\n",
    "# Create dictionary to store word frequency\n",
    "spam_words = Counter(spam_words)\n",
    "pd.DataFrame(spam_words.most_common(50), columns = ['word', 'frequency'])"
   ]
  },
  {
   "cell_type": "code",
   "execution_count": 17,
   "id": "47d52787",
   "metadata": {},
   "outputs": [],
   "source": [
    "# https://www.ranks.nl/stopwords\n",
    "# unsure stop words but used (# e = ?, j = ?, de = ?, p = ?, 'b', 'de')\n",
    "\n",
    "# Define extra stopwords\n",
    "extra_stopwords = ['c', 'r', 'u', 'let', 'get', 'would', 'please', 'may', 'also', 'like', 'thanks', 'within', 'go', 'inc', 'make', 'could', 'want', 'need', 'new', 'know', 'best', 'e', 'j', 'p', 'b', 'de', 'see', 'take', 'made']\n",
    "\n",
    "# Remove extra stopwords  \n",
    "trec['clean_msg_tokens'] = trec['clean_msg_tokens'].apply(lambda x: [word for word in x if word not in extra_stopwords])"
   ]
  },
  {
   "cell_type": "markdown",
   "id": "6329caa5",
   "metadata": {},
   "source": [
    "## 5. Exploratory Data Analysis"
   ]
  },
  {
   "cell_type": "code",
   "execution_count": 18,
   "id": "2302f63e",
   "metadata": {},
   "outputs": [],
   "source": [
    "trec_eda = trec.copy()"
   ]
  },
  {
   "cell_type": "markdown",
   "id": "fff30e45",
   "metadata": {},
   "source": [
    "### 5.1 Verify total number of spams vs hams"
   ]
  },
  {
   "cell_type": "code",
   "execution_count": 19,
   "id": "17cd1875",
   "metadata": {},
   "outputs": [
    {
     "data": {
      "image/png": "[encoded data removed]",
      "text/plain": [
       "<Figure size 432x288 with 1 Axes>"
      ]
     },
     "metadata": {
      "needs_background": "light"
     },
     "output_type": "display_data"
    }
   ],
   "source": [
    "trec_eda['class'].value_counts().plot(kind = 'bar')\n",
    "plt.figtext(0.99, 0.01, 'class imbalance', horizontalalignment = 'center')\n",
    "plt.title(\"Number of spam vs ham messages\");"
   ]
  },
  {
   "cell_type": "markdown",
   "id": "b94f2365",
   "metadata": {},
   "source": [
    "### 5.2 Tallying Word Frequency Per Message"
   ]
  },
  {
   "cell_type": "code",
   "execution_count": 20,
   "id": "4e930caa",
   "metadata": {},
   "outputs": [
    {
     "data": {
      "text/html": [
       "<div>\n",
       "<style scoped>\n",
       "    .dataframe tbody tr th:only-of-type {\n",
       "        vertical-align: middle;\n",
       "    }\n",
       "\n",
       "    .dataframe tbody tr th {\n",
       "        vertical-align: top;\n",
       "    }\n",
       "\n",
       "    .dataframe thead th {\n",
       "        text-align: right;\n",
       "    }\n",
       "</style>\n",
       "<table border=\"1\" class=\"dataframe\">\n",
       "  <thead>\n",
       "    <tr style=\"text-align: right;\">\n",
       "      <th></th>\n",
       "      <th>class</th>\n",
       "      <th>contents</th>\n",
       "      <th>target</th>\n",
       "      <th>!</th>\n",
       "      <th>\"</th>\n",
       "      <th>#</th>\n",
       "      <th>$</th>\n",
       "      <th>%</th>\n",
       "      <th>&amp;</th>\n",
       "      <th>'</th>\n",
       "      <th>...</th>\n",
       "      <th>`</th>\n",
       "      <th>{</th>\n",
       "      <th>|</th>\n",
       "      <th>}</th>\n",
       "      <th>~</th>\n",
       "      <th>msg_body_len</th>\n",
       "      <th>punct%</th>\n",
       "      <th>clean_msg_tokens</th>\n",
       "      <th>cleaned_msg</th>\n",
       "      <th>clean_msg_no_lst</th>\n",
       "    </tr>\n",
       "  </thead>\n",
       "  <tbody>\n",
       "    <tr>\n",
       "      <th>1</th>\n",
       "      <td>ham</td>\n",
       "      <td>Hi, i've just updated from the gulus and I che...</td>\n",
       "      <td>0</td>\n",
       "      <td>0</td>\n",
       "      <td>4</td>\n",
       "      <td>0</td>\n",
       "      <td>0</td>\n",
       "      <td>0</td>\n",
       "      <td>0</td>\n",
       "      <td>1</td>\n",
       "      <td>...</td>\n",
       "      <td>0</td>\n",
       "      <td>0</td>\n",
       "      <td>0</td>\n",
       "      <td>0</td>\n",
       "      <td>0</td>\n",
       "      <td>626</td>\n",
       "      <td>8.3</td>\n",
       "      <td>[hi, ive, updated, gulu, check, mirrorsit, see...</td>\n",
       "      <td>hi ive updated gulu check mirrorsit seems litt...</td>\n",
       "      <td>hi ive updated gulu check mirrorsit seems litt...</td>\n",
       "    </tr>\n",
       "  </tbody>\n",
       "</table>\n",
       "<p>1 rows × 40 columns</p>\n",
       "</div>"
      ],
      "text/plain": [
       "  class                                           contents  target  !  \"  #  \\\n",
       "1   ham  Hi, i've just updated from the gulus and I che...       0  0  4  0   \n",
       "\n",
       "   $  %  &  '  ...  `  {  |  }  ~  msg_body_len  punct%  \\\n",
       "1  0  0  0  1  ...  0  0  0  0  0           626     8.3   \n",
       "\n",
       "                                    clean_msg_tokens  \\\n",
       "1  [hi, ive, updated, gulu, check, mirrorsit, see...   \n",
       "\n",
       "                                         cleaned_msg  \\\n",
       "1  hi ive updated gulu check mirrorsit seems litt...   \n",
       "\n",
       "                                    clean_msg_no_lst  \n",
       "1  hi ive updated gulu check mirrorsit seems litt...  \n",
       "\n",
       "[1 rows x 40 columns]"
      ]
     },
     "execution_count": 20,
     "metadata": {},
     "output_type": "execute_result"
    }
   ],
   "source": [
    "def clean_msg_rm_lst(msg_tokens):\n",
    "    text = ' '.join(msg_tokens)\n",
    "    return text\n",
    "\n",
    "trec_eda['clean_msg_no_lst'] = trec_eda['clean_msg_tokens'].apply(lambda x: clean_msg_rm_lst(x))\n",
    "trec_eda.head(1)"
   ]
  },
  {
   "cell_type": "code",
   "execution_count": 21,
   "id": "2333dafb",
   "metadata": {},
   "outputs": [
    {
     "name": "stdout",
     "output_type": "stream",
     "text": [
      "Max number of words in a message:  48739\n",
      "Min number of words in a message:  1\n"
     ]
    }
   ],
   "source": [
    "trec_eda['word_count'] = trec_eda['clean_msg_no_lst'].apply(lambda v : len(v.split(\" \")))\n",
    "print('Max number of words in a message: ', trec_eda['word_count'].max())\n",
    "print('Min number of words in a message: ', trec_eda['word_count'].min())"
   ]
  },
  {
   "cell_type": "code",
   "execution_count": 22,
   "id": "080567c0",
   "metadata": {},
   "outputs": [
    {
     "data": {
      "image/png": "[encoded data removed]",
      "text/plain": [
       "<Figure size 432x288 with 1 Axes>"
      ]
     },
     "metadata": {
      "needs_background": "light"
     },
     "output_type": "display_data"
    }
   ],
   "source": [
    "trec_eda['word_count'].hist(bins = 100)\n",
    "plt.title('Word Count Overall');"
   ]
  },
  {
   "cell_type": "code",
   "execution_count": 23,
   "id": "59189d40",
   "metadata": {},
   "outputs": [
    {
     "data": {
      "image/png": "[encoded data removed]",
      "text/plain": [
       "<Figure size 432x288 with 1 Axes>"
      ]
     },
     "metadata": {
      "needs_background": "light"
     },
     "output_type": "display_data"
    }
   ],
   "source": [
    "trec_eda['word_count'].hist(bins = 1000)\n",
    "plt.title('Word Count Overall (Close Up)')\n",
    "plt.xlim(-0.02, 1500);"
   ]
  },
  {
   "cell_type": "markdown",
   "id": "5999fe47",
   "metadata": {},
   "source": [
    "### 5.3 Word Frequency Comparison (Spam vs Ham)"
   ]
  },
  {
   "cell_type": "code",
   "execution_count": 24,
   "id": "56ec4fac",
   "metadata": {},
   "outputs": [
    {
     "data": {
      "image/png": "[encoded data removed]",
      "text/plain": [
       "<Figure size 432x288 with 1 Axes>"
      ]
     },
     "metadata": {
      "needs_background": "light"
     },
     "output_type": "display_data"
    }
   ],
   "source": [
    "trec_eda[trec_eda['class'] == 'spam']['word_count'].hist(alpha = 0.6, density = True, label = 'Spam')\n",
    "trec_eda[trec_eda['class'] == 'ham']['word_count'].hist(alpha = 0.6, density = True, label = 'Ham')\n",
    "plt.legend()\n",
    "plt.xlim(-0.02, 2500)\n",
    "plt.figtext(0.99, 0.01, 'Ham is longer than spam', horizontalalignment = 'center');"
   ]
  },
  {
   "cell_type": "markdown",
   "id": "cfe3f911",
   "metadata": {},
   "source": [
    "### 5.4 Punctuation Frequency Comparison (Spam vs Ham)"
   ]
  },
  {
   "cell_type": "code",
   "execution_count": 25,
   "id": "802891c5",
   "metadata": {},
   "outputs": [
    {
     "data": {
      "image/png": "[encoded data removed]",
      "text/plain": [
       "<Figure size 432x288 with 1 Axes>"
      ]
     },
     "metadata": {
      "needs_background": "light"
     },
     "output_type": "display_data"
    },
    {
     "data": {
      "image/png": "[encoded data removed]",
      "text/plain": [
       "<Figure size 432x288 with 1 Axes>"
      ]
     },
     "metadata": {
      "needs_background": "light"
     },
     "output_type": "display_data"
    },
    {
     "data": {
      "image/png": "[encoded data removed]",
      "text/plain": [
       "<Figure size 432x288 with 1 Axes>"
      ]
     },
     "metadata": {
      "needs_background": "light"
     },
     "output_type": "display_data"
    },
    {
     "data": {
      "image/png": "[encoded data removed]",
      "text/plain": [
       "<Figure size 432x288 with 1 Axes>"
      ]
     },
     "metadata": {
      "needs_background": "light"
     },
     "output_type": "display_data"
    },
    {
     "data": {
      "image/png": "[encoded data removed]",
      "text/plain": [
       "<Figure size 432x288 with 1 Axes>"
      ]
     },
     "metadata": {
      "needs_background": "light"
     },
     "output_type": "display_data"
    },
    {
     "data": {
      "image/png": "[encoded data removed]",
      "text/plain": [
       "<Figure size 432x288 with 1 Axes>"
      ]
     },
     "metadata": {
      "needs_background": "light"
     },
     "output_type": "display_data"
    },
    {
     "data": {
      "image/png": "[encoded data removed]",
      "text/plain": [
       "<Figure size 432x288 with 1 Axes>"
      ]
     },
     "metadata": {
      "needs_background": "light"
     },
     "output_type": "display_data"
    },
    {
     "data": {
      "image/png": "[encoded data removed]",
      "text/plain": [
       "<Figure size 432x288 with 1 Axes>"
      ]
     },
     "metadata": {
      "needs_background": "light"
     },
     "output_type": "display_data"
    },
    {
     "data": {
      "image/png": "[encoded data removed]",
      "text/plain": [
       "<Figure size 432x288 with 1 Axes>"
      ]
     },
     "metadata": {
      "needs_background": "light"
     },
     "output_type": "display_data"
    },
    {
     "data": {
      "image/png": "[encoded data removed]",
      "text/plain": [
       "<Figure size 432x288 with 1 Axes>"
      ]
     },
     "metadata": {
      "needs_background": "light"
     },
     "output_type": "display_data"
    },
    {
     "data": {
      "image/png": "[encoded data removed]",
      "text/plain": [
       "<Figure size 432x288 with 1 Axes>"
      ]
     },
     "metadata": {
      "needs_background": "light"
     },
     "output_type": "display_data"
    },
    {
     "data": {
      "image/png": "[encoded data removed]",
      "text/plain": [
       "<Figure size 432x288 with 1 Axes>"
      ]
     },
     "metadata": {
      "needs_background": "light"
     },
     "output_type": "display_data"
    },
    {
     "data": {
      "image/png": "[encoded data removed]",
      "text/plain": [
       "<Figure size 432x288 with 1 Axes>"
      ]
     },
     "metadata": {
      "needs_background": "light"
     },
     "output_type": "display_data"
    },
    {
     "data": {
      "image/png": "[encoded data removed]",
      "text/plain": [
       "<Figure size 432x288 with 1 Axes>"
      ]
     },
     "metadata": {
      "needs_background": "light"
     },
     "output_type": "display_data"
    },
    {
     "data": {
      "image/png": "[encoded data removed]",
      "text/plain": [
       "<Figure size 432x288 with 1 Axes>"
      ]
     },
     "metadata": {
      "needs_background": "light"
     },
     "output_type": "display_data"
    },
    {
     "data": {
      "image/png": "[encoded data removed]",
      "text/plain": [
       "<Figure size 432x288 with 1 Axes>"
      ]
     },
     "metadata": {
      "needs_background": "light"
     },
     "output_type": "display_data"
    },
    {
     "data": {
      "image/png": "[encoded data removed]",
      "text/plain": [
       "<Figure size 432x288 with 1 Axes>"
      ]
     },
     "metadata": {
      "needs_background": "light"
     },
     "output_type": "display_data"
    },
    {
     "data": {
      "image/png": "[encoded data removed]",
      "text/plain": [
       "<Figure size 432x288 with 1 Axes>"
      ]
     },
     "metadata": {
      "needs_background": "light"
     },
     "output_type": "display_data"
    },
    {
     "data": {
      "image/png": "[encoded data removed]",
      "text/plain": [
       "<Figure size 432x288 with 1 Axes>"
      ]
     },
     "metadata": {
      "needs_background": "light"
     },
     "output_type": "display_data"
    },
    {
     "data": {
      "image/png": "[encoded data removed]",
      "text/plain": [
       "<Figure size 432x288 with 1 Axes>"
      ]
     },
     "metadata": {
      "needs_background": "light"
     },
     "output_type": "display_data"
    },
    {
     "data": {
      "image/png": "[encoded data removed]",
      "text/plain": [
       "<Figure size 432x288 with 1 Axes>"
      ]
     },
     "metadata": {
      "needs_background": "light"
     },
     "output_type": "display_data"
    },
    {
     "data": {
      "image/png": "[encoded data removed]",
      "text/plain": [
       "<Figure size 432x288 with 1 Axes>"
      ]
     },
     "metadata": {
      "needs_background": "light"
     },
     "output_type": "display_data"
    },
    {
     "data": {
      "image/png": "[encoded data removed]",
      "text/plain": [
       "<Figure size 432x288 with 1 Axes>"
      ]
     },
     "metadata": {
      "needs_background": "light"
     },
     "output_type": "display_data"
    },
    {
     "data": {
      "image/png": "[encoded data removed]",
      "text/plain": [
       "<Figure size 432x288 with 1 Axes>"
      ]
     },
     "metadata": {
      "needs_background": "light"
     },
     "output_type": "display_data"
    },
    {
     "data": {
      "image/png": "[encoded data removed]",
      "text/plain": [
       "<Figure size 432x288 with 1 Axes>"
      ]
     },
     "metadata": {
      "needs_background": "light"
     },
     "output_type": "display_data"
    },
    {
     "data": {
      "image/png": "[encoded data removed]",
      "text/plain": [
       "<Figure size 432x288 with 1 Axes>"
      ]
     },
     "metadata": {
      "needs_background": "light"
     },
     "output_type": "display_data"
    },
    {
     "data": {
      "image/png": "[encoded data removed]",
      "text/plain": [
       "<Figure size 432x288 with 1 Axes>"
      ]
     },
     "metadata": {
      "needs_background": "light"
     },
     "output_type": "display_data"
    },
    {
     "data": {
      "image/png": "[encoded data removed]",
      "text/plain": [
       "<Figure size 432x288 with 1 Axes>"
      ]
     },
     "metadata": {
      "needs_background": "light"
     },
     "output_type": "display_data"
    },
    {
     "data": {
      "image/png": "[encoded data removed]",
      "text/plain": [
       "<Figure size 432x288 with 1 Axes>"
      ]
     },
     "metadata": {
      "needs_background": "light"
     },
     "output_type": "display_data"
    },
    {
     "data": {
      "image/png": "[encoded data removed]",
      "text/plain": [
       "<Figure size 432x288 with 1 Axes>"
      ]
     },
     "metadata": {
      "needs_background": "light"
     },
     "output_type": "display_data"
    },
    {
     "data": {
      "image/png": "[encoded data removed]",
      "text/plain": [
       "<Figure size 432x288 with 1 Axes>"
      ]
     },
     "metadata": {
      "needs_background": "light"
     },
     "output_type": "display_data"
    },
    {
     "data": {
      "image/png": "[encoded data removed]",
      "text/plain": [
       "<Figure size 432x288 with 1 Axes>"
      ]
     },
     "metadata": {
      "needs_background": "light"
     },
     "output_type": "display_data"
    }
   ],
   "source": [
    "for punctu in string.punctuation:\n",
    "    trec_eda[trec_eda['class'] == 'spam'][punctu].hist(alpha = 0.7, density = True, label = 'Spam')\n",
    "    trec_eda[trec_eda['class'] == 'ham'][punctu].hist(alpha = 0.7, density = True, label = 'Ham')\n",
    "    plt.legend()\n",
    "    plt.title(\"Distribution of '\" + punctu + \"'\")\n",
    "    plt.show();"
   ]
  },
  {
   "cell_type": "markdown",
   "id": "552161d8",
   "metadata": {},
   "source": [
    "## 6. Vectorization & Model Preparation"
   ]
  },
  {
   "cell_type": "code",
   "execution_count": 27,
   "id": "77a94dc5",
   "metadata": {},
   "outputs": [
    {
     "name": "stdout",
     "output_type": "stream",
     "text": [
      "(60519, 2)\n"
     ]
    }
   ],
   "source": [
    "trec_vec = trec_eda[['clean_msg_no_lst', 'target']].copy()\n",
    "print(trec_vec.shape)"
   ]
  },
  {
   "cell_type": "code",
   "execution_count": 28,
   "id": "3e87c52d",
   "metadata": {},
   "outputs": [
    {
     "data": {
      "text/html": [
       "<div>\n",
       "<style scoped>\n",
       "    .dataframe tbody tr th:only-of-type {\n",
       "        vertical-align: middle;\n",
       "    }\n",
       "\n",
       "    .dataframe tbody tr th {\n",
       "        vertical-align: top;\n",
       "    }\n",
       "\n",
       "    .dataframe thead th {\n",
       "        text-align: right;\n",
       "    }\n",
       "</style>\n",
       "<table border=\"1\" class=\"dataframe\">\n",
       "  <thead>\n",
       "    <tr style=\"text-align: right;\">\n",
       "      <th></th>\n",
       "      <th>clean_msg_no_lst</th>\n",
       "      <th>target</th>\n",
       "    </tr>\n",
       "  </thead>\n",
       "  <tbody>\n",
       "    <tr>\n",
       "      <th>1</th>\n",
       "      <td>hi ive updated gulu check mirrorsit seems litt...</td>\n",
       "      <td>0</td>\n",
       "    </tr>\n",
       "  </tbody>\n",
       "</table>\n",
       "</div>"
      ],
      "text/plain": [
       "                                    clean_msg_no_lst  target\n",
       "1  hi ive updated gulu check mirrorsit seems litt...       0"
      ]
     },
     "execution_count": 28,
     "metadata": {},
     "output_type": "execute_result"
    }
   ],
   "source": [
    "trec_vec.head(1)"
   ]
  },
  {
   "cell_type": "markdown",
   "id": "9ebc9262",
   "metadata": {},
   "source": [
    "### 6.1 Test-Columns-Split"
   ]
  },
  {
   "cell_type": "code",
   "execution_count": 30,
   "id": "7e01ce36",
   "metadata": {},
   "outputs": [
    {
     "name": "stdout",
     "output_type": "stream",
     "text": [
      "(60519,)\n",
      "(60519,)\n"
     ]
    }
   ],
   "source": [
    "X_test = trec_vec['clean_msg_no_lst']\n",
    "Y_test = trec_vec.target\n",
    "print(X_test.shape)\n",
    "print(Y_test.shape)"
   ]
  },
  {
   "cell_type": "markdown",
   "id": "8e500a20",
   "metadata": {},
   "source": [
    "### 6.2 Create a Bigram CountVectorizer and Apply Fitted Bigrams Vectorization to Transform Text"
   ]
  },
  {
   "cell_type": "code",
   "execution_count": 32,
   "id": "c8600e89",
   "metadata": {},
   "outputs": [],
   "source": [
    "from sklearn.feature_extraction.text import CountVectorizer"
   ]
  },
  {
   "cell_type": "code",
   "execution_count": null,
   "id": "f8c37404",
   "metadata": {},
   "outputs": [],
   "source": [
    "#### There are total of 2556135 features in TREC2007 vs 1446119 features in Enron dataset"
   ]
  },
  {
   "cell_type": "code",
   "execution_count": 42,
   "id": "58350e7f",
   "metadata": {},
   "outputs": [],
   "source": [
    "bigram_vectorizer = CountVectorizer(ngram_range = (2, 2), max_features = 1446119)\n",
    "X_test_fitted = bigram_vectorizer.fit_transform(X_test)"
   ]
  },
  {
   "cell_type": "code",
   "execution_count": 41,
   "id": "cf4ac3c7",
   "metadata": {},
   "outputs": [
    {
     "name": "stdout",
     "output_type": "stream",
     "text": [
      "2556135\n"
     ]
    }
   ],
   "source": [
    "total_features = len(bigram_vectorizer.vocabulary_)\n",
    "print(total_features)"
   ]
  },
  {
   "cell_type": "markdown",
   "id": "7d758fe6",
   "metadata": {},
   "source": [
    "## 7. Classification Modeling"
   ]
  },
  {
   "cell_type": "code",
   "execution_count": 35,
   "id": "e117f945",
   "metadata": {},
   "outputs": [],
   "source": [
    "import pickle"
   ]
  },
  {
   "cell_type": "code",
   "execution_count": 54,
   "id": "4e9f4b0a",
   "metadata": {},
   "outputs": [],
   "source": [
    "from sklearn.ensemble import RandomForestClassifier\n",
    "from sklearn.metrics import classification_report, confusion_matrix, ConfusionMatrixDisplay\n",
    "from sklearn.metrics import precision_recall_fscore_support as score\n",
    "from sklearn.linear_model import LogisticRegression\n",
    "from sklearn.naive_bayes import MultinomialNB\n",
    "from sklearn import svm\n",
    "from sklearn.neighbors import KNeighborsClassifier"
   ]
  },
  {
   "cell_type": "markdown",
   "id": "f118d105",
   "metadata": {},
   "source": [
    "### 7.1 Random Forest"
   ]
  },
  {
   "cell_type": "code",
   "execution_count": 38,
   "id": "6a29d528",
   "metadata": {},
   "outputs": [],
   "source": [
    "with open('../models/rf_pkl' , 'rb') as f:\n",
    "    rf = pickle.load(f)"
   ]
  },
  {
   "cell_type": "code",
   "execution_count": 43,
   "id": "91ed8740",
   "metadata": {},
   "outputs": [],
   "source": [
    "rf_predictions = rf.predict(X_test_fitted)"
   ]
  },
  {
   "cell_type": "code",
   "execution_count": 44,
   "id": "d203ae2b",
   "metadata": {},
   "outputs": [
    {
     "name": "stdout",
     "output_type": "stream",
     "text": [
      "              precision    recall  f1-score   support\n",
      "\n",
      "           0       0.52      0.11      0.18     24519\n",
      "           1       0.61      0.93      0.73     36000\n",
      "\n",
      "    accuracy                           0.60     60519\n",
      "   macro avg       0.56      0.52      0.46     60519\n",
      "weighted avg       0.57      0.60      0.51     60519\n",
      "\n",
      "[[ 2706 21813]\n",
      " [ 2486 33514]]\n"
     ]
    }
   ],
   "source": [
    "print(classification_report(Y_test, rf_predictions))\n",
    "print(confusion_matrix(Y_test, rf_predictions))"
   ]
  },
  {
   "cell_type": "code",
   "execution_count": 55,
   "id": "c3e33477",
   "metadata": {},
   "outputs": [
    {
     "data": {
      "image/png": "[encoded data removed]",
      "text/plain": [
       "<Figure size 432x288 with 2 Axes>"
      ]
     },
     "metadata": {
      "needs_background": "light"
     },
     "output_type": "display_data"
    }
   ],
   "source": [
    "cm_rf = confusion_matrix(Y_test, rf_predictions)\n",
    "cmd_rf = ConfusionMatrixDisplay(cm_rf, display_labels=['ham','spam'])\n",
    "cmd_rf.plot();"
   ]
  },
  {
   "cell_type": "markdown",
   "id": "3c63c383",
   "metadata": {},
   "source": [
    "### 7.2 Naive Bayes"
   ]
  },
  {
   "cell_type": "code",
   "execution_count": 45,
   "id": "1f513904",
   "metadata": {},
   "outputs": [],
   "source": [
    "with open('../models/mbayes_pkl' , 'rb') as f:\n",
    "    mbayes = pickle.load(f)"
   ]
  },
  {
   "cell_type": "code",
   "execution_count": 46,
   "id": "ef955ed0",
   "metadata": {},
   "outputs": [
    {
     "name": "stdout",
     "output_type": "stream",
     "text": [
      "              precision    recall  f1-score   support\n",
      "\n",
      "           0       0.41      0.60      0.49     24519\n",
      "           1       0.60      0.40      0.48     36000\n",
      "\n",
      "    accuracy                           0.48     60519\n",
      "   macro avg       0.50      0.50      0.48     60519\n",
      "weighted avg       0.52      0.48      0.48     60519\n",
      "\n",
      "[[14764  9755]\n",
      " [21582 14418]]\n"
     ]
    }
   ],
   "source": [
    "mbayes_predictions = mbayes.predict(X_test_fitted)\n",
    "print(classification_report(Y_test, mbayes_predictions))\n",
    "print(confusion_matrix(Y_test, mbayes_predictions))"
   ]
  },
  {
   "cell_type": "code",
   "execution_count": 57,
   "id": "2ba46b35",
   "metadata": {},
   "outputs": [
    {
     "data": {
      "image/png": "[encoded data removed]",
      "text/plain": [
       "<Figure size 432x288 with 2 Axes>"
      ]
     },
     "metadata": {
      "needs_background": "light"
     },
     "output_type": "display_data"
    }
   ],
   "source": [
    "cm_mbayes = confusion_matrix(Y_test, mbayes_predictions)\n",
    "cmd_mbayes = ConfusionMatrixDisplay(cm_mbayes, display_labels=['ham','spam'])\n",
    "cmd_mbayes.plot();"
   ]
  },
  {
   "cell_type": "markdown",
   "id": "90a6dbc2",
   "metadata": {},
   "source": [
    "### 7.3 Logistic Regression"
   ]
  },
  {
   "cell_type": "code",
   "execution_count": 47,
   "id": "796a53a4",
   "metadata": {},
   "outputs": [],
   "source": [
    "with open('../models/lr_pkl' , 'rb') as f:\n",
    "    lr = pickle.load(f)"
   ]
  },
  {
   "cell_type": "code",
   "execution_count": 48,
   "id": "a4fd13fe",
   "metadata": {},
   "outputs": [
    {
     "name": "stdout",
     "output_type": "stream",
     "text": [
      "              precision    recall  f1-score   support\n",
      "\n",
      "           0       0.56      0.13      0.21     24519\n",
      "           1       0.61      0.93      0.74     36000\n",
      "\n",
      "    accuracy                           0.61     60519\n",
      "   macro avg       0.58      0.53      0.47     60519\n",
      "weighted avg       0.59      0.61      0.52     60519\n",
      "\n",
      "[[ 3115 21404]\n",
      " [ 2478 33522]]\n"
     ]
    }
   ],
   "source": [
    "lr_predictions = lr.predict(X_test_fitted)\n",
    "print(classification_report(Y_test, lr_predictions))\n",
    "print(confusion_matrix(Y_test, lr_predictions))"
   ]
  },
  {
   "cell_type": "code",
   "execution_count": 58,
   "id": "fb0954df",
   "metadata": {},
   "outputs": [
    {
     "data": {
      "image/png": "[encoded data removed]",
      "text/plain": [
       "<Figure size 432x288 with 2 Axes>"
      ]
     },
     "metadata": {
      "needs_background": "light"
     },
     "output_type": "display_data"
    }
   ],
   "source": [
    "cm_lr = confusion_matrix(Y_test, lr_predictions)\n",
    "cmd_lr = ConfusionMatrixDisplay(cm_lr, display_labels=['ham','spam'])\n",
    "cmd_lr.plot();"
   ]
  },
  {
   "cell_type": "markdown",
   "id": "82bf464d",
   "metadata": {},
   "source": [
    "### 7.4 SVM"
   ]
  },
  {
   "cell_type": "code",
   "execution_count": 49,
   "id": "258fcdf2",
   "metadata": {},
   "outputs": [],
   "source": [
    "with open('../models/svm_pkl' , 'rb') as f:\n",
    "    svm_SVC = pickle.load(f)"
   ]
  },
  {
   "cell_type": "code",
   "execution_count": 50,
   "id": "b96834c5",
   "metadata": {},
   "outputs": [
    {
     "name": "stdout",
     "output_type": "stream",
     "text": [
      "              precision    recall  f1-score   support\n",
      "\n",
      "           0       0.59      0.25      0.35     24519\n",
      "           1       0.63      0.88      0.74     36000\n",
      "\n",
      "    accuracy                           0.63     60519\n",
      "   macro avg       0.61      0.56      0.54     60519\n",
      "weighted avg       0.62      0.63      0.58     60519\n",
      "\n",
      "[[ 6030 18489]\n",
      " [ 4190 31810]]\n"
     ]
    }
   ],
   "source": [
    "svm_SVC_predictions = svm_SVC.predict(X_test_fitted)\n",
    "print(classification_report(Y_test, svm_SVC_predictions))\n",
    "print(confusion_matrix(Y_test, svm_SVC_predictions))"
   ]
  },
  {
   "cell_type": "code",
   "execution_count": 59,
   "id": "ba51117f",
   "metadata": {},
   "outputs": [
    {
     "data": {
      "image/png": "[encoded data removed]",
      "text/plain": [
       "<Figure size 432x288 with 2 Axes>"
      ]
     },
     "metadata": {
      "needs_background": "light"
     },
     "output_type": "display_data"
    }
   ],
   "source": [
    "cm_svm = confusion_matrix(Y_test, svm_SVC_predictions)\n",
    "cmd_svm = ConfusionMatrixDisplay(cm_svm, display_labels=['ham','spam'])\n",
    "cmd_svm.plot();"
   ]
  },
  {
   "cell_type": "markdown",
   "id": "813fc80d",
   "metadata": {},
   "source": [
    "### 7.5 KNN"
   ]
  },
  {
   "cell_type": "code",
   "execution_count": 51,
   "id": "f7abb1eb",
   "metadata": {},
   "outputs": [],
   "source": [
    "with open('../models/knn_pkl' , 'rb') as f:\n",
    "    knn = pickle.load(f)"
   ]
  },
  {
   "cell_type": "code",
   "execution_count": 52,
   "id": "53963452",
   "metadata": {},
   "outputs": [
    {
     "name": "stdout",
     "output_type": "stream",
     "text": [
      "[[24244   275]\n",
      " [35608   392]]\n",
      "              precision    recall  f1-score   support\n",
      "\n",
      "           0       0.41      0.99      0.57     24519\n",
      "           1       0.59      0.01      0.02     36000\n",
      "\n",
      "    accuracy                           0.41     60519\n",
      "   macro avg       0.50      0.50      0.30     60519\n",
      "weighted avg       0.51      0.41      0.25     60519\n",
      "\n"
     ]
    }
   ],
   "source": [
    "knn_predictions = knn.predict(X_test_fitted)\n",
    "print(confusion_matrix(Y_test, knn_predictions))\n",
    "print(classification_report(Y_test, knn_predictions))"
   ]
  },
  {
   "cell_type": "code",
   "execution_count": 60,
   "id": "713fdc75",
   "metadata": {},
   "outputs": [
    {
     "data": {
      "image/png": "[encoded data removed]",
      "text/plain": [
       "<Figure size 432x288 with 2 Axes>"
      ]
     },
     "metadata": {
      "needs_background": "light"
     },
     "output_type": "display_data"
    }
   ],
   "source": [
    "cm_knn = confusion_matrix(Y_test, knn_predictions)\n",
    "cmd_knn = ConfusionMatrixDisplay(cm_knn, display_labels=['ham','spam'])\n",
    "cmd_knn.plot();"
   ]
  },
  {
   "cell_type": "code",
   "execution_count": null,
   "id": "f56c6542",
   "metadata": {},
   "outputs": [],
   "source": []
  }
 ],
 "metadata": {
  "kernelspec": {
   "display_name": "Python 3 (ipykernel)",
   "language": "python",
   "name": "python3"
  },
  "language_info": {
   "codemirror_mode": {
    "name": "ipython",
    "version": 3
   },
   "file_extension": ".py",
   "mimetype": "text/x-python",
   "name": "python",
   "nbconvert_exporter": "python",
   "pygments_lexer": "ipython3",
   "version": "3.9.5"
  }
 },
 "nbformat": 4,
 "nbformat_minor": 5
}
